{
 "cells": [
  {
   "cell_type": "markdown",
   "metadata": {},
   "source": [
    "# Cleaning Data with Pandas Exercises\n",
    "\n",
    "For the exercises, you will be cleaning data in the Women's Clothing E-Commerce Reviews dataset.\n",
    "\n",
    "To start cleaning data, we first need to create a dataframe from the CSV and print out any relevant info to make sure our dataframe is ready to go."
   ]
  },
  {
   "cell_type": "code",
   "execution_count": null,
   "metadata": {},
   "outputs": [],
   "source": [
    "# Import pandas and any other libraries you need here.\n",
    "import pandas as pd\n",
    "data_file = pd.read_csv('/Users/miafusco/Documents/LaunchCode/data-analysis-projects2/Womens Clothing E-Commerce Reviews.csv')\n",
    "# Create a new dataframe from your CSV\n",
    "data_indexed=data_file.set_index(['Clothing ID','Age','Title','Review Text','Rating','Recommended IND','Positive Feedback Count','Division Name','Department Name','Class Name'])"
   ]
  },
  {
   "cell_type": "code",
   "execution_count": null,
   "metadata": {},
   "outputs": [],
   "source": [
    "# Print out any information you need to understand your dataframe\n",
    "data_indexed_title=data_file.set_index('Title')\n",
    "print(data_indexed_title)"
   ]
  },
  {
   "cell_type": "markdown",
   "metadata": {},
   "source": [
    "## Missing Data\n",
    "\n",
    "Try out different methods to locate and resolve missing data."
   ]
  },
  {
   "cell_type": "code",
   "execution_count": null,
   "metadata": {},
   "outputs": [],
   "source": [
    "# Try to find some missing data!\n",
    "my_series=pd.Series(('Clothing ID','Age','Title','Review Text','Rating','Recommended IND','Positive Feedback Count','Division Name','Department Name','Class Name'))\n",
    "my_series.isna()\n",
    "my_series.isnull()\n",
    "missing_values=data_indexed_title.isna()\n",
    "print(missing_values)\n",
    "# Title                                                                               ...                                            \n",
    "# NaN                                                      False        False  False  ...          False            False       False\n",
    "# NaN                                                      False        False  False  ...          False            False       False\n",
    "# Some major design flaws                                  False        False  False  ...          False            False       False\n",
    "# My favorite buy!                                         False        False  False  ...          False            False       False\n",
    "# Flattering shirt                                         False        False  False  ...          False            False       False\n",
    "# ...                                                        ...          ...    ...  ...            ...              ...         ...\n",
    "# Great dress for many occasions                           False        False  False  ...          False            False       False\n",
    "# Wish it was made of cotton                               False        False  False  ...          False            False       False\n",
    "# Cute, but see through                                    False        False  False  ...          False            False       False\n",
    "# Very cute dress, perfect for summer parties and we       False        False  False  ...          False            False       False\n",
    "# Please make more like this one!                          False        False  False  ...          False            False       False\n",
    "\n",
    "# [23486 rows x 10 columns]\n",
    "data_indexed_title=data_indexed_title.dropna(how=\"any\")\n",
    "print(data_indexed_title)\n",
    "# Title                                                                             ...                                             \n",
    "# NaN                                                          0          767   33  ...       Initmates         Intimate   Intimates\n",
    "# NaN                                                          1         1080   34  ...         General          Dresses     Dresses\n",
    "# Some major design flaws                                      2         1077   60  ...         General          Dresses     Dresses\n",
    "# My favorite buy!                                             3         1049   50  ...  General Petite          Bottoms       Pants\n",
    "# Flattering shirt                                             4          847   47  ...         General             Tops     Blouses\n",
    "# ...                                                        ...          ...  ...  ...             ...              ...         ...\n",
    "# Great dress for many occasions                           23481         1104   34  ...  General Petite          Dresses     Dresses\n",
    "# Wish it was made of cotton                               23482          862   48  ...  General Petite             Tops       Knits\n",
    "# Cute, but see through                                    23483         1104   31  ...  General Petite          Dresses     Dresses\n",
    "# Very cute dress, perfect for summer parties and we       23484         1084   28  ...         General          Dresses     Dresses\n",
    "# Please make more like this one!                          23485         1104   52  ...  General Petite          Dresses     Dresses\n",
    "\n",
    "# [22628 rows x 10 columns]"
   ]
  },
  {
   "cell_type": "markdown",
   "metadata": {},
   "source": [
    "Did you find any missing data? What things worked well for you and what did not?"
   ]
  },
  {
   "cell_type": "code",
   "execution_count": null,
   "metadata": {},
   "outputs": [],
   "source": [
    "# Respond to the above questions here:\n",
    "#Yes.  "
   ]
  },
  {
   "cell_type": "markdown",
   "metadata": {},
   "source": [
    "## Irregular Data\n",
    "\n",
    "With missing data out of the way, turn your attention to any outliers. Just as we did for missing data, we first need to detect the outliers."
   ]
  },
  {
   "cell_type": "code",
   "execution_count": null,
   "metadata": {},
   "outputs": [],
   "source": [
    "# Keep an eye out for outliers!\n",
    "data_indexed_title=data_indexed_title.describe()\n",
    "#      Unnamed: 0   Clothing ID           Age        Rating  Recommended IND  Positive Feedback Count\n",
    "# count  22628.000000  22628.000000  22628.000000  22628.000000     22628.000000             22628.000000\n",
    "# mean   11737.272097    919.695908     43.282880      4.183092         0.818764                 2.631784\n",
    "# std     6781.574232    201.683804     12.328176      1.115911         0.385222                 5.787520\n",
    "# min        0.000000      1.000000     18.000000      1.000000         0.000000                 0.000000\n",
    "# 25%     5868.750000    861.000000     34.000000      4.000000         1.000000                 0.000000\n",
    "# 50%    11727.500000    936.000000     41.000000      5.000000         1.000000                 1.000000\n",
    "# 75%    17617.250000   1078.000000     52.000000      5.000000         1.000000                 3.000000\n",
    "# max    23485.000000   1205.000000     99.000000      5.000000         1.000000               122.000000\n",
    "outlier = [(data_indexed_title['Rating'] < 0.0) & (data_indexed_title['Rating'] > 5.0)]"
   ]
  },
  {
   "cell_type": "markdown",
   "metadata": {},
   "source": [
    "What techniques helped you find outliers? In your opinion, what about the techniques you used made them effective?"
   ]
  },
  {
   "cell_type": "code",
   "execution_count": null,
   "metadata": {},
   "outputs": [],
   "source": [
    "# Make your notes here:\n"
   ]
  },
  {
   "cell_type": "markdown",
   "metadata": {},
   "source": [
    "## Unnecessary Data\n",
    "\n",
    "Unnecessary data could be irrelevant to your analysis or a duplice column. Check out the dataset to see if there is any unnecessary data."
   ]
  },
  {
   "cell_type": "code",
   "execution_count": null,
   "metadata": {},
   "outputs": [],
   "source": [
    "# Look out for unnecessary data!"
   ]
  },
  {
   "cell_type": "markdown",
   "metadata": {},
   "source": [
    "Did you find any unnecessary data in your dataset? How did you handle it?"
   ]
  },
  {
   "cell_type": "code",
   "execution_count": null,
   "metadata": {},
   "outputs": [],
   "source": [
    "# Make your notes here.\n",
    "#It depends what the identified business issue is. If I'm just looking at the department with the highest reviews, I probably don't need age.\n",
    "# However if I'm looking to identify demographics favorite deparmtents to shop, I would need age. "
   ]
  },
  {
   "cell_type": "markdown",
   "metadata": {},
   "source": [
    "## Inconsistent Data\n",
    "\n",
    "Inconsistent data is likely due to inconsistent formatting and can be addressed by re-formatting all values in a column or row."
   ]
  },
  {
   "cell_type": "code",
   "execution_count": null,
   "metadata": {},
   "outputs": [],
   "source": [
    "# Look out for inconsistent data!"
   ]
  },
  {
   "cell_type": "markdown",
   "metadata": {},
   "source": [
    "Did you find any inconsistent data? What did you do to clean it?"
   ]
  },
  {
   "cell_type": "code",
   "execution_count": null,
   "metadata": {},
   "outputs": [],
   "source": [
    "# Make your notes here!\n",
    "# I don't think there is much inconsistent data. "
   ]
  }
 ],
 "metadata": {
  "kernelspec": {
   "display_name": "Python 3 (ipykernel)",
   "language": "python",
   "name": "python3"
  },
  "language_info": {
   "codemirror_mode": {
    "name": "ipython",
    "version": 3
   },
   "file_extension": ".py",
   "mimetype": "text/x-python",
   "name": "python",
   "nbconvert_exporter": "python",
   "pygments_lexer": "ipython3",
   "version": "3.12.4"
  }
 },
 "nbformat": 4,
 "nbformat_minor": 4
}
