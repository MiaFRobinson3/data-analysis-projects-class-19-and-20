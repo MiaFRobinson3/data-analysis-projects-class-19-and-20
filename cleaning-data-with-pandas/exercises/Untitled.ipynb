{
 "cells": [
  {
   "cell_type": "code",
   "execution_count": 7,
   "id": "6c0b3a30-2953-4ae3-a624-f92f731bdf10",
   "metadata": {},
   "outputs": [
    {
     "data": {
      "text/plain": [
       "0    False\n",
       "1    False\n",
       "2    False\n",
       "dtype: bool"
      ]
     },
     "execution_count": 7,
     "metadata": {},
     "output_type": "execute_result"
    }
   ],
   "source": [
    "import pandas as pd\n",
    "import numpy as np\n",
    "my_series=pd.Series([1,2,3])\n",
    "my_series.isna()\n"
   ]
  },
  {
   "cell_type": "code",
   "execution_count": 12,
   "id": "25bf504a-4079-4c35-8325-117598885a47",
   "metadata": {},
   "outputs": [
    {
     "name": "stdout",
     "output_type": "stream",
     "text": [
      "       Clothing ID  Age                                              Title  \\\n",
      "0              767   33                                                NaN   \n",
      "1             1080   34                                                NaN   \n",
      "2             1077   60                            Some major design flaws   \n",
      "3             1049   50                                   My favorite buy!   \n",
      "4              847   47                                   Flattering shirt   \n",
      "...            ...  ...                                                ...   \n",
      "23481         1104   34                     Great dress for many occasions   \n",
      "23482          862   48                         Wish it was made of cotton   \n",
      "23483         1104   31                              Cute, but see through   \n",
      "23484         1084   28  Very cute dress, perfect for summer parties an...   \n",
      "23485         1104   52                    Please make more like this one!   \n",
      "\n",
      "                                             Review Text  Rating  \\\n",
      "0      Absolutely wonderful - silky and sexy and comf...       4   \n",
      "1      Love this dress!  it's sooo pretty.  i happene...       5   \n",
      "2      I had such high hopes for this dress and reall...       3   \n",
      "3      I love, love, love this jumpsuit. it's fun, fl...       5   \n",
      "4      This shirt is very flattering to all due to th...       5   \n",
      "...                                                  ...     ...   \n",
      "23481  I was very happy to snag this dress at such a ...       5   \n",
      "23482  It reminds me of maternity clothes. soft, stre...       3   \n",
      "23483  This fit well, but the top was very see throug...       3   \n",
      "23484  I bought this dress for a wedding i have this ...       3   \n",
      "23485  This dress in a lovely platinum is feminine an...       5   \n",
      "\n",
      "       Recommended IND  Positive Feedback Count   Division Name  \\\n",
      "0                    1                        0       Initmates   \n",
      "1                    1                        4         General   \n",
      "2                    0                        0         General   \n",
      "3                    1                        0  General Petite   \n",
      "4                    1                        6         General   \n",
      "...                ...                      ...             ...   \n",
      "23481                1                        0  General Petite   \n",
      "23482                1                        0  General Petite   \n",
      "23483                0                        1  General Petite   \n",
      "23484                1                        2         General   \n",
      "23485                1                       22  General Petite   \n",
      "\n",
      "      Department Name Class Name  \n",
      "0            Intimate  Intimates  \n",
      "1             Dresses    Dresses  \n",
      "2             Dresses    Dresses  \n",
      "3             Bottoms      Pants  \n",
      "4                Tops    Blouses  \n",
      "...               ...        ...  \n",
      "23481         Dresses    Dresses  \n",
      "23482            Tops      Knits  \n",
      "23483         Dresses    Dresses  \n",
      "23484         Dresses    Dresses  \n",
      "23485         Dresses    Dresses  \n",
      "\n",
      "[23486 rows x 10 columns]\n"
     ]
    }
   ],
   "source": [
    "data_file = pd.read_csv('/Users/miafusco/Documents/LaunchCode/data-analysis-projects2/Womens Clothing E-Commerce Reviews.csv',index_col=0)\n",
    "print(data_file)"
   ]
  },
  {
   "cell_type": "code",
   "execution_count": 14,
   "id": "bb2850c4-1c67-465e-bbb0-482e035a94d4",
   "metadata": {},
   "outputs": [
    {
     "name": "stdout",
     "output_type": "stream",
     "text": [
      "Clothing ID                   0\n",
      "Age                           0\n",
      "Title                      3810\n",
      "Review Text                 845\n",
      "Rating                        0\n",
      "Recommended IND               0\n",
      "Positive Feedback Count       0\n",
      "Division Name                14\n",
      "Department Name              14\n",
      "Class Name                   14\n",
      "dtype: int64\n"
     ]
    }
   ],
   "source": [
    "print(data_file.isnull().sum())"
   ]
  },
  {
   "cell_type": "code",
   "execution_count": 16,
   "id": "4fb543e2-8c35-40dd-a230-cea6413808b9",
   "metadata": {},
   "outputs": [
    {
     "name": "stdout",
     "output_type": "stream",
     "text": [
      "(23486, 10)\n"
     ]
    }
   ],
   "source": [
    "print(data_file.shape)"
   ]
  },
  {
   "cell_type": "code",
   "execution_count": 18,
   "id": "c597f377-8bd4-4162-b703-0fa70113af9d",
   "metadata": {},
   "outputs": [
    {
     "name": "stdout",
     "output_type": "stream",
     "text": [
      "    Clothing ID  Age                                              Title                                                                                                                                                                                                                                                                                                                                                                                                                                                                                                             Review Text  Rating  Recommended IND  Positive Feedback Count   Division Name Department Name Class Name\n",
      "0           767   33                                                NaN                                                                                                                                                                                                                                                                                                                                                                                                                                                                   Absolutely wonderful - silky and sexy and comfortable       4                1                        0       Initmates        Intimate  Intimates\n",
      "1          1080   34                                                NaN                                                                                                                                                                                                         Love this dress!  it's sooo pretty.  i happened to find it in a store, and i'm glad i did bc i never would have ordered it online bc it's petite.  i bought a petite and am 5'8\".  i love the length on me- hits just a little below the knee.  would definitely be a true midi on someone who is truly petite.       5                1                        4         General         Dresses    Dresses\n",
      "2          1077   60                            Some major design flaws    I had such high hopes for this dress and really wanted it to work for me. i initially ordered the petite small (my usual size) but i found this to be outrageously small. so small in fact that i could not zip it up! i reordered it in petite medium, which was just ok. overall, the top half was comfortable and fit nicely, but the bottom half had a very tight under layer and several somewhat cheap (net) over layers. imo, a major design flaw was the net over layer sewn directly into the zipper - it c       3                0                        0         General         Dresses    Dresses\n",
      "3          1049   50                                   My favorite buy!                                                                                                                                                                                                                                                                                                                                                                                            I love, love, love this jumpsuit. it's fun, flirty, and fabulous! every time i wear it, i get nothing but great compliments!       5                1                        0  General Petite         Bottoms      Pants\n",
      "4           847   47                                   Flattering shirt                                                                                                                                                                                                                                                                                                                        This shirt is very flattering to all due to the adjustable front tie. it is the perfect length to wear with leggings and it is sleeveless so it pairs well with any cardigan. love this shirt!!!       5                1                        6         General            Tops    Blouses\n",
      "5          1080   49                            Not for the very petite                I love tracy reese dresses, but this one is not for the very petite. i am just under 5 feet tall and usually wear a 0p in this brand. this dress was very pretty out of the package but its a lot of dress. the skirt is long and very full so it overwhelmed my small frame. not a stranger to alterations, shortening and narrowing the skirt would take away from the embellishment of the garment. i love the color and the idea of the style but it just did not work on me. i returned this dress.       2                0                        4         General         Dresses    Dresses\n",
      "6           858   39                               Cagrcoal shimmer fun        I aded this in my basket at hte last mintue to see what it would look like in person. (store pick up). i went with teh darkler color only because i am so pale :-) hte color is really gorgeous, and turns out it mathced everythiing i was trying on with it prefectly. it is a little baggy on me and hte xs is hte msallet size (bummer, no petite). i decided to jkeep it though, because as i said, it matvehd everything. my ejans, pants, and the 3 skirts i waas trying on (of which i ]kept all ) oops.       5                1                        1  General Petite            Tops      Knits\n",
      "7           858   39               Shimmer, surprisingly goes with lots                      I ordered this in carbon for store pick up, and had a ton of stuff (as always) to try on and used this top to pair (skirts and pants). everything went with it. the color is really nice charcoal with shimmer, and went well with pencil skirts, flare pants, etc. my only compaint is it is a bit big, sleeves are long and it doesn't go in petite. also a bit loose for me, but no xxs... so i kept it and wil ldecide later since the light color is already sold out in hte smallest size...       4                1                        4  General Petite            Tops      Knits\n",
      "8          1077   24                                         Flattering                                                                                                                                                                                                                                                                                                                                                  I love this dress. i usually get an xs but it runs a little snug in bust so i ordered up a size. very flattering and feminine with the usual retailer flair for style.       5                1                        0         General         Dresses    Dresses\n",
      "9          1077   34                                  Such a fun dress!                                                                                                                                                I'm 5\"5' and 125 lbs. i ordered the s petite to make sure the length wasn't too long. i typically wear an xs regular in retailer dresses. if you're less busty (34b cup or smaller), a s petite will fit you perfectly (snug, but not tight). i love that i could dress it up for a party, or down for work. i love that the tulle is longer then the fabric underneath.       5                1                        0         General         Dresses    Dresses\n",
      "10         1077   53       Dress looks like it's made of cheap material                                                                                                                                                                        Dress runs small esp where the zipper area runs. i ordered the sp which typically fits me and it was very tight! the material on the top looks and feels very cheap that even just pulling on it will cause it to rip the fabric. pretty disappointed as it was going to be my christmas dress this year! needless to say it will be going back.       3                0                       14         General         Dresses    Dresses\n",
      "11         1095   39                                                NaN                                                                                                                                                                                                                                                                                                                                                                                                                                                                     This dress is perfection! so pretty and flattering.       5                1                        2  General Petite         Dresses    Dresses\n",
      "12         1095   53                                         Perfect!!!  More and more i find myself reliant on the reviews written by savvy shoppers before me and for the most past, they are right on in their estimation of the product. in the case of this dress-if it had not been for the reveiws-i doubt i would have even tried this. the dress is beautifully made, lined and reminiscent of the old retailer quality. it is lined in the solid periwinkle-colored fabric that matches the outer fabric print. tts and very form-fitting. falls just above the knee and does not rid       5                1                        2  General Petite         Dresses    Dresses\n",
      "13          767   44                                           Runs big                                                                                                                         Bought the black xs to go under the larkspur midi dress because they didn't bother lining the skirt portion (grrrrrrrrrrr).\\r\\nmy stats are 34a-28/29-36 and the xs fit very smoothly around the chest and was flowy around my lower half, so i would say it's running big.\\r\\nthe straps are very pretty and it could easily be nightwear too.\\r\\ni'm 5'6\" and it came to just below my knees.       5                1                        0       Initmates        Intimate  Intimates\n",
      "14         1077   50                Pretty party dress with some issues    This is a nice choice for holiday gatherings. i like that the length grazes the knee so it is conservative enough for office related gatherings. the size small fit me well - i am usually a size 2/4 with a small bust. in my opinion it runs small and those with larger busts will definitely have to size up (but then perhaps the waist will be too big). the problem with this dress is the quality. the fabrics are terrible. the delicate netting type fabric on the top layer of skirt got stuck in the zip       3                1                        1         General         Dresses    Dresses\n",
      "15         1065   47                          Nice, but not for my body                                  I took these out of the package and wanted them to fit so badly, but i could tell before i put them on that they wouldn't. these are for an hour-glass figure. i am more straight up and down. the waist was way too small for my body shape and even if i sized up, i could tell they would still be tight in the waist and too roomy in the hips - for me. that said, they are really nice. sturdy, linen-like fabric, pretty color, well made. i hope they make someone very happy!       4                1                        3         General         Bottoms      Pants\n",
      "16         1065   34  You need to be at least average height, or taller                                                                                                                                                 Material and color is nice.  the leg opening is very large.  i am 5'1 (100#) and the length hits me right above my ankle.  with a leg opening the size of my waist and hem line above my ankle, and front pleats to make me fluffy, i think you can imagine that it is not a flattering look.  if you are at least average height or taller, this may look good on you.       3                1                        2         General         Bottoms      Pants\n",
      "17          853   41                       Looks great with white pants                                                                                                                                                                                                                Took a chance on this blouse and so glad i did. i wasn't crazy about how the blouse is photographed on the model. i paired it whit white pants and it worked perfectly. crisp and clean is how i would describe it. launders well. fits great. drape is perfect. wear tucked in or out - can't go wrong.       5                1                        0         General            Tops    Blouses\n",
      "18         1120   32                                Super cute and cozy                                                                                                                                                                                                                                                                                                                                                 A flattering, super cozy coat.  will work well for cold, dry days and will look good with jeans or a dressier outfit.  i am 5' 5'', about 135 and the small fits great.       5                1                        0         General         Jackets  Outerwear\n",
      "19         1077   47                            Stylish and comfortable                                                                                                                                                                                                                    I love the look and feel of this tulle dress. i was looking for something different, but not over the top for new year's eve. i'm small chested and the top of this dress is form fitting for a flattering look. once i steamed the tulle, it was perfect! i ordered an xsp. length was perfect too.       5                1                        0         General         Dresses    Dresses\n",
      "20          847   33                                  Cute, crisp shirt                                                                                                                                                                                                      If this product was in petite, i would get the petite. the regular is a little long on me but a tailor can do a simple fix on that. \\r\\n\\r\\nfits nicely! i'm 5'4, 130lb and pregnant so i bough t medium to grow into. \\r\\n\\r\\nthe tie can be front or back so provides for some nice flexibility on form fitting.       4                1                        2         General            Tops    Blouses\n",
      "21         1080   55                                          I'm torn!    I'm upset because for the price of the dress, i thought it was embroidered! no, that is a print on the fabric. i think i cried a little when i opened the box. it is still ver pretty. i would say it is true to size, it is a tad bit big on me, but i am very tiny, but i can still get away with it. the color is vibrant. the style is unique. skirt portion is pretty poofy. i keep going back and forth on it mainly because of the price, although the quality is definitely there. except i wish it were emb       4                1                       14         General         Dresses    Dresses\n",
      "22         1077   31                             Not what it looks like                                                               First of all, this is not pullover styling. there is a side zipper. i wouldn't have purchased it if i knew there was a side zipper because i have a large bust and side zippers are next to impossible for me.\\n\\nsecond of all, the tulle feels and looks cheap and the slip has an awkward tight shape underneath.\\n\\nnot at all what is looks like or is described as. sadly will be returning, but i'm sure i will find something to exchange it for!       2                0                        7         General         Dresses    Dresses\n",
      "23         1077   34                        Like it, but don't love it.                                                                                                                                                                                                                                                                                                              Cute little dress fits tts. it is a little high waisted. good length for my 5'9 height. i like the dress, i'm just not in love with it. i dont think it looks or feels cheap. it appears just as pictured.       3                1                        0         General         Dresses    Dresses\n",
      "24          847   55                                          Versatile                                                             I love this shirt because when i first saw it, i wasn't sure if it was a shirt or dress. since it is see-through if you wear it like a dress you will need a slip or wear it with leggings. i bought a slip, wore the tie in the back, and rocked it with white wedges. you could also wear it as a vest. be careful with the buttons. i haven't had any fall off yet, but i feel like they will. overall it's great for any occasion and it's fun to wear!       5                1                        0         General            Tops    Blouses\n"
     ]
    }
   ],
   "source": [
    "print(data_file.head(25).to_string())"
   ]
  },
  {
   "cell_type": "code",
   "execution_count": 24,
   "id": "3c29fcf4-cbbc-472c-b9b9-ef2f17f5181b",
   "metadata": {},
   "outputs": [
    {
     "name": "stdout",
     "output_type": "stream",
     "text": [
      "(19662, 10)\n"
     ]
    }
   ],
   "source": [
    "data_file_cleaned =data_file.dropna()\n",
    "print(data_file_cleaned.shape)"
   ]
  },
  {
   "cell_type": "code",
   "execution_count": 25,
   "id": "21f33559-d2fa-4eff-8bf9-a81eac1a8d9c",
   "metadata": {},
   "outputs": [
    {
     "name": "stdout",
     "output_type": "stream",
     "text": [
      "    Clothing ID  Age                                              Title                                                                                                                                                                                                                                                                                                                                                                                                                                                                                                             Review Text  Rating  Recommended IND  Positive Feedback Count   Division Name Department Name Class Name\n",
      "2          1077   60                            Some major design flaws    I had such high hopes for this dress and really wanted it to work for me. i initially ordered the petite small (my usual size) but i found this to be outrageously small. so small in fact that i could not zip it up! i reordered it in petite medium, which was just ok. overall, the top half was comfortable and fit nicely, but the bottom half had a very tight under layer and several somewhat cheap (net) over layers. imo, a major design flaw was the net over layer sewn directly into the zipper - it c       3                0                        0         General         Dresses    Dresses\n",
      "3          1049   50                                   My favorite buy!                                                                                                                                                                                                                                                                                                                                                                                            I love, love, love this jumpsuit. it's fun, flirty, and fabulous! every time i wear it, i get nothing but great compliments!       5                1                        0  General Petite         Bottoms      Pants\n",
      "4           847   47                                   Flattering shirt                                                                                                                                                                                                                                                                                                                        This shirt is very flattering to all due to the adjustable front tie. it is the perfect length to wear with leggings and it is sleeveless so it pairs well with any cardigan. love this shirt!!!       5                1                        6         General            Tops    Blouses\n",
      "5          1080   49                            Not for the very petite                I love tracy reese dresses, but this one is not for the very petite. i am just under 5 feet tall and usually wear a 0p in this brand. this dress was very pretty out of the package but its a lot of dress. the skirt is long and very full so it overwhelmed my small frame. not a stranger to alterations, shortening and narrowing the skirt would take away from the embellishment of the garment. i love the color and the idea of the style but it just did not work on me. i returned this dress.       2                0                        4         General         Dresses    Dresses\n",
      "6           858   39                               Cagrcoal shimmer fun        I aded this in my basket at hte last mintue to see what it would look like in person. (store pick up). i went with teh darkler color only because i am so pale :-) hte color is really gorgeous, and turns out it mathced everythiing i was trying on with it prefectly. it is a little baggy on me and hte xs is hte msallet size (bummer, no petite). i decided to jkeep it though, because as i said, it matvehd everything. my ejans, pants, and the 3 skirts i waas trying on (of which i ]kept all ) oops.       5                1                        1  General Petite            Tops      Knits\n",
      "7           858   39               Shimmer, surprisingly goes with lots                      I ordered this in carbon for store pick up, and had a ton of stuff (as always) to try on and used this top to pair (skirts and pants). everything went with it. the color is really nice charcoal with shimmer, and went well with pencil skirts, flare pants, etc. my only compaint is it is a bit big, sleeves are long and it doesn't go in petite. also a bit loose for me, but no xxs... so i kept it and wil ldecide later since the light color is already sold out in hte smallest size...       4                1                        4  General Petite            Tops      Knits\n",
      "8          1077   24                                         Flattering                                                                                                                                                                                                                                                                                                                                                  I love this dress. i usually get an xs but it runs a little snug in bust so i ordered up a size. very flattering and feminine with the usual retailer flair for style.       5                1                        0         General         Dresses    Dresses\n",
      "9          1077   34                                  Such a fun dress!                                                                                                                                                I'm 5\"5' and 125 lbs. i ordered the s petite to make sure the length wasn't too long. i typically wear an xs regular in retailer dresses. if you're less busty (34b cup or smaller), a s petite will fit you perfectly (snug, but not tight). i love that i could dress it up for a party, or down for work. i love that the tulle is longer then the fabric underneath.       5                1                        0         General         Dresses    Dresses\n",
      "10         1077   53       Dress looks like it's made of cheap material                                                                                                                                                                        Dress runs small esp where the zipper area runs. i ordered the sp which typically fits me and it was very tight! the material on the top looks and feels very cheap that even just pulling on it will cause it to rip the fabric. pretty disappointed as it was going to be my christmas dress this year! needless to say it will be going back.       3                0                       14         General         Dresses    Dresses\n",
      "12         1095   53                                         Perfect!!!  More and more i find myself reliant on the reviews written by savvy shoppers before me and for the most past, they are right on in their estimation of the product. in the case of this dress-if it had not been for the reveiws-i doubt i would have even tried this. the dress is beautifully made, lined and reminiscent of the old retailer quality. it is lined in the solid periwinkle-colored fabric that matches the outer fabric print. tts and very form-fitting. falls just above the knee and does not rid       5                1                        2  General Petite         Dresses    Dresses\n",
      "13          767   44                                           Runs big                                                                                                                         Bought the black xs to go under the larkspur midi dress because they didn't bother lining the skirt portion (grrrrrrrrrrr).\\r\\nmy stats are 34a-28/29-36 and the xs fit very smoothly around the chest and was flowy around my lower half, so i would say it's running big.\\r\\nthe straps are very pretty and it could easily be nightwear too.\\r\\ni'm 5'6\" and it came to just below my knees.       5                1                        0       Initmates        Intimate  Intimates\n",
      "14         1077   50                Pretty party dress with some issues    This is a nice choice for holiday gatherings. i like that the length grazes the knee so it is conservative enough for office related gatherings. the size small fit me well - i am usually a size 2/4 with a small bust. in my opinion it runs small and those with larger busts will definitely have to size up (but then perhaps the waist will be too big). the problem with this dress is the quality. the fabrics are terrible. the delicate netting type fabric on the top layer of skirt got stuck in the zip       3                1                        1         General         Dresses    Dresses\n",
      "15         1065   47                          Nice, but not for my body                                  I took these out of the package and wanted them to fit so badly, but i could tell before i put them on that they wouldn't. these are for an hour-glass figure. i am more straight up and down. the waist was way too small for my body shape and even if i sized up, i could tell they would still be tight in the waist and too roomy in the hips - for me. that said, they are really nice. sturdy, linen-like fabric, pretty color, well made. i hope they make someone very happy!       4                1                        3         General         Bottoms      Pants\n",
      "16         1065   34  You need to be at least average height, or taller                                                                                                                                                 Material and color is nice.  the leg opening is very large.  i am 5'1 (100#) and the length hits me right above my ankle.  with a leg opening the size of my waist and hem line above my ankle, and front pleats to make me fluffy, i think you can imagine that it is not a flattering look.  if you are at least average height or taller, this may look good on you.       3                1                        2         General         Bottoms      Pants\n",
      "17          853   41                       Looks great with white pants                                                                                                                                                                                                                Took a chance on this blouse and so glad i did. i wasn't crazy about how the blouse is photographed on the model. i paired it whit white pants and it worked perfectly. crisp and clean is how i would describe it. launders well. fits great. drape is perfect. wear tucked in or out - can't go wrong.       5                1                        0         General            Tops    Blouses\n",
      "18         1120   32                                Super cute and cozy                                                                                                                                                                                                                                                                                                                                                 A flattering, super cozy coat.  will work well for cold, dry days and will look good with jeans or a dressier outfit.  i am 5' 5'', about 135 and the small fits great.       5                1                        0         General         Jackets  Outerwear\n",
      "19         1077   47                            Stylish and comfortable                                                                                                                                                                                                                    I love the look and feel of this tulle dress. i was looking for something different, but not over the top for new year's eve. i'm small chested and the top of this dress is form fitting for a flattering look. once i steamed the tulle, it was perfect! i ordered an xsp. length was perfect too.       5                1                        0         General         Dresses    Dresses\n",
      "20          847   33                                  Cute, crisp shirt                                                                                                                                                                                                      If this product was in petite, i would get the petite. the regular is a little long on me but a tailor can do a simple fix on that. \\r\\n\\r\\nfits nicely! i'm 5'4, 130lb and pregnant so i bough t medium to grow into. \\r\\n\\r\\nthe tie can be front or back so provides for some nice flexibility on form fitting.       4                1                        2         General            Tops    Blouses\n",
      "21         1080   55                                          I'm torn!    I'm upset because for the price of the dress, i thought it was embroidered! no, that is a print on the fabric. i think i cried a little when i opened the box. it is still ver pretty. i would say it is true to size, it is a tad bit big on me, but i am very tiny, but i can still get away with it. the color is vibrant. the style is unique. skirt portion is pretty poofy. i keep going back and forth on it mainly because of the price, although the quality is definitely there. except i wish it were emb       4                1                       14         General         Dresses    Dresses\n",
      "22         1077   31                             Not what it looks like                                                               First of all, this is not pullover styling. there is a side zipper. i wouldn't have purchased it if i knew there was a side zipper because i have a large bust and side zippers are next to impossible for me.\\n\\nsecond of all, the tulle feels and looks cheap and the slip has an awkward tight shape underneath.\\n\\nnot at all what is looks like or is described as. sadly will be returning, but i'm sure i will find something to exchange it for!       2                0                        7         General         Dresses    Dresses\n",
      "23         1077   34                        Like it, but don't love it.                                                                                                                                                                                                                                                                                                              Cute little dress fits tts. it is a little high waisted. good length for my 5'9 height. i like the dress, i'm just not in love with it. i dont think it looks or feels cheap. it appears just as pictured.       3                1                        0         General         Dresses    Dresses\n",
      "24          847   55                                          Versatile                                                             I love this shirt because when i first saw it, i wasn't sure if it was a shirt or dress. since it is see-through if you wear it like a dress you will need a slip or wear it with leggings. i bought a slip, wore the tie in the back, and rocked it with white wedges. you could also wear it as a vest. be careful with the buttons. i haven't had any fall off yet, but i feel like they will. overall it's great for any occasion and it's fun to wear!       5                1                        0         General            Tops    Blouses\n",
      "25          697   31                                         Falls flat                                                                                                                                                                    Loved the material, but i didnt really look at how long the dress was before i purchased both a large and a medium. im 5'5\" and there was atleast 5\" of material at my feet. the gaps in the front are much wider than they look. felt like the dress just fell flat. both were returned. im usually a large and the med fit better. 36d 30 in jeans       3                0                        0       Initmates        Intimate     Lounge\n",
      "26          949   33                                Huge disappointment    I have been waiting for this sweater coat to ship for weeks and i was so excited for it to arrive. this coat is not true to size and made me look short and squat. the sleeves are very wide (although long). as a light weight fall coat the sleeves don't need to be as wide because you wouldn't be layerng too much underneath. the buttons need to be moved at least three inches in for a nicer fit. i thought about redoing the buttons myself but the sleeves looked even more out of proportion with a tigh       2                0                        0         General            Tops   Sweaters\n",
      "27         1003   31                                Loved, but returned                                                                                                                                                                                                                                                                   The colors weren't what i expected either. the dark blue is much more vibrant and i just couldn't find anything to really go with it. fabric is thick and good quality. has nice weight and movement to it. the skirt just wasn't for me, in the end.       4                1                        0         General         Bottoms     Skirts\n"
     ]
    }
   ],
   "source": [
    "print(data_file_cleaned.head(25).to_string())"
   ]
  },
  {
   "cell_type": "code",
   "execution_count": 29,
   "id": "156c5608-9238-44b6-aebe-b47da127451f",
   "metadata": {},
   "outputs": [
    {
     "name": "stdout",
     "output_type": "stream",
     "text": [
      "    Clothing ID  Age                                              Title                                                                                                                                                                                                                                                                                                                                                                                                                                                                                                             Review Text  Rating  Recommended IND  Positive Feedback Count   Division Name Department Name Class Name\n",
      "0           767   33                                                NaN                                                                                                                                                                                                                                                                                                                                                                                                                                                                   Absolutely wonderful - silky and sexy and comfortable       4                1                        0       Initmates        Intimate  Intimates\n",
      "1          1080   34                                                NaN                                                                                                                                                                                                         Love this dress!  it's sooo pretty.  i happened to find it in a store, and i'm glad i did bc i never would have ordered it online bc it's petite.  i bought a petite and am 5'8\".  i love the length on me- hits just a little below the knee.  would definitely be a true midi on someone who is truly petite.       5                1                        4         General         Dresses    Dresses\n",
      "2          1077   60                            Some major design flaws    I had such high hopes for this dress and really wanted it to work for me. i initially ordered the petite small (my usual size) but i found this to be outrageously small. so small in fact that i could not zip it up! i reordered it in petite medium, which was just ok. overall, the top half was comfortable and fit nicely, but the bottom half had a very tight under layer and several somewhat cheap (net) over layers. imo, a major design flaw was the net over layer sewn directly into the zipper - it c       3                0                        0         General         Dresses    Dresses\n",
      "3          1049   50                                   My favorite buy!                                                                                                                                                                                                                                                                                                                                                                                            I love, love, love this jumpsuit. it's fun, flirty, and fabulous! every time i wear it, i get nothing but great compliments!       5                1                        0  General Petite         Bottoms      Pants\n",
      "4           847   47                                   Flattering shirt                                                                                                                                                                                                                                                                                                                        This shirt is very flattering to all due to the adjustable front tie. it is the perfect length to wear with leggings and it is sleeveless so it pairs well with any cardigan. love this shirt!!!       5                1                        6         General            Tops    Blouses\n",
      "5          1080   49                            Not for the very petite                I love tracy reese dresses, but this one is not for the very petite. i am just under 5 feet tall and usually wear a 0p in this brand. this dress was very pretty out of the package but its a lot of dress. the skirt is long and very full so it overwhelmed my small frame. not a stranger to alterations, shortening and narrowing the skirt would take away from the embellishment of the garment. i love the color and the idea of the style but it just did not work on me. i returned this dress.       2                0                        4         General         Dresses    Dresses\n",
      "6           858   39                               Cagrcoal shimmer fun        I aded this in my basket at hte last mintue to see what it would look like in person. (store pick up). i went with teh darkler color only because i am so pale :-) hte color is really gorgeous, and turns out it mathced everythiing i was trying on with it prefectly. it is a little baggy on me and hte xs is hte msallet size (bummer, no petite). i decided to jkeep it though, because as i said, it matvehd everything. my ejans, pants, and the 3 skirts i waas trying on (of which i ]kept all ) oops.       5                1                        1  General Petite            Tops      Knits\n",
      "7           858   39               Shimmer, surprisingly goes with lots                      I ordered this in carbon for store pick up, and had a ton of stuff (as always) to try on and used this top to pair (skirts and pants). everything went with it. the color is really nice charcoal with shimmer, and went well with pencil skirts, flare pants, etc. my only compaint is it is a bit big, sleeves are long and it doesn't go in petite. also a bit loose for me, but no xxs... so i kept it and wil ldecide later since the light color is already sold out in hte smallest size...       4                1                        4  General Petite            Tops      Knits\n",
      "8          1077   24                                         Flattering                                                                                                                                                                                                                                                                                                                                                  I love this dress. i usually get an xs but it runs a little snug in bust so i ordered up a size. very flattering and feminine with the usual retailer flair for style.       5                1                        0         General         Dresses    Dresses\n",
      "9          1077   34                                  Such a fun dress!                                                                                                                                                I'm 5\"5' and 125 lbs. i ordered the s petite to make sure the length wasn't too long. i typically wear an xs regular in retailer dresses. if you're less busty (34b cup or smaller), a s petite will fit you perfectly (snug, but not tight). i love that i could dress it up for a party, or down for work. i love that the tulle is longer then the fabric underneath.       5                1                        0         General         Dresses    Dresses\n",
      "10         1077   53       Dress looks like it's made of cheap material                                                                                                                                                                        Dress runs small esp where the zipper area runs. i ordered the sp which typically fits me and it was very tight! the material on the top looks and feels very cheap that even just pulling on it will cause it to rip the fabric. pretty disappointed as it was going to be my christmas dress this year! needless to say it will be going back.       3                0                       14         General         Dresses    Dresses\n",
      "11         1095   39                                                NaN                                                                                                                                                                                                                                                                                                                                                                                                                                                                     This dress is perfection! so pretty and flattering.       5                1                        2  General Petite         Dresses    Dresses\n",
      "12         1095   53                                         Perfect!!!  More and more i find myself reliant on the reviews written by savvy shoppers before me and for the most past, they are right on in their estimation of the product. in the case of this dress-if it had not been for the reveiws-i doubt i would have even tried this. the dress is beautifully made, lined and reminiscent of the old retailer quality. it is lined in the solid periwinkle-colored fabric that matches the outer fabric print. tts and very form-fitting. falls just above the knee and does not rid       5                1                        2  General Petite         Dresses    Dresses\n",
      "13          767   44                                           Runs big                                                                                                                         Bought the black xs to go under the larkspur midi dress because they didn't bother lining the skirt portion (grrrrrrrrrrr).\\r\\nmy stats are 34a-28/29-36 and the xs fit very smoothly around the chest and was flowy around my lower half, so i would say it's running big.\\r\\nthe straps are very pretty and it could easily be nightwear too.\\r\\ni'm 5'6\" and it came to just below my knees.       5                1                        0       Initmates        Intimate  Intimates\n",
      "14         1077   50                Pretty party dress with some issues    This is a nice choice for holiday gatherings. i like that the length grazes the knee so it is conservative enough for office related gatherings. the size small fit me well - i am usually a size 2/4 with a small bust. in my opinion it runs small and those with larger busts will definitely have to size up (but then perhaps the waist will be too big). the problem with this dress is the quality. the fabrics are terrible. the delicate netting type fabric on the top layer of skirt got stuck in the zip       3                1                        1         General         Dresses    Dresses\n",
      "15         1065   47                          Nice, but not for my body                                  I took these out of the package and wanted them to fit so badly, but i could tell before i put them on that they wouldn't. these are for an hour-glass figure. i am more straight up and down. the waist was way too small for my body shape and even if i sized up, i could tell they would still be tight in the waist and too roomy in the hips - for me. that said, they are really nice. sturdy, linen-like fabric, pretty color, well made. i hope they make someone very happy!       4                1                        3         General         Bottoms      Pants\n",
      "16         1065   34  You need to be at least average height, or taller                                                                                                                                                 Material and color is nice.  the leg opening is very large.  i am 5'1 (100#) and the length hits me right above my ankle.  with a leg opening the size of my waist and hem line above my ankle, and front pleats to make me fluffy, i think you can imagine that it is not a flattering look.  if you are at least average height or taller, this may look good on you.       3                1                        2         General         Bottoms      Pants\n",
      "17          853   41                       Looks great with white pants                                                                                                                                                                                                                Took a chance on this blouse and so glad i did. i wasn't crazy about how the blouse is photographed on the model. i paired it whit white pants and it worked perfectly. crisp and clean is how i would describe it. launders well. fits great. drape is perfect. wear tucked in or out - can't go wrong.       5                1                        0         General            Tops    Blouses\n",
      "18         1120   32                                Super cute and cozy                                                                                                                                                                                                                                                                                                                                                 A flattering, super cozy coat.  will work well for cold, dry days and will look good with jeans or a dressier outfit.  i am 5' 5'', about 135 and the small fits great.       5                1                        0         General         Jackets  Outerwear\n",
      "19         1077   47                            Stylish and comfortable                                                                                                                                                                                                                    I love the look and feel of this tulle dress. i was looking for something different, but not over the top for new year's eve. i'm small chested and the top of this dress is form fitting for a flattering look. once i steamed the tulle, it was perfect! i ordered an xsp. length was perfect too.       5                1                        0         General         Dresses    Dresses\n",
      "20          847   33                                  Cute, crisp shirt                                                                                                                                                                                                      If this product was in petite, i would get the petite. the regular is a little long on me but a tailor can do a simple fix on that. \\r\\n\\r\\nfits nicely! i'm 5'4, 130lb and pregnant so i bough t medium to grow into. \\r\\n\\r\\nthe tie can be front or back so provides for some nice flexibility on form fitting.       4                1                        2         General            Tops    Blouses\n",
      "21         1080   55                                          I'm torn!    I'm upset because for the price of the dress, i thought it was embroidered! no, that is a print on the fabric. i think i cried a little when i opened the box. it is still ver pretty. i would say it is true to size, it is a tad bit big on me, but i am very tiny, but i can still get away with it. the color is vibrant. the style is unique. skirt portion is pretty poofy. i keep going back and forth on it mainly because of the price, although the quality is definitely there. except i wish it were emb       4                1                       14         General         Dresses    Dresses\n",
      "22         1077   31                             Not what it looks like                                                               First of all, this is not pullover styling. there is a side zipper. i wouldn't have purchased it if i knew there was a side zipper because i have a large bust and side zippers are next to impossible for me.\\n\\nsecond of all, the tulle feels and looks cheap and the slip has an awkward tight shape underneath.\\n\\nnot at all what is looks like or is described as. sadly will be returning, but i'm sure i will find something to exchange it for!       2                0                        7         General         Dresses    Dresses\n",
      "23         1077   34                        Like it, but don't love it.                                                                                                                                                                                                                                                                                                              Cute little dress fits tts. it is a little high waisted. good length for my 5'9 height. i like the dress, i'm just not in love with it. i dont think it looks or feels cheap. it appears just as pictured.       3                1                        0         General         Dresses    Dresses\n",
      "24          847   55                                          Versatile                                                             I love this shirt because when i first saw it, i wasn't sure if it was a shirt or dress. since it is see-through if you wear it like a dress you will need a slip or wear it with leggings. i bought a slip, wore the tie in the back, and rocked it with white wedges. you could also wear it as a vest. be careful with the buttons. i haven't had any fall off yet, but i feel like they will. overall it's great for any occasion and it's fun to wear!       5                1                        0         General            Tops    Blouses\n"
     ]
    }
   ],
   "source": [
    "import pandas as pd\n",
    "data_file = pd.read_csv('/Users/miafusco/Documents/LaunchCode/data-analysis-projects2/Womens Clothing E-Commerce Reviews.csv', index_col=0) \n",
    "print(data_file.head(25).to_string())"
   ]
  },
  {
   "cell_type": "code",
   "execution_count": null,
   "id": "5ec5cb83-58d1-4411-b24a-d4c881f9d0c2",
   "metadata": {},
   "outputs": [],
   "source": []
  }
 ],
 "metadata": {
  "kernelspec": {
   "display_name": "Python 3 (ipykernel)",
   "language": "python",
   "name": "python3"
  },
  "language_info": {
   "codemirror_mode": {
    "name": "ipython",
    "version": 3
   },
   "file_extension": ".py",
   "mimetype": "text/x-python",
   "name": "python",
   "nbconvert_exporter": "python",
   "pygments_lexer": "ipython3",
   "version": "3.12.4"
  }
 },
 "nbformat": 4,
 "nbformat_minor": 5
}
