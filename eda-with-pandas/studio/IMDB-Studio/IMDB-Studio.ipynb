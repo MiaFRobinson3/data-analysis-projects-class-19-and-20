{
 "cells": [
  {
   "cell_type": "markdown",
   "id": "2f470e67-1623-4416-b9c2-8367f7834a26",
   "metadata": {},
   "source": [
    "# Exploratory Data Analysis with pandas Studio\n",
    "\n",
    "## Data Analysis of IMDB movies data\n",
    "\n",
    "#### Blocks have been created for your code\n",
    "\n",
    "#### Click on the following link and download the dataset from [Kaggle](https://www.kaggle.com/PromptCloudHQ/imdb-data)."
   ]
  },
  {
   "cell_type": "markdown",
   "id": "34632281-1e15-44b1-a3e3-b82ddacb5cbd",
   "metadata": {},
   "source": [
    "### 1. Read data"
   ]
  },
  {
   "cell_type": "code",
   "execution_count": null,
   "id": "070ebed9-c948-4821-9a24-67f0e3fe8fce",
   "metadata": {},
   "outputs": [],
   "source": [
    "# import pandas\n",
    "import pandas as pd \n",
    "# create your data variabe using .read_csv \n",
    "data_file = pd.read_csv('/Users/miafusco/Documents/LaunchCode/data-analysis-projects2/IMDB-Movie-Data.csv')\n",
    "# create your data_indexed variable here\n",
    "data_indexed=data_file.set_index(['Rank', 'Title', 'Genre', 'Description', 'Director', 'Actors', 'Year','Runtime (Minutes)', 'Rating', 'Votes', 'Revenue (Millions)','Metascore'])"
   ]
  },
  {
   "cell_type": "code",
   "execution_count": null,
   "id": "608c357a-271b-49c1-9b96-68b5c1cb7046",
   "metadata": {},
   "outputs": [],
   "source": [
    "# If you are having trouble reading your file, try finding the path.  \n",
    "    # Right click on your data set, on the pop-up menu select \"Copy Path\" then paste it into your read_csv() function."
   ]
  },
  {
   "cell_type": "code",
   "execution_count": null,
   "id": "5d8b578c-750c-491b-98d5-140a237ad940",
   "metadata": {},
   "outputs": [],
   "source": [
    "# Read data with specified explicit index\n",
    "data_indexed_title= data_file.set_index('Title')\n",
    "\n",
    "#print(data_indexed)\n",
    "print(data_indexed_title)"
   ]
  },
  {
   "cell_type": "markdown",
   "id": "f449d3ea-91fe-45f5-8d6b-e6ccab3502d7",
   "metadata": {
    "tags": []
   },
   "source": [
    "### 2. View Data\n",
    "#### As we go through this section, write your own definitions of what each function does as a comment in the code box."
   ]
  },
  {
   "cell_type": "code",
   "execution_count": null,
   "id": "ac9b2d61-7ed5-4e83-995d-c498036f37f9",
   "metadata": {},
   "outputs": [],
   "source": [
    "# Use the head() function to view the first 5 rows of the data set\n",
    "##This will return just the first 5 rows of the selected dataframe. \n",
    "data_indexed_title.head(5)\n",
    "#      Rank                     Genre  ... Revenue (Millions) Metascore\n",
    "# Title                                                    ...                             \n",
    "# Guardians of the Galaxy     1   Action,Adventure,Sci-Fi  ...             333.13      76.0\n",
    "# Prometheus                  2  Adventure,Mystery,Sci-Fi  ...             126.46      65.0\n",
    "# Split                       3           Horror,Thriller  ...             138.12      62.0\n",
    "# Sing                        4   Animation,Comedy,Family  ...             270.32      59.0\n",
    "# Suicide Squad               5  Action,Adventure,Fantasy  ...             325.02      40.0\n"
   ]
  },
  {
   "cell_type": "code",
   "execution_count": null,
   "id": "3fffca4b-90f4-4f73-a9af-f0b02886f8b3",
   "metadata": {},
   "outputs": [],
   "source": [
    "# Use the tail() function to view the last 5 rows of the data set\n",
    "##This will return just the last 5 row of the selected dataframe. \n",
    "data_indexed_title.tail(5)\n",
    "#         Rank                  Genre  ... Revenue (Millions) Metascore\n",
    "# Title                                                ...                             \n",
    "# Secret in Their Eyes     996    Crime,Drama,Mystery  ...                NaN      45.0\n",
    "# Hostel: Part II          997                 Horror  ...              17.54      46.0\n",
    "# Step Up 2: The Streets   998    Drama,Music,Romance  ...              58.01      50.0\n",
    "# Search Party             999       Adventure,Comedy  ...                NaN      22.0\n",
    "# Nine Lives              1000  Comedy,Family,Fantasy  ...              19.64      11.0"
   ]
  },
  {
   "cell_type": "markdown",
   "id": "e03bbc57-a8cf-48da-9057-3b1f6b642a08",
   "metadata": {},
   "source": [
    "### 3. Understand basic information about the data\n",
    "#### As we go through this section, write your own definitions of what each function does as a comment in the code box."
   ]
  },
  {
   "cell_type": "code",
   "execution_count": null,
   "id": "f303e7fb-0e02-48e2-8390-66eefca899aa",
   "metadata": {},
   "outputs": [],
   "source": [
    "# The info() function: \n",
    "##Info will allow you to pull a summary of the selected dataframe. This includes the number of columns and their names. The count of non-null values in each column and the type. \n",
    "data_indexed_title.info()\n",
    "Data columns (total 11 columns):\n",
    " #   Column              Non-Null Count  Dtype  \n",
    "# ---  ------              --------------  -----  \n",
    "#  0   Rank                1000 non-null   int64  \n",
    "#  1   Genre               1000 non-null   object \n",
    "#  2   Description         1000 non-null   object \n",
    "#  3   Director            1000 non-null   object \n",
    "#  4   Actors              1000 non-null   object \n",
    "#  5   Year                1000 non-null   int64  \n",
    "#  6   Runtime (Minutes)   1000 non-null   int64  \n",
    "#  7   Rating              1000 non-null   float64\n",
    "#  8   Votes               1000 non-null   int64  \n",
    "#  9   Revenue (Millions)  872 non-null    float64\n",
    "#  10  Metascore           936 non-null    float64\n",
    "# dtypes: float64(3), int64(4), object(4)"
   ]
  },
  {
   "cell_type": "code",
   "execution_count": null,
   "id": "ade5ce1f-7a2a-4940-a0f9-eed7891154ff",
   "metadata": {},
   "outputs": [],
   "source": [
    "# shape:\n",
    "##Returns a tuple.\n",
    "data_indexed_title.shape\n",
    "##(1000, 11)\n",
    "\n",
    "# what information does shape provide?  what is the order?\n",
    "##The shape function provides the number of rows and columns, in that order. "
   ]
  },
  {
   "cell_type": "code",
   "execution_count": null,
   "id": "791db782-5041-4259-a3e4-d14c6e2e248a",
   "metadata": {},
   "outputs": [],
   "source": [
    "# columns:\n",
    "##11\n",
    "\n",
    "# what information does columns provide?\n",
    "##Columns describe the category for the value type. Ex. Title describe that all values in that column are titles of movies. "
   ]
  },
  {
   "cell_type": "code",
   "execution_count": null,
   "id": "994c8783-3f4b-4f56-b9fb-1b50193f1fab",
   "metadata": {},
   "outputs": [],
   "source": [
    "# The describe() function: \n",
    "##The describe function is how you would find descriptive statistics for the selected dataframe. This includes mean and standard deviation. \n",
    "data_indexed_title.describe()\n",
    "#             Rank         Year  Runtime (Minutes)       Rating         Votes  Revenue (Millions)   Metascore\n",
    "# count  1000.000000  1000.000000        1000.000000  1000.000000  1.000000e+03          872.000000  936.000000\n",
    "# mean    500.500000  2012.783000         113.172000     6.723200  1.698083e+05           82.956376   58.985043\n",
    "# std     288.819436     3.205962          18.810908     0.945429  1.887626e+05          103.253540   17.194757\n",
    "# min       1.000000  2006.000000          66.000000     1.900000  6.100000e+01            0.000000   11.000000\n",
    "# 25%     250.750000  2010.000000         100.000000     6.200000  3.630900e+04           13.270000   47.000000\n",
    "# 50%     500.500000  2014.000000         111.000000     6.800000  1.107990e+05           47.985000   59.500000\n",
    "# 75%     750.250000  2016.000000         123.000000     7.400000  2.399098e+05          113.715000   72.000000\n",
    "# max    1000.000000  2016.000000         191.000000     9.000000  1.791916e+06          936.630000  100.000000"
   ]
  },
  {
   "cell_type": "markdown",
   "id": "7293ea51-6d32-43ab-8d26-268bdea21de1",
   "metadata": {},
   "source": [
    "### 4. Data Selection -- Indexing and Slicing"
   ]
  },
  {
   "cell_type": "code",
   "execution_count": null,
   "id": "b3e134af-4ef9-4a9f-9ee1-d507905764e7",
   "metadata": {},
   "outputs": [],
   "source": [
    "#  Extract data as series\n",
    "# define and print the variable 'genre'\n",
    "subset_genre = data_indexed_title['Genre']\n",
    "print(subset_genre)\n",
    "# Title\n",
    "# Guardians of the Galaxy     Action,Adventure,Sci-Fi\n",
    "# Prometheus                 Adventure,Mystery,Sci-Fi\n",
    "# Split                               Horror,Thriller\n",
    "# Sing                        Animation,Comedy,Family\n",
    "# Suicide Squad              Action,Adventure,Fantasy\n",
    "#                                      ...           \n",
    "# Secret in Their Eyes            Crime,Drama,Mystery\n",
    "# Hostel: Part II                              Horror\n",
    "# Step Up 2: The Streets          Drama,Music,Romance\n",
    "# Search Party                       Adventure,Comedy\n",
    "# Nine Lives                    Comedy,Family,Fantasy\n",
    "# Name: Genre, Length: 1000, dtype: object\n",
    "\n"
   ]
  },
  {
   "cell_type": "code",
   "execution_count": null,
   "id": "33307a39-0656-4598-8489-55bc80a253eb",
   "metadata": {},
   "outputs": [],
   "source": [
    "# Extract the data as a dataframe and print it\n",
    "subset_genre_dataframe = data_indexed_title [['Genre']]\n",
    "print(subset_genre_dataframe)\n",
    "#                                             Genre\n",
    "# Title                                            \n",
    "# Guardians of the Galaxy   Action,Adventure,Sci-Fi\n",
    "# Prometheus               Adventure,Mystery,Sci-Fi\n",
    "# Split                             Horror,Thriller\n",
    "# Sing                      Animation,Comedy,Family\n",
    "# Suicide Squad            Action,Adventure,Fantasy\n",
    "# ...                                           ...\n",
    "# Secret in Their Eyes          Crime,Drama,Mystery\n",
    "# Hostel: Part II                            Horror\n",
    "# Step Up 2: The Streets        Drama,Music,Romance\n",
    "# Search Party                     Adventure,Comedy\n",
    "# Nine Lives                  Comedy,Family,Fantasy\n",
    "\n",
    "# [1000 rows x 1 columns]\n"
   ]
  },
  {
   "cell_type": "code",
   "execution_count": null,
   "id": "0530ffd1-e143-4a7a-a4e2-c2e88de188f9",
   "metadata": {},
   "outputs": [],
   "source": [
    "# Extract data using rows\n",
    "# loc function\n",
    "data_indexed_title.loc['Guardians of the Galaxy']\n",
    "# Rank                                                                  1\n",
    "# Genre                                           Action,Adventure,Sci-Fi\n",
    "# Description           A group of intergalactic criminals are forced ...\n",
    "# Director                                                     James Gunn\n",
    "# Actors                Chris Pratt, Vin Diesel, Bradley Cooper, Zoe S...\n",
    "# Year                                                               2014\n",
    "# Runtime (Minutes)                                                   121\n",
    "# Rating                                                              8.1\n",
    "# Votes                                                            757074\n",
    "# Revenue (Millions)                                               333.13\n",
    "# Metascore                                                          76.0\n",
    "# Name: Guardians of the Galaxy, dtype: object\n"
   ]
  },
  {
   "cell_type": "code",
   "execution_count": null,
   "id": "7ed5a16d-7302-4c0c-bf9e-0295a8cee090",
   "metadata": {},
   "outputs": [],
   "source": [
    "# iloc function\n",
    "data_indexed_title.iloc[5]\n",
    "# Rank                                                                  6\n",
    "# Genre                                          Action,Adventure,Fantasy\n",
    "# Description           European mercenaries searching for black powde...\n",
    "# Director                                                    Yimou Zhang\n",
    "# Actors                    Matt Damon, Tian Jing, Willem Dafoe, Andy Lau\n",
    "# Year                                                               2016\n",
    "# Runtime (Minutes)                                                   103\n",
    "# Rating                                                              6.1\n",
    "# Votes                                                             56036\n",
    "# Revenue (Millions)                                                45.13\n",
    "# Metascore                                                          42.0\n",
    "# Name: The Great Wall, dtype: object"
   ]
  },
  {
   "cell_type": "markdown",
   "id": "35d10282-730f-49c3-bca1-55a990811c80",
   "metadata": {},
   "source": [
    "### 5. Data Selection - Based on Conditional Filtering"
   ]
  },
  {
   "cell_type": "code",
   "execution_count": null,
   "id": "97cac6a1-dd88-4a8c-86e8-514312bf1bb0",
   "metadata": {},
   "outputs": [],
   "source": [
    "# Use the code block to select movies that have been released between 2010-2016, with a rating of less than 6.0, but generated a signifianct (top) revenue.\n",
    "movies_2000 = data_indexed_title[(data_indexed_title['Rating'] > 6.0) & (data_indexed_title['Year'].between (2010,2016)) & (data_indexed_title['Revenue (Millions)']>=82)]\n",
    "print(movies_2000)\n",
    "#  Rank                      Genre  ... Revenue (Millions) Metascore\n",
    "# Title                                                     ...                             \n",
    "# Guardians of the Galaxy     1    Action,Adventure,Sci-Fi  ...             333.13      76.0\n",
    "# Prometheus                  2   Adventure,Mystery,Sci-Fi  ...             126.46      65.0\n",
    "# Split                       3            Horror,Thriller  ...             138.12      62.0\n",
    "# Sing                        4    Animation,Comedy,Family  ...             270.32      59.0\n",
    "# Suicide Squad               5   Action,Adventure,Fantasy  ...             325.02      40.0\n",
    "# ...                       ...                        ...  ...                ...       ...\n",
    "# The Expendables 2         917  Action,Adventure,Thriller  ...              85.02      51.0\n",
    "# The Butler                947            Biography,Drama  ...             116.63       NaN\n",
    "# The Descendants           952               Comedy,Drama  ...              82.62      84.0\n",
    "# The Lone Ranger           970   Action,Adventure,Western  ...              89.29       NaN\n",
    "# Let's Be Cops             984                     Comedy  ...              82.39      30.0\n",
    "\n",
    "# [192 rows x 11 columns]\n"
   ]
  },
  {
   "cell_type": "code",
   "execution_count": 117,
   "id": "f0c045a1-200a-4d58-9b9f-480edb106765",
   "metadata": {},
   "outputs": [],
   "source": [
    "# Note: The article is expecting more than 1 Twilight movie at the time of publishing.  \n",
    "#To find the second Twilight movie, try manipulating the quantile value.  \n",
    "#How specific can you get?"
   ]
  },
  {
   "cell_type": "code",
   "execution_count": null,
   "id": "5f04a46e-5d8e-4bda-a917-945bdc81a9e2",
   "metadata": {},
   "outputs": [],
   "source": []
  }
 ],
 "metadata": {
  "kernelspec": {
   "display_name": "Python 3 (ipykernel)",
   "language": "python",
   "name": "python3"
  },
  "language_info": {
   "codemirror_mode": {
    "name": "ipython",
    "version": 3
   },
   "file_extension": ".py",
   "mimetype": "text/x-python",
   "name": "python",
   "nbconvert_exporter": "python",
   "pygments_lexer": "ipython3",
   "version": "3.10.12"
  }
 },
 "nbformat": 4,
 "nbformat_minor": 5
}
