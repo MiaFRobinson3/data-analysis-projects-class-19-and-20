{
 "cells": [
  {
   "cell_type": "markdown",
   "metadata": {},
   "source": [
    "## Exercises: Data Visualizations in Python\n",
    "\n",
    "We will be using [this dataset](https://www.kaggle.com/datasets/arnavvvvv/spotify-music/data) from Kaggle.\n",
    "\n",
    "The dataset contains a comprehensive list of the most famous songs and most streamed songs as listed on Spotify. \n",
    "\n",
    "No need to dowload it, is is already in this directory under `Popular_Spotify_Songs.csv`\n",
    "\n",
    "**For these exercises and the upcoming studio, we will be using the `matplotlib` library**"
   ]
  },
  {
   "cell_type": "markdown",
   "metadata": {},
   "source": [
    "### Setting Up Your Data\n",
    "\n",
    "Before you dive into data visualizations, you need to set up your dataframe and make sure that it is cleaned and ready to go.\n",
    "\n",
    "You can use Excel to open the csv directly and acquant yourself with the data. Then based on what you see, you can make cleaning decisions. \n",
    "\n",
    "I have included my work below. Feel free to build on it as needed.\n",
    "\n",
    "**To understand what a column represents in the dataset, you should google `Spotify [column name] data explanation`**"
   ]
  },
  {
   "cell_type": "code",
   "execution_count": 4,
   "metadata": {},
   "outputs": [
    {
     "ename": "ImportError",
     "evalue": "Unable to import required dependencies:\nnumpy: Error importing numpy: you should not try to import numpy from\n        its source directory; please exit the numpy source tree, and relaunch\n        your python interpreter from there.",
     "output_type": "error",
     "traceback": [
      "\u001b[0;31m---------------------------------------------------------------------------\u001b[0m",
      "\u001b[0;31mImportError\u001b[0m                               Traceback (most recent call last)",
      "Cell \u001b[0;32mIn[4], line 2\u001b[0m\n\u001b[1;32m      1\u001b[0m \u001b[38;5;66;03m# import all librarys and modules needed\u001b[39;00m\n\u001b[0;32m----> 2\u001b[0m \u001b[38;5;28;01mimport\u001b[39;00m \u001b[38;5;21;01mpandas\u001b[39;00m \u001b[38;5;28;01mas\u001b[39;00m \u001b[38;5;21;01mpd\u001b[39;00m\n\u001b[1;32m      3\u001b[0m \u001b[38;5;28;01mimport\u001b[39;00m \u001b[38;5;21;01mnumpy\u001b[39;00m \u001b[38;5;28;01mas\u001b[39;00m \u001b[38;5;21;01mnp\u001b[39;00m\n\u001b[1;32m      4\u001b[0m \u001b[38;5;28;01mimport\u001b[39;00m \u001b[38;5;21;01mmatplotlib\u001b[39;00m\u001b[38;5;21;01m.\u001b[39;00m\u001b[38;5;21;01mpyplot\u001b[39;00m \u001b[38;5;28;01mas\u001b[39;00m \u001b[38;5;21;01mplt\u001b[39;00m\n",
      "File \u001b[0;32m/Library/Frameworks/Python.framework/Versions/3.12/lib/python3.12/site-packages/pandas/__init__.py:19\u001b[0m\n\u001b[1;32m     16\u001b[0m         _missing_dependencies\u001b[38;5;241m.\u001b[39mappend(\u001b[38;5;124mf\u001b[39m\u001b[38;5;124m\"\u001b[39m\u001b[38;5;132;01m{\u001b[39;00m_dependency\u001b[38;5;132;01m}\u001b[39;00m\u001b[38;5;124m: \u001b[39m\u001b[38;5;132;01m{\u001b[39;00m_e\u001b[38;5;132;01m}\u001b[39;00m\u001b[38;5;124m\"\u001b[39m)\n\u001b[1;32m     18\u001b[0m \u001b[38;5;28;01mif\u001b[39;00m _missing_dependencies:  \u001b[38;5;66;03m# pragma: no cover\u001b[39;00m\n\u001b[0;32m---> 19\u001b[0m     \u001b[38;5;28;01mraise\u001b[39;00m \u001b[38;5;167;01mImportError\u001b[39;00m(\n\u001b[1;32m     20\u001b[0m         \u001b[38;5;124m\"\u001b[39m\u001b[38;5;124mUnable to import required dependencies:\u001b[39m\u001b[38;5;130;01m\\n\u001b[39;00m\u001b[38;5;124m\"\u001b[39m \u001b[38;5;241m+\u001b[39m \u001b[38;5;124m\"\u001b[39m\u001b[38;5;130;01m\\n\u001b[39;00m\u001b[38;5;124m\"\u001b[39m\u001b[38;5;241m.\u001b[39mjoin(_missing_dependencies)\n\u001b[1;32m     21\u001b[0m     )\n\u001b[1;32m     22\u001b[0m \u001b[38;5;28;01mdel\u001b[39;00m _hard_dependencies, _dependency, _missing_dependencies\n\u001b[1;32m     24\u001b[0m \u001b[38;5;28;01mtry\u001b[39;00m:\n\u001b[1;32m     25\u001b[0m     \u001b[38;5;66;03m# numpy compat\u001b[39;00m\n",
      "\u001b[0;31mImportError\u001b[0m: Unable to import required dependencies:\nnumpy: Error importing numpy: you should not try to import numpy from\n        its source directory; please exit the numpy source tree, and relaunch\n        your python interpreter from there."
     ]
    }
   ],
   "source": [
    "# import all librarys and modules needed\n",
    "import pandas as pd\n",
    "import numpy as np\n",
    "import matplotlib.pyplot as plt\n",
    "\n",
    "# We need to include an encoding tag with this dataset\n",
    "## Otherwise, we will get an error trying to read non-latin characters in the dataset\n",
    "df = pd.read_csv(\"./Popular_Spotify_Songs.csv\", encoding='latin-1')\n",
    "\n",
    "df.drop_duplicates()\n",
    "df = pd.DataFrame(df)\n",
    "\n",
    "# The below command gets rid of one weird row of 'streams' data for a song.\n",
    "## Using Excel or pandas, find what that value is and think why it would cause issues when trying\n",
    "## to classify this column as 'numeric' data\n",
    "df['streams'] = pd.to_numeric(df['streams'], errors='coerce')\n",
    "\n",
    "# We need to specifically convert these fields to be numeric, since they are imported\n",
    "## by default as string data\n",
    "df['in_apple_playlists'] = pd.to_numeric(df['in_apple_playlists'], errors='coerce')\n",
    "df['in_spotify_playlists'] = pd.to_numeric(df['in_spotify_playlists'], errors='coerce')\n",
    "df['in_deezer_playlists'] = pd.to_numeric(df['in_deezer_playlists'], errors='coerce')\n",
    "df['bpm'] = pd.to_numeric(df['bpm'], errors='coerce')\n",
    "\n",
    "# It'll be beneficial to have the column names of the data on hand\n",
    "df.columns\n"
   ]
  },
  {
   "cell_type": "markdown",
   "metadata": {},
   "source": [
    "### Creating Visualizations\n",
    "\n",
    "Now that the data is ready, we will create a number of different visualizations.\n",
    "\n",
    "We have included a graphic for `Abela's Chart Suggestions` below. \n",
    "\n",
    "It was used to determine the best chart type for the questions in this exercise."
   ]
  },
  {
   "cell_type": "markdown",
   "metadata": {},
   "source": [
    "![chart-suggestions.png](./Abelas-Chart-Selection-Diagram.jpg)"
   ]
  },
  {
   "cell_type": "markdown",
   "metadata": {},
   "source": [
    "# Exercise Explanation\n",
    "\n",
    "Each section of this file will be broken up by chart type.\n",
    "\n",
    "For each chart type, we will provide you with a full data visualization example that answers a question for the Spotify dataset.\n",
    "\n",
    "It will then be your turn to answer a different question with your own data visualization."
   ]
  },
  {
   "cell_type": "markdown",
   "metadata": {},
   "source": [
    "# Line Charts"
   ]
  },
  {
   "cell_type": "markdown",
   "metadata": {},
   "source": [
    "#### Example - Single Line Chart\n",
    "\n",
    "Question:\n",
    "\n",
    "**What is the total number of streams for all songs, plotted over `release_year`?**"
   ]
  },
  {
   "cell_type": "code",
   "execution_count": 1,
   "metadata": {},
   "outputs": [
    {
     "ename": "NameError",
     "evalue": "name 'np' is not defined",
     "output_type": "error",
     "traceback": [
      "\u001b[0;31m---------------------------------------------------------------------------\u001b[0m",
      "\u001b[0;31mNameError\u001b[0m                                 Traceback (most recent call last)",
      "Cell \u001b[0;32mIn[1], line 2\u001b[0m\n\u001b[1;32m      1\u001b[0m \u001b[38;5;66;03m# Single line chart\u001b[39;00m\n\u001b[0;32m----> 2\u001b[0m years \u001b[38;5;241m=\u001b[39m \u001b[43mnp\u001b[49m\u001b[38;5;241m.\u001b[39msort(df[\u001b[38;5;124m\"\u001b[39m\u001b[38;5;124mreleased_year\u001b[39m\u001b[38;5;124m\"\u001b[39m]\u001b[38;5;241m.\u001b[39munique())\n\u001b[1;32m      3\u001b[0m sum_by_year \u001b[38;5;241m=\u001b[39m numpy\u001b[38;5;241m.\u001b[39msort(df\u001b[38;5;241m.\u001b[39mgroupby(\u001b[38;5;124m\"\u001b[39m\u001b[38;5;124mreleased_year\u001b[39m\u001b[38;5;124m\"\u001b[39m)[\u001b[38;5;124m\"\u001b[39m\u001b[38;5;124mstreams\u001b[39m\u001b[38;5;124m\"\u001b[39m]\u001b[38;5;241m.\u001b[39msum())\n\u001b[1;32m      5\u001b[0m \u001b[38;5;66;03m# converting to billions to make linechart easier to read\u001b[39;00m\n",
      "\u001b[0;31mNameError\u001b[0m: name 'np' is not defined"
     ]
    }
   ],
   "source": [
    "# Single line chart\n",
    "years = np.sort(df[\"released_year\"].unique())\n",
    "sum_by_year = numpy.sort(df.groupby(\"released_year\")[\"streams\"].sum())\n",
    "\n",
    "# converting to billions to make linechart easier to read\n",
    "for i in range(len(sum_by_year)):\n",
    "\tsum_by_year[i] = sum_by_year[i] / 1000000000\n",
    "\n",
    "plt.plot(years, sum_by_year)\n",
    "plt.title(\"Total Streams By Song Release Year (In Billions)\")\n",
    "plt.xlabel(\"Release Year\")\n",
    "plt.ylabel(\"Total Streams (in billions)\")\n",
    "\n"
   ]
  },
  {
   "cell_type": "markdown",
   "metadata": {},
   "source": [
    "#### Your Turn\n",
    "\n",
    "Question:\n",
    "\n",
    "**What is the total number of times all songs were added to a Spotify playlist, plotted over `release_year`?**"
   ]
  },
  {
   "cell_type": "code",
   "execution_count": null,
   "metadata": {},
   "outputs": [],
   "source": [
    "# Code Here\n"
   ]
  },
  {
   "cell_type": "markdown",
   "metadata": {},
   "source": [
    "#### Example - Multi Line Chart\n",
    "\n",
    "**For songs released after 2009, create a multi-line chart with two data variables**\n",
    "1. Line showing total number of streams for songs with a `Major` mode, plotted by release year\n",
    "2. Line showing total number of streams for songs with a `Minor` mode, plotted by release year"
   ]
  },
  {
   "cell_type": "code",
   "execution_count": null,
   "metadata": {},
   "outputs": [],
   "source": [
    "# Multi Line chart \n",
    "years = numpy.sort(df[df[\"released_year\"] > 2008][\"released_year\"].unique())\n",
    "streaming_sums = df.groupby(\"released_year\")[\"streams\"].sum()\n",
    "\n",
    "major_list = []\n",
    "minor_list = []\n",
    "\n",
    "# in billions\n",
    "for y in years:\n",
    "\tmajor = df.loc[(df[\"released_year\"] == y) & (df[\"mode\"] == \"Major\")][\"streams\"].sum() / 1000000000\n",
    "\tminor = df.loc[(df[\"released_year\"] == y) & (df[\"mode\"] == \"Minor\")][\"streams\"].sum() / 1000000000\n",
    "\tmajor_list.append(major)\n",
    "\tminor_list.append(minor)\n",
    "\n",
    "\n",
    "plt.plot(years, major_list, label = \"Major\")\n",
    "plt.plot(years, minor_list, label = \"Minor\")\n",
    "\n",
    "plt.title(\"Total Streams By Song Release Year (In Billions)\")\n",
    "plt.xlabel(\"Release Year\")\n",
    "plt.ylabel(\"Total Streams (in billions)\")\n",
    "plt.legend()\n"
   ]
  },
  {
   "cell_type": "markdown",
   "metadata": {},
   "source": [
    "#### Your Turn\n",
    "\n",
    "**For songs released after 2009, create a multi line chart with three data variables**\n",
    "1. Line showing total times all songs were added to a Spotify playlist, plotted by release year \n",
    "1. Line showing total times all songs were added to an Apple playlist, plotted by release year \n",
    "1. Line showing total times all songs were added to a Deezer playlist, plotted by release year "
   ]
  },
  {
   "cell_type": "code",
   "execution_count": null,
   "metadata": {},
   "outputs": [],
   "source": [
    "# Code Here\n",
    "# Multi Line chart \n"
   ]
  },
  {
   "cell_type": "markdown",
   "metadata": {},
   "source": [
    "# Bar Charts"
   ]
  },
  {
   "cell_type": "markdown",
   "metadata": {},
   "source": [
    "#### Example - Vertical Bar Chart\n",
    "\n",
    "Question:\n",
    "\n",
    "**What is the total number of streams for 'Major' mode and 'Minor' mode songs in the dataset?**"
   ]
  },
  {
   "cell_type": "code",
   "execution_count": 146,
   "metadata": {},
   "outputs": [],
   "source": [
    "keys = list(df[df[\"mode\"].notnull()][\"mode\"].unique())\n",
    "streams_by_mode = []\n",
    "\n",
    "# in billions\n",
    "for k in keys:\n",
    "\tsum = int(df[df[\"mode\"] == k][\"streams\"].sum() / 1000000000)\n",
    "\tstreams_by_mode.append(sum)\n",
    "\n",
    "plt.bar(x=keys, height=streams_by_mode,width=.4, color ='maroon')\n",
    "\n",
    "plt.title(\"Total Streams Based On Song Mode (in billions)\")\n",
    "plt.xlabel(\"Mode\")\n",
    "plt.ylabel(\"Total Streams (in billions)\")\n"
   ]
  },
  {
   "cell_type": "markdown",
   "metadata": {},
   "source": [
    "#### Your Turn\n",
    "\n",
    "Question:\n",
    "\n",
    "**What is the total number of times all songs were `in_spotify_playlists`, `in_apple_playlists`, and `in_deezer_playlists`?**\n"
   ]
  },
  {
   "cell_type": "code",
   "execution_count": null,
   "metadata": {},
   "outputs": [],
   "source": [
    "# Code Here\n"
   ]
  },
  {
   "cell_type": "markdown",
   "metadata": {},
   "source": [
    "#### Example - Horizontal Bar Chart\n",
    "\n",
    "Question:\n",
    "\n",
    "**What is the total streams of all songs, organized by `artist_count`?**"
   ]
  },
  {
   "cell_type": "code",
   "execution_count": null,
   "metadata": {},
   "outputs": [],
   "source": [
    "# Horizontal bar chart\n",
    "keys = list(df[df[\"key\"].notnull()][\"artist_count\"].unique())\n",
    "\n",
    "streams_by_artist_count = []\n",
    "\n",
    "# in billions\n",
    "for k in keys:\n",
    "\tsum = int(df[df[\"artist_count\"] == k][\"streams\"].sum() / 1000000000)\n",
    "\tstreams_by_artist_count.append(sum)\n",
    "\n",
    "plt.barh(keys, streams_by_artist_count, align='center')\n",
    "plt.title(\"Total Streams of All Songs by Artist Count (in billions)\")\n",
    "plt.ylabel(\"Number of Artists On The Song (in billions)\")\n",
    "plt.xlabel(\"Total Streams (in billions)\")"
   ]
  },
  {
   "cell_type": "markdown",
   "metadata": {},
   "source": [
    "#### Your Turn\n",
    "\n",
    "Question:\n",
    "**What is the total streams for all songs, organized by `key`?**"
   ]
  },
  {
   "cell_type": "code",
   "execution_count": null,
   "metadata": {},
   "outputs": [],
   "source": [
    "# Code Here\n"
   ]
  },
  {
   "cell_type": "markdown",
   "metadata": {},
   "source": [
    "#### Example - Grouped Bar Chart\n",
    "\n",
    "\n",
    "Question:\n",
    "\n",
    "**For songs released between 2020 and 2022, what is the total streams of all songs organized by `mode`?**"
   ]
  },
  {
   "cell_type": "code",
   "execution_count": null,
   "metadata": {},
   "outputs": [],
   "source": [
    "# Grouped bar chart\n",
    "\n",
    "keys = list(df[df[\"mode\"].notnull()][\"mode\"].unique())\n",
    "\n",
    "data = df.loc[(df[\"released_year\"] > 2019) & (df[\"released_year\"] < 2023)]\n",
    "\n",
    "years = [2020, 2021, 2022]\n",
    "x = numpy.arange(len(years))\n",
    "width = .25\n",
    "multiplier = 0\n",
    "\n",
    "fig, ax = plt.subplots(layout='constrained')\n",
    "\n",
    "key_streams = {}\n",
    "\n",
    "for k in keys:\n",
    "\tif k not in key_streams:\n",
    "\t\tkey_streams[k] = []\n",
    "\tfor y in years:\n",
    "\t\t# in billions\n",
    "\t\tsum = data.loc[(data[\"mode\"] == k) & (data[\"released_year\"] == y)][\"streams\"].sum() / 1000000000\n",
    "\t\tkey_streams[k].append(sum)\n",
    "\n",
    "for att, measurement in key_streams.items():\n",
    "\toffset = width * multiplier\n",
    "\trects = ax.bar(x + offset, measurement, width, label=att)\n",
    "\tax.bar_label(rects, padding=3)\n",
    "\tmultiplier += 1\n",
    "\n",
    "ax.set_ylabel('Streams (in billions)')\n",
    "ax.set_title('Total Streams for All Songs by Mode (in billions)')\n",
    "ax.set_xticks(x + width, years)\n",
    "ax.legend(loc='upper left', ncols=3)\n",
    "\n",
    "plt.show()\n",
    "\t\n"
   ]
  },
  {
   "cell_type": "markdown",
   "metadata": {},
   "source": [
    "#### Your Turn\n",
    "\n",
    "Question:\n",
    "\n",
    "**For songs released between 2020 and 2022, what is the total number of times all songs were `in_spotify_playlists`, `in_apple_playlists`, and `in_deezer_playlists`?**"
   ]
  },
  {
   "cell_type": "code",
   "execution_count": null,
   "metadata": {},
   "outputs": [],
   "source": [
    "# Code Here\n"
   ]
  },
  {
   "cell_type": "markdown",
   "metadata": {},
   "source": [
    "# Scatter Plot"
   ]
  },
  {
   "cell_type": "markdown",
   "metadata": {},
   "source": [
    "#### Example - Scatter Plot\n",
    "\n",
    "Question:\n",
    "**For songs released between 2000 and 2009, what is the relationship between valence and energy for songs in the dataset?**\n",
    "\n",
    "**Valence**: describes the musical positiveness conveyed by a track. \n",
    "\n",
    "Tracks with high valence sound more positive (happy, cheerful, euphoric), while tracks with low valence sound more negative (sad, depressed, angry)."
   ]
  },
  {
   "cell_type": "code",
   "execution_count": null,
   "metadata": {},
   "outputs": [],
   "source": [
    "# scatter plot\n",
    "data = df.loc[(df[\"released_year\"] > 1999) & (df[\"released_year\"] < 2010)]\n",
    "\n",
    "plt.scatter(x=data['valence_%'], y=data['energy_%'])\n",
    "plt.xlabel('Valence %')\n",
    "plt.ylabel('Energy %')\n",
    "plt.show()"
   ]
  },
  {
   "cell_type": "markdown",
   "metadata": {},
   "source": [
    "#### Your Turn\n",
    "\n",
    "Question:\n",
    "\n",
    "**For songs released between 2016 and 2019, what is the relationship between danceability and speechiness for songs in the dataset?**"
   ]
  },
  {
   "cell_type": "code",
   "execution_count": null,
   "metadata": {},
   "outputs": [],
   "source": [
    "# Code Here\n"
   ]
  },
  {
   "cell_type": "markdown",
   "metadata": {},
   "source": [
    "# Histogram"
   ]
  },
  {
   "cell_type": "markdown",
   "metadata": {},
   "source": [
    "#### Example - Histogram\n",
    "\n",
    "Question:\n",
    "\n",
    "**Create a graph that groups all songs in the dataset based on their danceability percentage**"
   ]
  },
  {
   "cell_type": "code",
   "execution_count": null,
   "metadata": {},
   "outputs": [],
   "source": [
    "# histogram\n",
    "plt.hist(df['danceability_%'])\n"
   ]
  },
  {
   "cell_type": "markdown",
   "metadata": {},
   "source": [
    "#### Your Turn\n",
    "\n",
    "Question:\n",
    "\n",
    "**Create a graph that groups all songs in the dataset with over 1 billion streams by their bpm**"
   ]
  },
  {
   "cell_type": "code",
   "execution_count": null,
   "metadata": {},
   "outputs": [],
   "source": [
    "# Code Here\n"
   ]
  },
  {
   "cell_type": "markdown",
   "metadata": {},
   "source": [
    "# Pie Chart"
   ]
  },
  {
   "cell_type": "markdown",
   "metadata": {},
   "source": [
    "#### Example - Pie Chart\n",
    "\n",
    "Question\n",
    "\n",
    "**Of the Adele songs in the dateset, what is each song's portion of her total streams?**"
   ]
  },
  {
   "cell_type": "code",
   "execution_count": null,
   "metadata": {},
   "outputs": [],
   "source": [
    "# pie chart\n",
    "data = df.loc[(df['artist(s)_name'].str.startswith('Adele', na=False))]\n",
    "data\n",
    "\n",
    "plt.pie(data['streams'], labels=data['track_name'], autopct='%1.1f%%')\n",
    "plt.title('Percentage of Overall Adele Streams by Adele Song')\n",
    "plt.show()"
   ]
  },
  {
   "cell_type": "markdown",
   "metadata": {},
   "source": [
    "#### Your Turn\n",
    "\n",
    "Prompt:\n",
    "**Breakdown the percentage of Dua Lipa's song streams based on `key`**"
   ]
  },
  {
   "cell_type": "code",
   "execution_count": null,
   "metadata": {},
   "outputs": [],
   "source": [
    "# Code Here\n",
    "\n"
   ]
  },
  {
   "cell_type": "markdown",
   "metadata": {},
   "source": [
    "# Bonus Missions\n",
    "\n",
    "We wanted to make sure these exercises were approachable. To do so, we stuck to some pretty simple data analysis questions.\n",
    "\n",
    "But, this is a very interesting dataset that could potentially answer deeper questions for these songs.\n",
    "\n",
    "We are going to include a list of questions that would be interesting to answer with the dataset.\n",
    "\n",
    "You can then do analysis and/or design visualizations to answer these questions.\n",
    "\n",
    "1. For songs released between 1980 and 1989, chart the trend of the top song's (most streams for a song of that release year) danceability\n",
    "2. For songs released between 1990 and 1999, chart the trend of the top song's (most streams for a song of that release year) valence\n",
    "3. Find the `key` and `mode` combination that will most likely correlate with a top streaming song\n",
    "4. Chart the relationship between valence and bpm for songs released in the 80s, 90s, and 2000s\n",
    "5. Chart the relationship between a song's liveness and it's likelihood to be streamed more\n",
    "6. What's the best day of the month to release a song on to get the most streams? \n",
    "7. For song's with a valence under 20%, which release month leads to the highest stream count?\n",
    "\n",
    "\n",
    "#### Note from Christian:\n",
    "\n",
    "Apologies for using the word 'leads' here, or any other language that implies 'causation' from a condition found in the data. \n",
    "\n",
    "# We should always remember that correlation != causation when doing analysis"
   ]
  },
  {
   "cell_type": "code",
   "execution_count": null,
   "metadata": {},
   "outputs": [],
   "source": [
    "# Code here"
   ]
  }
 ],
 "metadata": {
  "kernelspec": {
   "display_name": "Python 3",
   "language": "python",
   "name": "python3"
  },
  "language_info": {
   "codemirror_mode": {
    "name": "ipython",
    "version": 3
   },
   "file_extension": ".py",
   "mimetype": "text/x-python",
   "name": "python",
   "nbconvert_exporter": "python",
   "pygments_lexer": "ipython3",
   "version": "3.12.4"
  }
 },
 "nbformat": 4,
 "nbformat_minor": 2
}
