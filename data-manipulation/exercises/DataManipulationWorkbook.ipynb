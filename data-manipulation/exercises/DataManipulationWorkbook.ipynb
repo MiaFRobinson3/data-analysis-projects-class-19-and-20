{
 "cells": [
  {
   "cell_type": "markdown",
   "id": "d2d52186",
   "metadata": {},
   "source": [
    "# Welcome to the Data Manipulation Exercises\n",
    "\n",
    "The workbook has been broken up into three sections.  Each section correlates to a reading assignment within the textbook."
   ]
  },
  {
   "cell_type": "code",
   "execution_count": 1,
   "id": "b781c5c2",
   "metadata": {},
   "outputs": [],
   "source": [
    "import pandas as pd\n",
    "import numpy as np\n",
    "\n",
    "# data= pd.read_csv(\"titanic.csv\") #This does not work\n",
    "data_file = pd.read_csv('/Users/miafusco/Documents/LaunchCode/data-analysis-projects2/data-manipulation/exercises/titanic.csv')\n"
   ]
  },
  {
   "cell_type": "markdown",
   "id": "2a701fe6",
   "metadata": {},
   "source": [
    "## Before You Get Started\n",
    "\n",
    "We are going to be using the Titanic Dataset. Make sure to run a head() before you start working with manipulation methods."
   ]
  },
  {
   "cell_type": "code",
   "execution_count": 2,
   "id": "bfa6771a",
   "metadata": {},
   "outputs": [],
   "source": [
    "# Run the head of your data set here:\n",
    "data_file.head(5)\n",
    "#  survived  pclass     sex   age  sibsp  parch     fare embarked  class    who  adult_male deck  embark_town alive  alone\n",
    "# 0         0       3    male  22.0      1      0   7.2500        S  Third    man        True  NaN  Southampton    no  False\n",
    "# 1         1       1  female  38.0      1      0  71.2833        C  First  woman       False    C    Cherbourg   yes  False\n",
    "# 2         1       3  female  26.0      0      0   7.9250        S  Third  woman       False  NaN  Southampton   yes   True\n",
    "# 3         1       1  female  35.0      1      0  53.1000        S  First  woman       False    C  Southampton   yes  False\n",
    "# 4         0       3    male  35.0      0      0   8.0500        S  Third    man        True  NaN  Southampton    no   True"
   ]
  },
  {
   "cell_type": "code",
   "execution_count": 3,
   "id": "90fb6f46",
   "metadata": {},
   "outputs": [],
   "source": [
    "# check for duplicates\n"
   ]
  },
  {
   "cell_type": "code",
   "execution_count": 4,
   "id": "dddfd9e9",
   "metadata": {},
   "outputs": [],
   "source": [
    "# if there are, go ahead and drop them:\n"
   ]
  },
  {
   "cell_type": "markdown",
   "id": "0f70caa2",
   "metadata": {},
   "source": [
    "### Cleaning Note:\n",
    "\n",
    "While the columns are not the \"prettiest\", don't adjust any of them yet. We are going to update some values and add some values as we workthrough this notebook. Applologies for the extra visual \"noise\" on your screen. You will be given the option to tidy up the columns at the end of this notebook."
   ]
  },
  {
   "cell_type": "markdown",
   "id": "11789dff",
   "metadata": {},
   "source": [
    "## Running Tables Note:  \n",
    "If your tables don't appear to have accepted your changes, try the \"Run All\" option in the \"Cell\" section of the menu bar.  "
   ]
  },
  {
   "cell_type": "markdown",
   "id": "a4104f7d",
   "metadata": {},
   "source": [
    "<span style=\"background-color:dodgerblue; color:dodgerblue;\">- - - - - - - - - - - - - - - - - - - - - - - - - - - - - - - - - - - - - - - - - - - - - - - - - - - - - - - - - - - - - - - - - - - - - - - - - - - - - - - - - - - - - - - - -</span> "
   ]
  },
  {
   "cell_type": "markdown",
   "id": "0948036e",
   "metadata": {},
   "source": [
    "# A. Aggregation\n",
    "\n",
    "1. Work through the section Exercises.  \n",
    "    - There are 4 sections in part A:\n",
    "        - Groupby\n",
    "        - Aggregation Methods\n",
    "        - Groupby and Basic Math\n",
    "        - Groupby and Multiple Aggregations\n"
   ]
  },
  {
   "cell_type": "markdown",
   "id": "1116d353",
   "metadata": {},
   "source": [
    "#### Creating Variables.\n",
    "\n",
    "As we begin to manipulate our data, create new variables to store your work in.  This will keep your original data in tact.  Having the original dataset available will save you time with each manipulation.  You can also create variable names that inform you of the purpose of the manipulation.  "
   ]
  },
  {
   "cell_type": "markdown",
   "id": "0621dc21",
   "metadata": {},
   "source": [
    "### 1: Groupby <span style=\"color:dodgerblue;\"> - - - - - - - - - - - - - - - - - - - - - - - - - - - - - - - - - - - - - - - - - - - - - - - - - - - </span> "
   ]
  },
  {
   "cell_type": "markdown",
   "id": "c89219ea",
   "metadata": {},
   "source": [
    "#### Groupby \"embark_town\"\n",
    "\n",
    "1. Using the titanic data set, groupby \"embark_town\".\n",
    "1. Create a variable that will represent the grouping of data. \n",
    "1. Intitalize it using the groupby() function and pass it the column.\n"
   ]
  },
  {
   "cell_type": "code",
   "execution_count": 5,
   "id": "34322f41",
   "metadata": {},
   "outputs": [],
   "source": [
    "# Code your groupby \"embark_town\" here:\n",
    "grouping_variable = data_file.groupby(\"embark_town\")"
   ]
  },
  {
   "cell_type": "code",
   "execution_count": 6,
   "id": "0465bb2f",
   "metadata": {},
   "outputs": [],
   "source": [
    "# To view the grouped data as a table, use the variable_name.first():\n",
    "grouping_variable.first()\n",
    "# survived\tpclass\tsex\tage\tsibsp\tparch\tfare\tembarked\tclass\twho\tadult_male\tdeck\talive\talone\n",
    "# embark_town\t\t\t\t\t\t\t\t\t\t\t\t\t\t\n",
    "# Cherbourg\t1\t1\tfemale\t38.0\t1\t0\t71.2833\tC\tFirst\twoman\tFalse\tC\tyes\tFalse\n",
    "# Queenstown\t0\t3\tmale\t2.0\t0\t0\t8.4583\tQ\tThird\tman\tTrue\tC\tno\tTrue\n",
    "# Southampton\t0\t3\tmale\t22.0\t1\t0\t7.2500\tS\tThird\tman\tTrue\tC\tno\tFalse\n"
   ]
  },
  {
   "cell_type": "markdown",
   "id": "0ffc226e",
   "metadata": {},
   "source": [
    "#### Groupby \"survived\"\n",
    "\n",
    "Did you know that you can also chain on some of our exploratory methods to the groupby method?\n",
    "\n",
    "1. Create & initalize a new variable to hold a table that will groupby \"survived\" \n",
    "1. Use method chaining to tack on the describe method"
   ]
  },
  {
   "cell_type": "code",
   "execution_count": 7,
   "id": "3e9afd3a",
   "metadata": {},
   "outputs": [],
   "source": [
    "# Code your groupby \"survived\" table here:\n",
    "people_survived = data_file.groupby(\"survived\")\n",
    "\n",
    "# run your table below:\n",
    "people_survived.first()\n",
    "# survived  pclass     sex   age  sibsp  parch     fare embarked  class    who  adult_male deck alive  alone\n",
    "# embark_town                                                                                                            \n",
    "# Cherbourg           1       1  female  38.0      1      0  71.2833        C  First  woman       False    C   yes  False\n",
    "# Queenstown          0       3    male   2.0      0      0   8.4583        Q  Third    man        True    C    no   True\n",
    "# Southampton         0       3    male  22.0      1      0   7.2500        S  Third    man        True    C    no  False\n",
    "# >>> people_survived = data_file.groupby(\"survived\")\n",
    "# >>> people_survived.first()\n",
    "#           pclass     sex   age  sibsp  parch     fare embarked  class    who  adult_male deck  embark_town alive  alone\n",
    "# survived                                                                                                               \n",
    "# 0              3    male  22.0      1      0   7.2500        S  Third    man        True    E  Southampton    no  False\n",
    "# 1              1  female  38.0      1      0  71.2833        C  First  woman       False    C    Cherbourg   yes  False"
   ]
  },
  {
   "cell_type": "code",
   "execution_count": 8,
   "id": "e218b79b",
   "metadata": {},
   "outputs": [],
   "source": [
    "# run your table with describe\n",
    "people_survived.describe()\n",
    "#  count      mean       std  min  25%  50%  75%  max  ...  count       mean        std  min      25%   50%   75%       max\n",
    "# survived                                                      ...                                                                 \n",
    "# 0         549.0  2.531876  0.735805  1.0  2.0  3.0  3.0  3.0  ...  549.0  22.117887  31.388207  0.0   7.8542  10.5  26.0  263.0000\n",
    "# 1         342.0  1.950292  0.863321  1.0  1.0  2.0  3.0  3.0  ...  342.0  48.395408  66.596998  0.0  12.4750  26.0  57.0  512.3292"
   ]
  },
  {
   "cell_type": "code",
   "execution_count": 9,
   "id": "25c917d1",
   "metadata": {},
   "outputs": [],
   "source": [
    "# How is this table organized?  Why are there 40 columns now?\n",
    "#The table is organized by count of survived, standard deviation, miniumum, mean, etc. \n"
   ]
  },
  {
   "cell_type": "markdown",
   "id": "42783c6d",
   "metadata": {},
   "source": [
    "### 2. Aggregation Methods <span style=\"color:dodgerblue;\"> - - - - - - - - - - - - - - - - - - - - - - - - - - - - - - - - - - - - - - - - - - - - - - - - - - - </span> "
   ]
  },
  {
   "cell_type": "markdown",
   "id": "3af74f16",
   "metadata": {},
   "source": [
    "Note: **agg()** and **aggregate()** are identical [source](https://pandas.pydata.org/docs/reference/api/pandas.DataFrame.aggregate.html)"
   ]
  },
  {
   "cell_type": "markdown",
   "id": "14147835",
   "metadata": {},
   "source": [
    "#### Method Chaining\n",
    "\n",
    "1. Create a variable to method chain **head()** and **agg()** togehter.\n",
    "1. Pass one of the following statistical values to **agg()**\n",
    "   - \"mean\", \"median\", \"mode\", \"min\", \"max\", \"std\", \"var\", \"first\", \"last\", \"sum\""
   ]
  },
  {
   "cell_type": "code",
   "execution_count": null,
   "id": "312a7c2f",
   "metadata": {},
   "outputs": [],
   "source": [
    "# Code your method chain here:\n",
    "agg_function = [\"mean\"]\n",
    "grouping_variable = data_file.groupby([\"fare\"])\n",
    "result = grouping_variable.agg(agg_function).head()\n",
    "    "
   ]
  },
  {
   "cell_type": "code",
   "execution_count": 11,
   "id": "089919c2",
   "metadata": {},
   "outputs": [],
   "source": [
    "# Create a variable to method chain head() with agg(\"sum\")\n",
    "agg_function = [\"sum\"]\n",
    "grouping_variable2 = data_file.groupby([\"age\"])\n",
    "result = grouping_variable2.agg(agg_function).head()\n",
    "# run your table:\n",
    "grouping_variable2.first()\n",
    "#   survived  pclass     sex  sibsp  parch      fare embarked   class    who  adult_male  deck  embark_town alive  alone\n",
    "# age                                                                                                                        \n",
    "# 0.42          1       3    male      0      1    8.5167        C   Third  child       False  None    Cherbourg   yes  False\n",
    "# 0.67          1       2    male      1      1   14.5000        S  Second  child       False  None  Southampton   yes  False\n",
    "# 0.75          1       3  female      2      1   19.2583        C   Third  child       False  None    Cherbourg   yes  False\n",
    "# 0.83          1       2    male      0      2   29.0000        S  Second  child       False  None  Southampton   yes  False\n",
    "# 0.92          1       1    male      1      2  151.5500        S   First  child       False     C  Southampton   yes  False\n",
    "# ...         ...     ...     ...    ...    ...       ...      ...     ...    ...         ...   ...          ...   ...    ...\n",
    "# 70.00         0       2    male      0      0   10.5000        S  Second    man        True     B  Southampton    no   True\n",
    "# 70.50         0       3    male      0      0    7.7500        Q   Third    man        True  None   Queenstown    no   True\n",
    "# 71.00         0       1    male      0      0   34.6542        C   First    man        True     A    Cherbourg    no   True\n",
    "# 74.00         0       3    male      0      0    7.7750        S   Third    man        True  None  Southampton    no   True\n",
    "# 80.00         1       1    male      0      0   30.0000        S   First    man        True     A  Southampton   yes   True\n",
    "\n",
    "# [88 rows x 14 columns]"
   ]
  },
  {
   "cell_type": "code",
   "execution_count": 12,
   "id": "29e72d3b",
   "metadata": {},
   "outputs": [],
   "source": [
    "# Explain the sum table.  What is going on with the \"sex\", \"class\", and \"alive\" columns?\n",
    "##I'm not sure. I don't think pandas would sum strings values. It doesn't look like anyhthing changed except instead of \"yes\" or \"no\" \n",
    "##I see \"true\" or \"false\" \n"
   ]
  },
  {
   "cell_type": "markdown",
   "id": "8f370f65",
   "metadata": {},
   "source": [
    "#### Using a Dictionary <span style=\"color:darkorange;\"> - - - - - - - - - - - - - - - - - - - - - - - - - - - - - - - - - - - - - - - - - - - - - - - - - - - </span> \n",
    "##### A dictionary is a Python collection type.  \n",
    "\n",
    "Is a collection type that stores **key-value pairs**.  A key-value pair is an orgainzation system that is made up of a single *key* that has one or more *values* paired with it.  \n",
    "Think of it like your contacts list.  The contacts list is the dictionary object.  \n",
    "Each contact is organized by a key, usually name.  And attached to each name is contact information, or the values.\n",
    "Some contacts might have email address, phone number, home or work address, etc. Other contacts may just be a name and phone number.  This is a very simple example, but understanding this orgainzational structure will be helpful as you learn to manipulate tables.  \n",
    "\n",
    "*Here is a dictionary example with 3 keys:*\n",
    ">**contacts_dictionary = {\"name1\": [\"email\", 555-5552, \"work info\"], \n",
    "      \"name2\": [\"email\", 555-5554],\n",
    "      \"name3\": 555-5555}**\n",
    "                     \n",
    "*Here is a dictionary example with a single key-value pair*\n",
    "**study_group_dictionary = {\"name1\": 555-5557}**   \n",
    "\n",
    "It has a single key, and a list of values. The organization of this structure is called a \"Key-Value Pair\".\n",
    "Using the contact list example, the key would be the name of the person and the values would be their contact information.  The key is a single item (the person's name) and the values can be a single item (an email address) or mulitple items (email, phone number, address, work info, etc).\n",
    "Keys and values can be any data type, but must use correct data type syntax.  The keys do not have to be strings, but they do need to be a single value.  \n",
    "\n",
    "For more information, you can read more on dictionary objects [here](https://www.w3schools.com/python/python_dictionaries.asp).\n"
   ]
  },
  {
   "cell_type": "markdown",
   "id": "ac1059cd",
   "metadata": {},
   "source": [
    "#### Aggregation across muliple columns using dictionary functionality\n",
    "\n",
    "##### Syntax Example:\n",
    "\n",
    "**age_dictionary={\"age\":[\"sum\", \"max\"]}**\n",
    "\n",
    "We are creating a new dictionary (**age_dictionary**).  The key is **age** and the values we want are **\"sum\"\"** and **\"max\"**.  This dictionary object has now become a tempate for the aggregations we want to preform.  However, on it's own, it does nothing.  Once passed to the **agg()** method, it will pick out the specific location of data we want to examine.  Making a subset table.  \n",
    "\n",
    "The code is contained in the box below.  Run it and see what happens.\n",
    "\n",
    "\n",
    "For syntax examples, review [this webpage](https://www.geeksforgeeks.org/python-pandas-dataframe-aggregate/).\n",
    "#### <span style=\"color:coral;\"> - - - - - - - - - - - - - - - - - - - - - - - - - - - - - - - - - - - - - - - - - - - - - - - - - - - </span>"
   ]
  },
  {
   "cell_type": "code",
   "execution_count": 13,
   "id": "89392dec",
   "metadata": {},
   "outputs": [],
   "source": [
    "# Predict the table output before you uncomment the code below.\n",
    "\n",
    "age_dictionary={\"age\":[\"sum\", \"max\"]}\n",
    "dictionary_agg=grouping_variable.agg(age_dictionary)\n",
    "dictionary_agg\n",
    "# age\n",
    "# sum\tmax\n",
    "# embark_town\t\t\n",
    "# Cherbourg\t4005.92\t71.0\n",
    "# Queenstown\t786.50\t70.5\n",
    "# Southampton\t16312.75\t80.0\n",
    "#  age      \n",
    "#             sum   max\n",
    "# fare                 \n",
    "# 0.0000    246.0  49.0\n",
    "# 4.0125     20.0  20.0\n",
    "# 5.0000     33.0  33.0\n",
    "# 6.2375     61.0  61.0\n",
    "# 6.4375     34.5  34.5\n",
    "# ...         ...   ...\n",
    "# 227.5250   98.0  42.0\n",
    "# 247.5208   74.0  50.0\n",
    "# 262.3750   39.0  21.0\n",
    "# 263.0000  130.0  64.0\n",
    "# 512.3292  106.0  36.0\n",
    "\n",
    "# [248 rows x 2 columns]\n"
   ]
  },
  {
   "cell_type": "markdown",
   "id": "c6e1283b",
   "metadata": {},
   "source": [
    "1. What if we want to look at more than one column at a time?  We pass more dictionaries to the agg function.\n",
    "1. Create a variable to hold at least 3 columns.  Use the syntax from the \"Syntax Example\" as a guide.\n",
    "    - Aggregate the following:  survived: \"sum\" & \"count\"; age: \"std\" & \"min\", and sibsp: \"count\" & \"sum\""
   ]
  },
  {
   "cell_type": "code",
   "execution_count": 14,
   "id": "2c7f1c6e",
   "metadata": {},
   "outputs": [],
   "source": [
    "# Code your dictionary here:\n",
    "new_dictionary = {\"age\":[\"sum\", \"max\"], \"sex\":[\"count\"]}\n",
    "dictionary_agg = grouping_variable.agg(new_dictionary)\n",
    "dictionary_agg\n",
    "\n",
    "new_dictionary2 = {\"age\":[\"std\", \"min\"], \"survived\":[\"sum\", \"count\"], \"sibsp\":[\"count\", \"sum\"]}\n",
    "dictionary_agg = grouping_variable.agg(new_dictionary2)\n",
    "dictionary_agg\n",
    "# age\tsurvived\tsibsp\n",
    "# std\tmin\tsum\tcount\tcount\tsum\n",
    "# embark_town\t\t\t\t\t\t\n",
    "# Cherbourg\t15.434860\t0.42\t93\t168\t168\t65\n",
    "# Queenstown\t16.915396\t2.00\t30\t77\t77\t33\n",
    "# Southampton\t14.143192\t0.67\t217\t644\t644\t368\n",
    "\n"
   ]
  },
  {
   "cell_type": "markdown",
   "id": "297d7169",
   "metadata": {},
   "source": [
    "### 3. Groupby and Basic Math <span style=\"color:dodgerblue;\"> - - - - - - - - - - - - - - - - - - - - - - - - - - - - - - - - - - - - - - - - - - - - - - - - - - - </span> \n",
    "\n",
    "1. Groupby \"pclass\".  Make sure you use a variable to hold your grouped data."
   ]
  },
  {
   "cell_type": "code",
   "execution_count": 15,
   "id": "ac154abb",
   "metadata": {},
   "outputs": [],
   "source": [
    "# Code your groupby here:\n",
    "pclass_group = data_file.groupby(\"pclass\")\n",
    "\n",
    "\n",
    "# Run your table using first() here instead of head():\n",
    "pclass_group.first()\n",
    "# \tsurvived\tsex\tage\tsibsp\tparch\tfare\tembarked\tclass\twho\tadult_male\tdeck\tembark_town\talive\talone\n",
    "# pclass\t\t\t\t\t\t\t\t\t\t\t\t\t\t\n",
    "# 1\t1\tfemale\t38.0\t1\t0\t71.2833\tC\tFirst\twoman\tFalse\tC\tCherbourg\tyes\tFalse\n",
    "# 2\t1\tfemale\t14.0\t1\t0\t30.0708\tC\tSecond\tchild\tFalse\tD\tCherbourg\tyes\tFalse\n",
    "# 3\t0\tmale\t22.0\t1\t0\t7.2500\tS\tThird\tman\tTrue\tG\tSouthampton\tno\tFalse\n",
    "\n"
   ]
  },
  {
   "cell_type": "markdown",
   "id": "b5b8a0be",
   "metadata": {},
   "source": [
    "### 4. Groupby and Multiple Aggregations <span style=\"color:dodgerblue;\"> - - - - - - - - - - - - - - - - - - - - - - - - - - - - - - - - - - - - - - - - - - - - - - - - - - - </span> "
   ]
  },
  {
   "cell_type": "markdown",
   "id": "83b74e40",
   "metadata": {},
   "source": [
    "#### Group with a List<span style=\"color:dodgerblue;\"> - - - - - - - - - - - - - - - - - - - - - - - - - - - - - - - - - - - - - - - - - - - - - - - - - - - </span>"
   ]
  },
  {
   "cell_type": "markdown",
   "id": "85d1655c",
   "metadata": {},
   "source": [
    "1. We want to do muliple aggregation functions to our newly grouped data set.  We created a variable to hold a list of functions we want to perform.  These functions are part of the agg method.  When we pass our list to the method, the method will iterate through each item and perform that function for the entire table."
   ]
  },
  {
   "cell_type": "code",
   "execution_count": 16,
   "id": "d79b7b1d",
   "metadata": {},
   "outputs": [],
   "source": [
    "# our list of functions\n",
    "agg_func_list = ['sum', 'mean', 'median', 'min', 'max', 'std', 'var', 'first', 'last', 'count']\n",
    "\n",
    "\n",
    "#Apply the agg method to our passenger_class variable (made in the Groupby Basic Math section).  \n",
    "# Pass our list to the function and run your table.\n",
    "pclass_group = data_file.groupby(\"pclass\")\n",
    "agg_function_list = ['sum', 'mean', 'median', 'min', 'max', 'std', 'var', 'first', 'last', 'count']\n",
    "result = pclass_group.agg(agg_function_list).first()\n",
    "##This is not working. \n",
    "\n",
    "\n",
    "  "
   ]
  },
  {
   "cell_type": "markdown",
   "id": "e734b183",
   "metadata": {},
   "source": [
    "#### Group with a Dictionary<span style=\"color:dodgerblue;\"> - - - - - - - - - - - - - - - - - - - - - - - - - - - - - - - - - - - - - - - - - - - - - - - - - - - </span>\n",
    "\n",
    "Using only a list provides us with the entire table.  What if we only want to look at age vs pclass?  \n",
    "\n",
    "we can create a dictionary to hold the age column for us.  The *key* would be the name of our column, and the values our list of functions to preform on that column.  The code would look like this:"
   ]
  },
  {
   "cell_type": "code",
   "execution_count": 17,
   "id": "460c85da",
   "metadata": {},
   "outputs": [],
   "source": [
    "agg_func_dict = { 'age':['sum', 'mean', 'median', 'min', 'max', 'std', 'var', 'first', 'last', 'count']}\n",
    "# We would run our table like this:\n",
    "pclass_group.agg(agg_func_dict) \n",
    "# age                                                                       \n",
    "#             sum       mean median   min   max        std         var first  last count\n",
    "# pclass                                                                                \n",
    "# 1       7111.42  38.233441   37.0  0.92  80.0  14.802856  219.124543  38.0  26.0   186\n",
    "# 2       5168.83  29.877630   29.0  0.67  70.0  14.001077  196.030152  14.0  27.0   173\n",
    "# 3       8924.92  25.140620   24.0  0.42  74.0  12.495398  156.134976  22.0  32.0   355 "
   ]
  },
  {
   "cell_type": "markdown",
   "id": "18b17b5f",
   "metadata": {},
   "source": [
    "Looking at the *age_func_dict* syntax, create a dictionary variable for the \"survived\" column and pass it to **passenger_class.agg()** in the box below."
   ]
  },
  {
   "cell_type": "code",
   "execution_count": 18,
   "id": "2b05656e",
   "metadata": {},
   "outputs": [],
   "source": [
    "# Code it here:\n",
    "agg_func_dict2 = {'survived':['sum','mean','median','min','max','std','var','first','last','count']}\n",
    "pclass_group.agg(agg_func_dict2) \n",
    "# survived                                                              \n",
    "#             sum      mean median min max       std       var first last count\n",
    "# pclass                                                                       \n",
    "# 1           136  0.629630    1.0   0   1  0.484026  0.234281     1    1   216\n",
    "# 2            87  0.472826    0.0   0   1  0.500623  0.250624     1    0   184\n",
    "# 3           119  0.242363    0.0   0   1  0.428949  0.183998     0    0   491\n",
    "\n",
    "\n",
    "\n"
   ]
  },
  {
   "cell_type": "markdown",
   "id": "4a224518",
   "metadata": {},
   "source": [
    "<span style=\"background-color:dodgerblue; color:dodgerblue;\">- - - - - - - - - - - - - - - - - - - - - - - - - - - - - - - - - - - - - - - - - - - - - - - - - - - - - - - - - - - - - - - - - - - - - - - - - - - - - - - - - - - - - - - - -</span> "
   ]
  },
  {
   "cell_type": "markdown",
   "id": "7e825467",
   "metadata": {},
   "source": [
    "# B. Recoding and Creating New Values and Variables \n",
    "\n",
    "1. Work through the Part B, there are 3 sections"
   ]
  },
  {
   "cell_type": "markdown",
   "id": "646f6c33",
   "metadata": {},
   "source": [
    "### Create a New Column <span style=\"color:dodgerblue;\"> - - - - - - - - - - - - - - - - - - - - - - - - - - - - - - - - - - - - - - - - - - - - - - - - - - - </span> \n",
    "\n",
    "In the box below:\n",
    "1. Create a new column by manipulating the values of different column.  Specifically, create a new column, \"fare_2021\" that allows us to compare the cost of fare in pounds back in 1912 to 2021.  [This website](https://www.in2013dollars.com/uk/inflation/1912) can help you find the 2021 fare amount. "
   ]
  },
  {
   "cell_type": "code",
   "execution_count": 19,
   "id": "1d521795",
   "metadata": {},
   "outputs": [],
   "source": [
    "# Code your new \"fare_2021\" column here:\n",
    "inflation_factor = 114.89\n",
    "data_file[\"fare_2021\"] = data_file[\"fare\"] * inflation_factor\n",
    "# Run the head of your table to see your new column:\n",
    "data_file.head()\n",
    "# survived  pclass     sex   age  sibsp  parch     fare  ... adult_male deck  embark_town  alive  alone fare_reformatted    fare_2021\n",
    "# 0         0       3    male  22.0      1      0   7.2500  ...       True  NaN  Southampton     no  False           7.2500   832.952500\n",
    "# 1         1       1  female  38.0      1      0  71.2833  ...      False    C    Cherbourg    yes  False          71.2833  8189.738337\n",
    "# 2         1       3  female  26.0      0      0   7.9250  ...      False  NaN  Southampton    yes   True           7.9250   910.503250\n",
    "# 3         1       1  female  35.0      1      0  53.1000  ...      False    C  Southampton    yes  False          53.1000  6100.659000\n",
    "# 4         0       3    male  35.0      0      0   8.0500  ...       True  NaN  Southampton     no   True           8.0500   924.864500\n",
    "\n",
    "# [5 rows x 17 columns]"
   ]
  },
  {
   "cell_type": "markdown",
   "id": "a944618b",
   "metadata": {},
   "source": [
    "### Replacing Values <span style=\"color:dodgerblue;\"> - - - - - - - - - - - - - - - - - - - - - - - - - - - - - - - - - - - - - - - - - - - - - - - - - - - </span> \n",
    " \n",
    "Replace the values in the \"alive\" coloum from string \"yes\" or \"no\" to bools, where \"yes\" becomes True and \"no\" becomes False."
   ]
  },
  {
   "cell_type": "code",
   "execution_count": 20,
   "id": "5aa29ad3",
   "metadata": {},
   "outputs": [],
   "source": [
    "# Code your updated values here:\n",
    "data_file[\"alive_reformatted\"] = data_file[\"alive\"].replace({\"no\": False, \"yes\": True})\n",
    "# survived  pclass     sex   age  sibsp  parch  ...  embark_town alive  alone fare_reformatted    fare_2021 alive_reformatted\n",
    "# 0         0       3    male  22.0      1      0  ...  Southampton    no  False           7.2500   832.952500             False\n",
    "# 1         1       1  female  38.0      1      0  ...    Cherbourg   yes  False          71.2833  8189.738337              True\n",
    "# 2         1       3  female  26.0      0      0  ...  Southampton   yes   True           7.9250   910.503250              True\n",
    "# 3         1       1  female  35.0      1      0  ...  Southampton   yes  False          53.1000  6100.659000              True\n",
    "# 4         0       3    male  35.0      0      0  ...  Southampton    no   True           8.0500   924.864500             False\n",
    "\n",
    "# [5 rows x 18 columns]\n",
    "\n"
   ]
  },
  {
   "cell_type": "markdown",
   "id": "961d7e60",
   "metadata": {},
   "source": [
    "We can also use functions to update values.\n",
    "\n",
    "1. Create a function that will set the alive values as bools. Apply it to your table and run your table here:"
   ]
  },
  {
   "cell_type": "code",
   "execution_count": 21,
   "id": "6b14b0ee",
   "metadata": {},
   "outputs": [],
   "source": [
    "# Code your function here:\n",
    "def alive_values_bools(value): \n",
    "    if value == \"yes\":\n",
    "        return True \n",
    "    elif value == \"no\": \n",
    "        return False\n",
    "    else:\n",
    "        return None\n",
    "data_file[\"alive_bools\"] = data_file[\"alive\"].apply(alive_values_bools)\n"
   ]
  },
  {
   "cell_type": "markdown",
   "id": "6a830345",
   "metadata": {},
   "source": [
    "### Using a function to create a new column <span style=\"color:dodgerblue;\"> - - - - - - - - - - - - - - - - - - - - - - - - - - - - - - - - - - - - - - - - - - - - - - - - - - - </span> \n",
    "\n",
    "Sometimes you might want to create a new column based on combining multiple columns together.\n",
    "\n",
    "1. create an \"age_group\" column that breaks years up as 0-19, 20-29, 30-39, etc until all given ages are covered.  Make sure you check to see where you can stop counting by 10s."
   ]
  },
  {
   "cell_type": "code",
   "execution_count": 22,
   "id": "ca1e0dee",
   "metadata": {},
   "outputs": [],
   "source": [
    "# Write your max age check here:\n",
    "def age_group_column(age):\n",
    "    if age =>0 and <= 19: \n",
    "        return '0-19'\n",
    "    elif age => 20 and <= 29:\n",
    "        return '20-29'\n",
    "    elif age =>30 and <= 39:\n",
    "        return '30-39'\n",
    "    elif age >= 40 and age <= 49:\n",
    "        return '40-49'\n",
    "    elif age >= 50 and age <= 59:\n",
    "        return '50-59'\n",
    "    elif age >= 60 and age <= 69:\n",
    "        return '60-69'\n",
    "    elif age >= 70 and age <= 79:\n",
    "        return '70-79'\n",
    "    elif age >= 80:\n",
    "        return '80+'\n",
    "    else:\n",
    "        return None\n",
    "data_file[\"age_group\"] = data_file[\"age\"].apply(age_group_column)\n",
    "\n",
    "##not working\n"
   ]
  },
  {
   "cell_type": "code",
   "execution_count": 23,
   "id": "9061858c",
   "metadata": {},
   "outputs": [],
   "source": [
    "# Code the new \"age_group\" column function here:\n",
    "\n"
   ]
  },
  {
   "cell_type": "markdown",
   "id": "9a64ca65",
   "metadata": {},
   "source": [
    "<span style=\"background-color:dodgerblue; color:dodgerblue;\">- - - - - - - - - - - - - - - - - - - - - - - - - - - - - - - - - - - - - - - - - - - - - - - - - - - - - - - - - - - - - - - - - - - - - - - - - - - - - - - - - - - - - - - - -</span> "
   ]
  },
  {
   "cell_type": "markdown",
   "id": "5760d2ed",
   "metadata": {},
   "source": [
    "# C. Reshaping Tables\n",
    "\n",
    "1. Work through Part C, there are 4 sections"
   ]
  },
  {
   "cell_type": "markdown",
   "id": "9f6ceef3",
   "metadata": {},
   "source": [
    "### Sort_values <span style=\"color:dodgerblue;\"> - - - - - - - - - - - - - - - - - - - - - - - - - - - - - - - - - - - - - - - - - - - - - - - - - - - </span> "
   ]
  },
  {
   "cell_type": "markdown",
   "id": "268ddc8a",
   "metadata": {},
   "source": [
    "Use **sort_values()** to answer the following question:\n",
    "> What is the age of the person who paid the highest fare?\n",
    "\n",
    "Hint: We want to see the highest fare value first. What order would we want? ascending or descending?  Check the [documentation](https://pandas.pydata.org/docs/reference/api/pandas.DataFrame.sort_values.html?highlight=sort_values#pandas.DataFrame.sort_values) for the syntax."
   ]
  },
  {
   "cell_type": "code",
   "execution_count": 24,
   "id": "21b3a95e",
   "metadata": {},
   "outputs": [],
   "source": [
    "# Code your sort_values here:\n",
    "data_file.sort_values(by=['fare'], ascending=False)\n",
    "\n",
    "# Run your table here:\n",
    "\n",
    "#  survived  pclass     sex   age  sibsp  parch  ...  embark_town alive  alone fare_reformatted     fare_2021 alive_reformatted\n",
    "# 258         1       1  female  35.0      0      0  ...    Cherbourg   yes   True         512.3292  58861.501788              True\n",
    "# 737         1       1    male  35.0      0      0  ...    Cherbourg   yes   True         512.3292  58861.501788              True\n",
    "# 679         1       1    male  36.0      0      1  ...    Cherbourg   yes  False         512.3292  58861.501788              True\n",
    "# 88          1       1  female  23.0      3      2  ...  Southampton   yes  False         263.0000  30216.070000              True\n",
    "# 27          0       1    male  19.0      3      2  ...  Southampton    no  False         263.0000  30216.070000             False\n",
    "# ..        ...     ...     ...   ...    ...    ...  ...          ...   ...    ...              ...           ...               ...\n",
    "# 633         0       1    male   NaN      0      0  ...  Southampton    no   True           0.0000      0.000000             False\n",
    "# 413         0       2    male   NaN      0      0  ...  Southampton    no   True           0.0000      0.000000             False\n",
    "# 822         0       1    male  38.0      0      0  ...  Southampton    no   True           0.0000      0.000000             False\n",
    "# 732         0       2    male   NaN      0      0  ...  Southampton    no   True           0.0000      0.000000             False\n",
    "# 674         0       2    male   NaN      0      0  ...  Southampton    no   True           0.0000      0.000000             False\n",
    "\n",
    "# [891 rows x 18 columns]"
   ]
  },
  {
   "cell_type": "markdown",
   "id": "0a5d0d2c",
   "metadata": {},
   "source": [
    "### pivot_table <span style=\"color:dodgerblue;\"> - - - - - - - - - - - - - - - - - - - - - - - - - - - - - - - - - - - - - - - - - - - - - - - - - - - </span> \n",
    "1. pivot the table of the summed data where the values are \"fare\", index is \"who\" and \"age_group\", and the columns are \"survived\"\n",
    "\n",
    "Hint: set the aggfunc parameter to np.sum\n",
    "\n",
    "\n"
   ]
  },
  {
   "cell_type": "code",
   "execution_count": 25,
   "id": "74b19d7f",
   "metadata": {},
   "outputs": [],
   "source": [
    "# Code your pivot_table here:\n",
    "import numpy as np\n",
    "pivot_table=data_file.pivot_table(values='fare', aggfunc=np.sum, index=['who', 'age'], columns='survived')\n",
    "print(pivot_table)\n",
    "# Run your table here:\n",
    "# survived        0         1\n",
    "# who   age                  \n",
    "# child 0.42    NaN    8.5167\n",
    "#       0.67    NaN   14.5000\n",
    "#       0.75    NaN   38.5166\n",
    "#       0.83    NaN   47.7500\n",
    "#       0.92    NaN  151.5500\n",
    "# ...           ...       ...\n",
    "# woman 57.00  10.5       NaN\n",
    "#       58.00   NaN  326.5333\n",
    "#       60.00   NaN   75.2500\n",
    "#       62.00   NaN   80.0000\n",
    "#       63.00   NaN   87.5458\n",
    "\n",
    "# [133 rows x 2 columns]"
   ]
  },
  {
   "cell_type": "markdown",
   "id": "3863d61c",
   "metadata": {},
   "source": [
    "### Wide to Long <span style=\"color:dodgerblue;\"> - - - - - - - - - - - - - - - - - - - - - - - - - - - - - - - - - - - - - - - - - - - - - - - - - - - </span> \n",
    "\n",
    "1. Create a table where the columns are \"who\" and the values are \"pclass\"\n",
    "1. Answer the question:  How does this table differ from the pivot_table above?  Specifically, how is \"who\" different?"
   ]
  },
  {
   "cell_type": "code",
   "execution_count": 26,
   "id": "c6f05a93",
   "metadata": {},
   "outputs": [],
   "source": [
    "# Code your table here:\n",
    "pclass_table=data_file.pivot_table(values='pclass',columns='who')\n",
    "\n",
    "# Run your table here:\n",
    "print(pclass_table)\n",
    "# who        child       man     woman\n",
    "# pclass  2.626506  2.372439  2.084871\n",
    "\n",
    "# Answer the question here:\n",
    "##who is now the pclass. \n"
   ]
  },
  {
   "cell_type": "markdown",
   "id": "854e4b22",
   "metadata": {},
   "source": [
    "### Melt <span style=\"color:dodgerblue;\"> - - - - - - - - - - - - - - - - - - - - - - - - - - - - - - - - - - - - - - - - - - - - - - - - - - - </span> "
   ]
  },
  {
   "cell_type": "markdown",
   "id": "40521afb",
   "metadata": {},
   "source": [
    "1.  What does **melt** to the data? "
   ]
  },
  {
   "cell_type": "code",
   "execution_count": 27,
   "id": "361a2ac1",
   "metadata": {},
   "outputs": [],
   "source": [
    "# What does melt do?\n",
    "##Melt changes tables from wide format to long format. "
   ]
  },
  {
   "cell_type": "markdown",
   "id": "0a9f586c",
   "metadata": {},
   "source": [
    "2. Melt to your data.  Be sure to store the output in a new variable.  What is the new shape of your table?"
   ]
  },
  {
   "cell_type": "code",
   "execution_count": 28,
   "id": "056ee34b",
   "metadata": {},
   "outputs": [],
   "source": [
    "# Create your default melt table here with the following syntax:  new_name = pd.melt(data_set)\n",
    "new_name=pd.melt(pclass_table)\n",
    "# Run your table here:\n",
    "print(new_name)\n",
    "# Check the shape of your new table.\n",
    "#  who     value\n",
    "# 0  child  2.626506\n",
    "# 1    man  2.372439\n",
    "# 2  woman  2.084871"
   ]
  },
  {
   "cell_type": "markdown",
   "id": "2b203e5c",
   "metadata": {},
   "source": [
    "3. Create a melt table where the index variables are \"embarked\", and the values are \"fare\" and \"deck\""
   ]
  },
  {
   "cell_type": "code",
   "execution_count": 29,
   "id": "49dddb6f",
   "metadata": {},
   "outputs": [],
   "source": [
    "# Create your melt table here:\n",
    "\n",
    "# Run your table here:\n",
    "\n",
    "# Check the shape\n"
   ]
  },
  {
   "cell_type": "markdown",
   "id": "ed3c7217",
   "metadata": {},
   "source": [
    "# Optonal Challenges:\n",
    "\n",
    "1. Clean and Explore the table.  \n",
    "    1. How would you handle any missing data?\n",
    "    1. Would you keep all of the columns?\n",
    "    1. Would you want to manipulate any data?"
   ]
  },
  {
   "cell_type": "code",
   "execution_count": null,
   "id": "6b2b3f82",
   "metadata": {},
   "outputs": [],
   "source": []
  }
 ],
 "metadata": {
  "kernelspec": {
   "display_name": "Python 3 (ipykernel)",
   "language": "python",
   "name": "python3"
  },
  "language_info": {
   "codemirror_mode": {
    "name": "ipython",
    "version": 3
   },
   "file_extension": ".py",
   "mimetype": "text/x-python",
   "name": "python",
   "nbconvert_exporter": "python",
   "pygments_lexer": "ipython3",
   "version": "3.10.12"
  }
 },
 "nbformat": 4,
 "nbformat_minor": 5
}
