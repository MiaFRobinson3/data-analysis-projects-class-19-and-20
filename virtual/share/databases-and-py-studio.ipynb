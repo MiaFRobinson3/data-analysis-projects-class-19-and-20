{
 "cells": [
  {
   "attachments": {},
   "cell_type": "markdown",
   "metadata": {
    "azdata_cell_guid": "54326aff-51cd-4766-8046-828a92489c6d"
   },
   "source": [
    "# Studio: Working with Databases in Python\n",
    "\n",
    "For today's studio, we will be using the [TV Shows dataset](https://www.kaggle.com/ruchi798/tv-shows-on-netflix-prime-video-hulu-and-disney) from Kaggle. We have already downloaded the CSV for you.\n",
    "\n",
    "You will use the watchlist you created to answer these questions:\n",
    "\n",
    "1. **Which streaming services contain the shows you want to watch next?**\n",
    "2. **Which streaming service is the best value based on the shows you want to watch?**\n",
    "\n",
    "As you complete the different tasks in the studio, you may choose between using Pandas or SQL. \n",
    "\n",
    "**Remember**: we learned in our prep work that one is oftentimes more efficient at certain tasks than the other, so choose wisely!"
   ]
  },
  {
   "attachments": {},
   "cell_type": "markdown",
   "metadata": {
    "azdata_cell_guid": "00bc62ef-6c46-40a2-bdad-a3250a003ce7"
   },
   "source": [
    "## My Watchlist\n",
    "\n",
    "If you would like, please use this space to make note of your watchlist by editing the text cell. You will need 10 shows overall.\n",
    "\n",
    "1. Big Little Lies\n",
    "2. Only Murders in the Building\n",
    "3. Little Fires Everywhere\n",
    "4. Slow Horses\n",
    "5. Chopped\n",
    "6. The Sopranos\n",
    "7. Black Mirror\n",
    "8. Better Call Saul\n",
    "9. Avatar: The Last Airbender\n",
    "10. The Wire"
   ]
  },
  {
   "cell_type": "markdown",
   "metadata": {
    "azdata_cell_guid": "040bdac5-f7fc-474f-b112-1d807249ad0a"
   },
   "source": [
    "## Database Setup\n",
    "\n",
    "Import the necessary libraries and create a dataframe from the provided CSV. \n",
    "\n",
    "Print the info out for the dataframe. \n",
    "\n",
    "After that, you may drop the column called `Unnamed: 0` and rename any columns with spaces or unusual characters in the names such as `\"Disney+\"`. \n",
    "\n",
    "Print out the info for the dataframe again to ensure your changes were made."
   ]
  },
  {
   "cell_type": "code",
   "execution_count": 2,
   "metadata": {
    "azdata_cell_guid": "965f15d3-27b1-43ed-97e4-8c6fd482476c",
    "tags": []
   },
   "outputs": [
    {
     "name": "stdout",
     "output_type": "stream",
     "text": [
      "Index(['Unnamed: 0', 'ID', 'Title', 'Year', 'Age', 'IMDb', 'Rotten Tomatoes',\n",
      "       'Netflix', 'Hulu', 'Prime Video', 'Disney+', 'Type'],\n",
      "      dtype='object')\n",
      "Index(['ID', 'Title', 'Year', 'Age', 'IMDb', 'Rotten Tomatoes', 'Netflix',\n",
      "       'Hulu', 'Prime Video', 'Disney+', 'Type'],\n",
      "      dtype='object')\n",
      "Index(['ID', 'Title', 'Year', 'Age', 'IMDb', 'Rotten Tomatoes', 'Netflix',\n",
      "       'Hulu', 'Prime Video', 'Disney Plus', 'Type'],\n",
      "      dtype='object')\n"
     ]
    }
   ],
   "source": [
    "# Code here\n",
    "import pandas as pd\n",
    "import numpy as np\n",
    "import matplotlib.pyplot as plt\n",
    "\n",
    "df = pd.read_csv(\"tv_shows.csv\")\n",
    "df = pd.DataFrame(df)\n",
    "\n",
    "print(df.columns)\n",
    "\n",
    "df = df.drop(columns=['Unnamed: 0'])\n",
    "\n",
    "print(df.columns)\n",
    "\n",
    "df = df.rename(columns={'Disney+': 'Disney Plus'})\n",
    "\n",
    "print(df.columns)"
   ]
  },
  {
   "attachments": {},
   "cell_type": "markdown",
   "metadata": {
    "azdata_cell_guid": "93875e01-f1ec-45ab-b8b3-c0fe09c89c41"
   },
   "source": [
    "With your dataframe at the ready, create a new database called `tv.db`. \n",
    "\n",
    "Add a new table to your database called `shows` using the data in the dataframe. "
   ]
  },
  {
   "cell_type": "code",
   "execution_count": 26,
   "metadata": {
    "azdata_cell_guid": "cae4affc-d930-4649-9c39-551475a83b5b",
    "tags": []
   },
   "outputs": [],
   "source": [
    "# Code here\n",
    "import sqlite3\n",
    "import pandas as pd\n",
    "con = sqlite3.connect('tv.db')\n",
    "\n",
    "cursor = con.cursor()\n",
    "\n",
    "cursor.execute(\"\"\"\n",
    "CREATE TABLE IF NOT EXISTS shows_table (\n",
    "    id INTEGER NOT NULL PRIMARY KEY AUTOINCREMENT,\n",
    "    title TEXT, \n",
    "    year INT, \n",
    "    age INT, \n",
    "    imdb INT, \n",
    "    \"Rotten Tomatoes\" INT,\n",
    "    Netflix INT, \n",
    "    Hulu INT, \n",
    "    \"Prime Video\" INT, \n",
    "    \"Disney Plus\" INT, \n",
    "    type INT\n",
    ")\n",
    "\"\"\")\n",
    "\n",
    "sql = '''INSERT INTO shows_table(title, year, age, imdb, \"Rotten Tomatoes\", Netflix, Hulu, \"Prime Video\", \"Disney Plus\", type)\n",
    "        VALUES(?,?,?,?,?,?,?,?,?,?)'''\n",
    "\n",
    "data = list(df[['Title', 'Year', 'Age', 'IMDb', 'Rotten Tomatoes', 'Netflix','Hulu', 'Prime Video', 'Disney Plus', 'Type']].itertuples(index=False, name=None))\n",
    "\n",
    "cursor.executemany(sql,data)\n",
    "con.commit()\n",
    "con.close()\n"
   ]
  },
  {
   "attachments": {},
   "cell_type": "markdown",
   "metadata": {
    "azdata_cell_guid": "4916f211-149f-467b-b5e4-22ad946b54f2"
   },
   "source": [
    "With your new table and database set up, print out the top 20 records in the `shows` table."
   ]
  },
  {
   "cell_type": "code",
   "execution_count": 9,
   "metadata": {
    "azdata_cell_guid": "c6aa3980-3eef-4d7d-8f04-961508662147",
    "tags": []
   },
   "outputs": [
    {
     "name": "stdout",
     "output_type": "stream",
     "text": [
      "(1, 'Breaking Bad', 2008, '18+', '9.4/10', '100/100', 1, 0, 0, 0, 1)\n",
      "(2, 'Stranger Things', 2016, '16+', '8.7/10', '96/100', 1, 0, 0, 0, 1)\n",
      "(3, 'Attack on Titan', 2013, '18+', '9.0/10', '95/100', 1, 1, 0, 0, 1)\n",
      "(4, 'Better Call Saul', 2015, '18+', '8.8/10', '94/100', 1, 0, 0, 0, 1)\n",
      "(5, 'Dark', 2017, '16+', '8.8/10', '93/100', 1, 0, 0, 0, 1)\n",
      "(6, 'Avatar: The Last Airbender', 2005, '7+', '9.3/10', '93/100', 1, 0, 1, 0, 1)\n",
      "(7, 'Peaky Blinders', 2013, '18+', '8.8/10', '93/100', 1, 0, 0, 0, 1)\n",
      "(8, 'The Walking Dead', 2010, '18+', '8.2/10', '93/100', 1, 0, 0, 0, 1)\n",
      "(9, 'Black Mirror', 2011, '18+', '8.8/10', '92/100', 1, 0, 0, 0, 1)\n",
      "(10, \"The Queen's Gambit\", 2020, '18+', '8.6/10', '92/100', 1, 0, 0, 0, 1)\n",
      "(11, 'Mindhunter', 2017, '18+', '8.6/10', '90/100', 1, 0, 0, 0, 1)\n",
      "(12, 'Community', 2009, '7+', '8.5/10', '90/100', 1, 1, 1, 0, 1)\n",
      "(13, 'Narcos', 2015, '18+', '8.8/10', '90/100', 1, 0, 0, 0, 1)\n",
      "(14, 'Shameless', 2011, '18+', '8.5/10', '90/100', 1, 1, 1, 0, 1)\n",
      "(15, 'Money Heist', 2017, '18+', '8.3/10', '90/100', 1, 0, 0, 0, 1)\n",
      "(16, \"Marvel's Daredevil\", 2015, '18+', '8.6/10', '90/100', 1, 0, 0, 0, 1)\n",
      "(17, 'Lucifer', 2016, '16+', '8.1/10', '90/100', 1, 0, 0, 0, 1)\n",
      "(18, 'Supernatural', 2005, '16+', '8.4/10', '89/100', 1, 0, 0, 0, 1)\n",
      "(19, 'The Witcher', 2019, '18+', '8.2/10', '89/100', 1, 0, 0, 0, 1)\n",
      "(20, 'Ozark', 2017, '18+', '8.4/10', '89/100', 1, 0, 0, 0, 1)\n"
     ]
    }
   ],
   "source": [
    "# Code Here\n",
    "import sqlite3\n",
    "con = sqlite3.connect('tv.db')\n",
    "\n",
    "cursor = con.cursor()\n",
    "\n",
    "cursor.execute(\"SELECT * FROM shows_table LIMIT 20\")\n",
    "data = cursor.fetchall()\n",
    "for row in data:\n",
    "    print(row)\n",
    "\n",
    "con.close()\n",
    "\n",
    "\n"
   ]
  },
  {
   "attachments": {},
   "cell_type": "markdown",
   "metadata": {
    "azdata_cell_guid": "f158ccd2-c87a-4d2c-a947-0eadd0484a3e"
   },
   "source": [
    "Now, create a new table called `watchlist` that has three fields:\n",
    "1. id -> data type of `INTEGER NOT NULL PRIMARY KEY AUTOINCREMENT`\n",
    "2. title -> data type of `TEXT`\n",
    "3. importance_rank -> data type of `INTEGER`\n",
    "\n",
    "For the `importance_rank` field, rank each of your watchlist shows based on how much you want to see them, `10` being the most important and `1` being the least important.\n",
    "\n",
    "Then, insert each of the items from your watchlist into the new `watchlist` table, using the `executemany` method from our exercises.\n",
    "\n",
    "Finally, select all the records from the `watchlist` table and print them out to the console."
   ]
  },
  {
   "cell_type": "code",
   "execution_count": 25,
   "metadata": {
    "azdata_cell_guid": "f95defad-521b-4112-8435-08daaac80b80"
   },
   "outputs": [
    {
     "name": "stdout",
     "output_type": "stream",
     "text": [
      "(1, 'Big Little Lies', 6)\n",
      "(2, 'Only Murders in the Building', 7)\n",
      "(3, 'Little Fires Everywhere', 8)\n",
      "(4, 'Slow Horses', 5)\n",
      "(5, 'Chopped', 3)\n",
      "(6, 'The Sopranos', 4)\n",
      "(7, 'Black Mirror', 9)\n",
      "(8, 'Better Call Saul', 2)\n",
      "(9, 'The Wire', 10)\n",
      "(10, 'Avatar: The Last Airbender', 1)\n"
     ]
    }
   ],
   "source": [
    "# Code here\n",
    "import sqlite3\n",
    "import pandas as pd\n",
    "con = sqlite3.connect('tv.db', timeout=30)\n",
    "\n",
    "cursor = con.cursor()\n",
    "\n",
    "cursor.execute(\"\"\"\n",
    "CREATE TABLE IF NOT EXISTS watchlist_table (\n",
    "    id INTEGER NOT NULL PRIMARY KEY AUTOINCREMENT,\n",
    "    title TEXT, \n",
    "    importance_rank INT\n",
    ")\n",
    "\"\"\")\n",
    "\n",
    "sql = '''INSERT INTO watchlist_table(title, importance_rank)\n",
    "        VALUES(?,?)'''\n",
    "\n",
    "data = [\n",
    "    ('Big Little Lies', 6),\n",
    "    ('Only Murders in the Building', 7),\n",
    "    ('Little Fires Everywhere', 8),\n",
    "    ('Slow Horses', 5),\n",
    "    ('Chopped', 3),\n",
    "    ('The Sopranos', 4),\n",
    "    ('Black Mirror', 9),\n",
    "    ('Better Call Saul', 2),\n",
    "    ('The Wire', 10),\n",
    "    ('Avatar: The Last Airbender', 1)\n",
    "]\n",
    "\n",
    "cursor.executemany(sql, data)\n",
    "con.commit()\n",
    "con.close()\n",
    "\n",
    "import sqlite3\n",
    "con = sqlite3.connect('tv.db')\n",
    "\n",
    "cursor = con.cursor()\n",
    "\n",
    "cursor.execute(\"SELECT * FROM watchlist_table\")\n",
    "data = cursor.fetchall()\n",
    "for row in data:\n",
    "    print(row)\n",
    "\n",
    "con.close()"
   ]
  },
  {
   "cell_type": "code",
   "execution_count": null,
   "metadata": {},
   "outputs": [],
   "source": []
  },
  {
   "cell_type": "code",
   "execution_count": null,
   "metadata": {},
   "outputs": [],
   "source": []
  },
  {
   "cell_type": "code",
   "execution_count": null,
   "metadata": {},
   "outputs": [],
   "source": []
  },
  {
   "cell_type": "code",
   "execution_count": null,
   "metadata": {},
   "outputs": [],
   "source": []
  },
  {
   "attachments": {},
   "cell_type": "markdown",
   "metadata": {
    "azdata_cell_guid": "4716090d-63e3-4283-8245-934c4a28c750"
   },
   "source": [
    "## Working with the Data\n",
    "\n",
    "Using Pandas or SQL, find the answer to these 2 questions:\n",
    "1. How many of the total shows (full csv list) are on each streaming service?\n",
    "2. What percentage of these total shows is available on each streaming service?\n",
    "\n",
    "**Hint**:\n",
    "\n",
    "Use the pandas `query` method to filter the data, and then the Python `len` method to find it's length. [Relevant Link](https://www.geeksforgeeks.org/ways-to-filter-pandas-dataframe-by-column-values/)"
   ]
  },
  {
   "cell_type": "code",
   "execution_count": 22,
   "metadata": {
    "azdata_cell_guid": "8e4f3757-474f-4e20-b861-db973437b541"
   },
   "outputs": [
    {
     "name": "stdout",
     "output_type": "stream",
     "text": [
      "5368\n",
      "{'Netflix': np.int64(1971), 'Hulu': np.int64(1621), 'Prime Video': np.int64(1831), 'Disney Plus': np.int64(351)}\n",
      "{'Netflix': np.float64(36.71758569299553), 'Hulu': np.float64(30.19746646795827), 'Prime Video': np.float64(34.10953800298063), 'Disney Plus': np.float64(6.538748137108792)}\n"
     ]
    }
   ],
   "source": [
    "# Code here\n",
    "total_shows = len(df)\n",
    "print(total_shows)\n",
    "#There are 5368 total shows.\n",
    "\n",
    "streaming_services = {\n",
    "    'Netflix': df['Netflix'].sum(),\n",
    "    'Hulu': df['Hulu'].sum(),\n",
    "    'Prime Video': df['Prime Video'].sum(),\n",
    "    'Disney Plus': df['Disney Plus'].sum()\n",
    "}\n",
    "print(streaming_services)\n",
    "#Netflix streams 1,972 shows on the list. Hulu streams 1621 shows on the list, Prime Video streams 1,831 shows on the list. Disney Plus streams 351 shows on the list.\n",
    "\n",
    "streaming_percentage = {streaming: (count/total_shows) * 100 for streaming, count in streaming_services.items()}\n",
    "print(streaming_percentage)\n",
    "#Netflix streams 36.71%, Hulu 30.20%, Prime Video 34.10%, and Disney Plus 6.53%.\n"
   ]
  },
  {
   "attachments": {},
   "cell_type": "markdown",
   "metadata": {
    "azdata_cell_guid": "167cbd0d-ad9f-4f27-8066-e45dfdfaf421"
   },
   "source": [
    "\n",
    "Now join your `watchlist` data to the `shows` data using pandas or SQL. Verify that you joined the data correctly.\n",
    "\n",
    "Using this related dataset, come up with analytic code that answers these questions:\n",
    "1. The number of watchlist shows each streaming service has\n",
    "2. The percentage of your overall watchlist each streaming service has\n"
   ]
  },
  {
   "cell_type": "code",
   "execution_count": 28,
   "metadata": {
    "azdata_cell_guid": "b871523e-a476-4f3a-a6ac-2e251f140e84"
   },
   "outputs": [
    {
     "name": "stdout",
     "output_type": "stream",
     "text": [
      "   watch_list_id                       title  importance_rank  year  age  \\\n",
      "0              3     Little Fires Everywhere                8  2020  18+   \n",
      "1              3     Little Fires Everywhere                8  2020  18+   \n",
      "2              5                     Chopped                3  2009  all   \n",
      "3              5                     Chopped                3  2009  all   \n",
      "4              7                Black Mirror                9  2011  18+   \n",
      "5              7                Black Mirror                9  2011  18+   \n",
      "6              8            Better Call Saul                2  2015  18+   \n",
      "7              8            Better Call Saul                2  2015  18+   \n",
      "8             10  Avatar: The Last Airbender                1  2005   7+   \n",
      "9             10  Avatar: The Last Airbender                1  2005   7+   \n",
      "\n",
      "     imdb Rotten Tomatoes  Netflix  Hulu  Prime Video  Disney Plus  type  \n",
      "0  7.7/10          76/100        0     1            0            0     1  \n",
      "1  7.7/10          76/100        0     1            0            0     1  \n",
      "2  7.5/10          64/100        0     1            0            0     1  \n",
      "3  7.5/10          64/100        0     1            0            0     1  \n",
      "4  8.8/10          92/100        1     0            0            0     1  \n",
      "5  8.8/10          92/100        1     0            0            0     1  \n",
      "6  8.8/10          94/100        1     0            0            0     1  \n",
      "7  8.8/10          94/100        1     0            0            0     1  \n",
      "8  9.3/10          93/100        1     0            1            0     1  \n",
      "9  9.3/10          93/100        1     0            1            0     1  \n",
      "   watch_list_id                    title  importance_rank  year  age    imdb  \\\n",
      "0              3  Little Fires Everywhere                8  2020  18+  7.7/10   \n",
      "1              3  Little Fires Everywhere                8  2020  18+  7.7/10   \n",
      "2              5                  Chopped                3  2009  all  7.5/10   \n",
      "3              5                  Chopped                3  2009  all  7.5/10   \n",
      "4              7             Black Mirror                9  2011  18+  8.8/10   \n",
      "\n",
      "  Rotten Tomatoes  Netflix  Hulu  Prime Video  Disney Plus  type  \n",
      "0          76/100        0     1            0            0     1  \n",
      "1          76/100        0     1            0            0     1  \n",
      "2          64/100        0     1            0            0     1  \n",
      "3          64/100        0     1            0            0     1  \n",
      "4          92/100        1     0            0            0     1  \n"
     ]
    }
   ],
   "source": [
    "# Code here\n",
    "import sqlite3\n",
    "import pandas as pd\n",
    "\n",
    "con = sqlite3.connect('tv.db')\n",
    "\n",
    "sql_query = '''\n",
    "SELECT w.id AS watch_list_id, w.title, w.importance_rank,\n",
    "        s.year, s.age, s.imdb, s.\"Rotten Tomatoes\",\n",
    "        s.Netflix, s.Hulu, s.\"Prime Video\", s.\"Disney Plus\", s.type\n",
    "FROM watchlist_table AS w \n",
    "JOIN shows_table AS s ON w.title = s.title\n",
    "'''\n",
    "\n",
    "joined_tables = pd.read_sql_query(sql_query, con)\n",
    "\n",
    "print(joined_tables)\n",
    "print(joined_tables.head())\n",
    "\n",
    "con.close()"
   ]
  },
  {
   "cell_type": "code",
   "execution_count": 32,
   "metadata": {},
   "outputs": [
    {
     "name": "stdout",
     "output_type": "stream",
     "text": [
      "{'Netflix': np.int64(10), 'Hulu': np.int64(10), 'Prime Video': np.int64(10), 'Disney Plus': np.int64(10)}\n",
      "{'Netflix': np.float64(0.18628912071535023), 'Hulu': np.float64(0.18628912071535023), 'Prime Video': np.float64(0.18628912071535023), 'Disney Plus': np.float64(0.18628912071535023)}\n"
     ]
    }
   ],
   "source": [
    "#The number of watchlist shows each streaming service has\n",
    "streaming_counts = {\n",
    "    'Netflix': joined_tables['Netflix'].count(),\n",
    "    'Hulu': joined_tables['Hulu'].count(),\n",
    "    'Prime Video': joined_tables['Prime Video'].count(),\n",
    "    'Disney Plus': joined_tables['Disney Plus'].count()\n",
    "}\n",
    "\n",
    "print(streaming_counts)\n",
    "#My output shows that all ten of my watchlist shows are available on each streaming service, which I find highly unlikely. \n",
    "\n",
    "streaming_percentage = {streaming: (count/total_shows) * 100 for streaming, count in streaming_counts.items()}\n",
    "print(streaming_percentage)\n"
   ]
  },
  {
   "cell_type": "markdown",
   "metadata": {
    "azdata_cell_guid": "909689e4-1aae-41e3-b1f8-158ebe5ec3ca"
   },
   "source": [
    "## Results\n",
    "\n",
    "Now that you have done your analysis, make note of the answers to the following questions by editing the text cell:\n",
    "\n",
    "1. Was every show on your watchlist in the Kaggle dataset? Do you have any ideas as to why a show might not have been present?\n",
    "\n",
    "- *According to my output, yes, but I don't believe that to be true.\n",
    "\n",
    "2. Did you include a show or shows in your watchlist that is exclusive to one of the platforms? How might that have impacted your analysis?\n",
    "\n",
    "- *My output shows that all of the shows are available on all of the streaming services. \n",
    "\n",
    "3. Which streaming service(s) offered the most shows on your watchlist? Which streaming service(s) offered the least?\n",
    "\n",
    "- *All of them were offered (again, unlikely this is correct). \n",
    "\n",
    "4. Based on the shows you want to watch and the results of your analysis, is there a streaming service you think would be a good fit for you?\n",
    "\n",
    "- *I guess all of them. "
   ]
  },
  {
   "cell_type": "markdown",
   "metadata": {},
   "source": [
    "# Bonus Mission\n",
    "\n",
    "We didn't end up using that `importance_rank` field, did we?\n",
    "\n",
    "Well, that was intentional! \n",
    "\n",
    "Your bonus mission is to come up with analysis that uses that field to determine, based on watchlist show importance_rank and number of watchlist shows available on a service, which platform you should subscribe to."
   ]
  },
  {
   "cell_type": "code",
   "execution_count": null,
   "metadata": {},
   "outputs": [],
   "source": [
    "# Code Here"
   ]
  }
 ],
 "metadata": {
  "kernelspec": {
   "display_name": "Python 3 (ipykernel)",
   "language": "python",
   "name": "python3"
  },
  "language_info": {
   "codemirror_mode": {
    "name": "ipython",
    "version": 3
   },
   "file_extension": ".py",
   "mimetype": "text/x-python",
   "name": "python",
   "nbconvert_exporter": "python",
   "pygments_lexer": "ipython3",
   "version": "3.12.4"
  }
 },
 "nbformat": 4,
 "nbformat_minor": 4
}
