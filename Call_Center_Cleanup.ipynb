{
 "cells": [
  {
   "cell_type": "markdown",
   "id": "331a1c4f",
   "metadata": {},
   "source": [
    "# Call Center Cleanup\n",
    "\n",
    "For this assignment, we will be working with call center data. You can start working on the assignment after the first lesson on Exploratory Data Analysis with pandas. Make sure to read the whole assignment before starting anything! As you code along in the Jupyter notebook, you are asked to make note of the results of your analysis. Do so by clicking on the results box and adding your notes beside each question.\n",
    "\n",
    "## Business Issue and Understanding\n",
    "\n",
    "You are working for a company that has two call centers: the North Call Center and the South Call Center. The company is looking to possibly hire five additional reps to enhance customer experience. Your task is to explore how efficient the current reps are in each branch to determine which branch would benefit from additional assistance.\n",
    "\n",
    "### How the Call Center Works\n",
    "\n",
    "Call center representatives are assigned queues. When calls are assigned to a queue, the call is assigned to the next person in line in the queue. After a call is assigned to a representative, the amount of time between assignment and the call starting is divided into busy minutes and not ready minutes. If the call is incoming and a customer is waiting on the phone for a rep, the time is split into three categories: busy minutes, not ready minutes, and incoming call wait time. Once the rep has the customer on the phone, there might be during call wait time, where the call is put on hold while the rep gets an answer for the customer.\n",
    "\n",
    "### Notes about the Dataset\n",
    "\n",
    "If you haven't worked in a call center before, these notes might help you throughout your analysis.\n",
    "\n",
    "* The call purpose is tagged for each call.\n",
    "* The time of the call is tagged in 1 hour blocks starting at 9:00 AM and ending at 5:00 PM.\n",
    "* Calls are tagged as incoming or outgoing.\n",
    "* Reps are assigned to queues. When the reps are working, they take calls in the order of their queue.\n",
    "* A call that is dropped due to technical error or missed by the center because they have reached maximum capacity is a lost call.\n",
    "* An abandoned call is when the customer hangs up because they have been waiting for too long.\n",
    "* Busy Minutes: the amount of time after a call comes in or needs to go out where the assigned rep is not available because they are busy with other customers.\n",
    "* Not Ready Minutes: the amount of time after a call comes in or needs to go out where the assigned rep is not available because they are not ready (for example, getting water).\n",
    "* Incoming Wait Time - amount of time after assigned rep is available to take the call customer waits for representative to pick up a call. This is tracked in seconds.\n",
    "* During Call Wait Time - amount of time during call that customer has to wait for representative\n",
    "\n",
    "## Getting Started\n",
    "\n",
    "You have two CSVs at your disposal, `NorthCallCenter.csv` and `SouthCallCenter.csv`. Import the appropriate libraries and create two dataframes, one called `north_df` and one called `south_df`."
   ]
  },
  {
   "cell_type": "code",
   "execution_count": 1,
   "id": "f362436b",
   "metadata": {},
   "outputs": [
    {
     "name": "stdout",
     "output_type": "stream",
     "text": [
      "        Call Purpose Time Block Incoming or Outgoing Queue  Rep ID Sale  \\\n",
      "0          Complaint    9:00 AM             Incoming     B   Brent   NO   \n",
      "1      Sales Support   11:00 AM             Incoming     A     Cam   NO   \n",
      "2      Sales Support   11:00 AM             Incoming     B    Todd   NO   \n",
      "3      Sales Support    4:00 PM             Incoming     B   Brent   NO   \n",
      "4    Product Support   12:00 PM             Incoming     B   Brent   NO   \n",
      "..               ...        ...                  ...   ...     ...  ...   \n",
      "240  Product Support    5:00 PM             Outgoing     B   Brent   NO   \n",
      "241  Product Support    5:00 PM             Outgoing     A     Joe   NO   \n",
      "242  Product Support    5:00 PM             Outgoing     A  Amanda   NO   \n",
      "243  Product Support    5:00 PM             Outgoing     A     Cam   NO   \n",
      "244  Product Support    5:00 PM             Outgoing     B  Xander   NO   \n",
      "\n",
      "     Lost Call  Abandoned  Busy Minutes  Not Ready Minutes  \\\n",
      "0            0          1             9                  2   \n",
      "1            0          0            11                  1   \n",
      "2            0          0             9                  3   \n",
      "3            0          0            11                  2   \n",
      "4            0          0             8                  2   \n",
      "..         ...        ...           ...                ...   \n",
      "240          0          0            10                  2   \n",
      "241          0          0             8                  3   \n",
      "242          0          0            12                  1   \n",
      "243          0          0            11                  2   \n",
      "244          0          0             8                  1   \n",
      "\n",
      "     Incoming Wait Time  During Call Wait Time  Calls  \n",
      "0                   1.0                      4      1  \n",
      "1                   1.0                      3      1  \n",
      "2                   1.0                      3      1  \n",
      "3                   1.0                      4      1  \n",
      "4                   1.0                      4      1  \n",
      "..                  ...                    ...    ...  \n",
      "240                 NaN                      3      1  \n",
      "241                 NaN                      2      1  \n",
      "242                 NaN                      2      1  \n",
      "243                 NaN                      2      1  \n",
      "244                 NaN                      4      1  \n",
      "\n",
      "[245 rows x 13 columns]\n",
      "        Call Purpose Time Block Incoming or Outgoing Queue  Rep ID Sale  \\\n",
      "0      Sales Support   10:00 AM             Incoming     D    Kate   NO   \n",
      "1      Sales Support   10:00 AM             Incoming     C    Eric   NO   \n",
      "2      Sales Support   10:00 AM             Incoming     C   Susan   NO   \n",
      "3      Sales Support   10:00 AM             Incoming     C   Alice   NO   \n",
      "4      Sales Support   12:00 PM             Incoming     C   Sandy   NO   \n",
      "..               ...        ...                  ...   ...     ...  ...   \n",
      "309  Product Support    5:00 PM             Outgoing     D   Helga   NO   \n",
      "310  Product Support    5:00 PM             Outgoing     C   Susan   NO   \n",
      "311  Product Support    5:00 PM             Outgoing     C   Sandy   NO   \n",
      "312  Product Support    5:00 PM             Outgoing     C    Eric   NO   \n",
      "313  Product Support    5:00 PM             Outgoing     D  George   NO   \n",
      "\n",
      "     Lost Call  Abandoned  Busy Minutes  Not Ready Minutes  \\\n",
      "0            0          0             9                  1   \n",
      "1            0          0             8                  2   \n",
      "2            0          0            10                  2   \n",
      "3            0          0            12                  1   \n",
      "4            0          0             8                  3   \n",
      "..         ...        ...           ...                ...   \n",
      "309          0          0            10                  3   \n",
      "310          0          0            12                  3   \n",
      "311          0          0             9                  3   \n",
      "312          0          0            10                  1   \n",
      "313          0          0            10                  2   \n",
      "\n",
      "     Incoming Wait Time  During Call Wait Time  Calls  \n",
      "0                   1.0                      2      1  \n",
      "1                   1.0                      4      1  \n",
      "2                   1.0                      4      1  \n",
      "3                   1.0                      3      1  \n",
      "4                   1.0                      3      1  \n",
      "..                  ...                    ...    ...  \n",
      "309                 NaN                      4      1  \n",
      "310                 NaN                      4      1  \n",
      "311                 NaN                      4      1  \n",
      "312                 NaN                      2      1  \n",
      "313                 NaN                      3      1  \n",
      "\n",
      "[314 rows x 13 columns]\n"
     ]
    }
   ],
   "source": [
    "# Import the appropriate libraries with aliases\n",
    "import pandas as pd\n",
    "import numpy as np\n",
    "\n",
    "df = pd.read_csv('/Users/miafusco/Documents/LaunchCode/data-analysis-projects2/call-center-cleanup-assignment/NorthCallCenter.csv')\n",
    "df_south = pd.read_csv('/Users/miafusco/Documents/LaunchCode/data-analysis-projects2/call-center-cleanup-assignment/SouthCallCenter.csv')\n",
    "\n",
    "# Create two new dataframes\n",
    "north_call_center_df = df[['Call Purpose','Time Block','Incoming or Outgoing','Queue','Rep ID','Sale','Lost Call','Abandoned','Busy Minutes','Not Ready Minutes','Incoming Wait Time','During Call Wait Time','Calls']]\n",
    "south_call_center_df = df_south[['Call Purpose','Time Block','Incoming or Outgoing','Queue','Rep ID','Sale','Lost Call','Abandoned','Busy Minutes','Not Ready Minutes','Incoming Wait Time','During Call Wait Time','Calls']]\n",
    "\n",
    "print(north_call_center_df)\n",
    "print(south_call_center_df)\n"
   ]
  },
  {
   "cell_type": "markdown",
   "id": "b4d3484b",
   "metadata": {},
   "source": [
    "## Task 1: Exploratory Data Analysis\n",
    "\n",
    "Time to do some EDA! In the process of learning more about the two datasets, answer the following questions. Use the code blocks below to begin cleaning your data. At the end of the section, record your answers."
   ]
  },
  {
   "cell_type": "markdown",
   "id": "76898991",
   "metadata": {},
   "source": [
    "#### EDA Question 1A:  How many reps are in the North branch?  "
   ]
  },
  {
   "cell_type": "code",
   "execution_count": 3,
   "id": "ce3eb5e4",
   "metadata": {},
   "outputs": [
    {
     "name": "stdout",
     "output_type": "stream",
     "text": [
      "9\n",
      "['Brent' 'Cam' 'Todd' 'Duke' 'Joe' 'Lilly' 'Amanda' 'Andy' 'Xander']\n"
     ]
    }
   ],
   "source": [
    "# EDA Question 1A solution below:\n",
    "number_of_reps_North = north_call_center_df['Rep ID'].nunique()\n",
    "print(number_of_reps_North)\n",
    "names_of_reps_North = north_call_center_df['Rep ID'].unique()\n",
    "print(names_of_reps_North)\n"
   ]
  },
  {
   "cell_type": "markdown",
   "id": "2a9b34d8",
   "metadata": {},
   "source": [
    "#### EDA Question 1B:  How many reps are in the South branch?  "
   ]
  },
  {
   "cell_type": "code",
   "execution_count": 4,
   "id": "3c715bbf",
   "metadata": {},
   "outputs": [
    {
     "name": "stdout",
     "output_type": "stream",
     "text": [
      "11\n",
      "['Kate' 'Eric' 'Susan' 'Alice' 'Sandy' 'Karl' 'Randy' 'George' 'Helga'\n",
      " 'Josh' 'Sharon']\n"
     ]
    }
   ],
   "source": [
    "# EDA Question 1B solution Below:\n",
    "number_of_reps_South = south_call_center_df['Rep ID'].nunique()\n",
    "print(number_of_reps_South)\n",
    "names_of_reps_South = south_call_center_df['Rep ID'].unique()\n",
    "print(names_of_reps_South)"
   ]
  },
  {
   "cell_type": "markdown",
   "id": "a872f045",
   "metadata": {},
   "source": [
    "#### EDA Question 2A:  What is the average busy minutes, not ready minutes, incoming wait time, and during call wait time for the North branch? "
   ]
  },
  {
   "cell_type": "code",
   "execution_count": 5,
   "id": "3759305f",
   "metadata": {},
   "outputs": [
    {
     "name": "stdout",
     "output_type": "stream",
     "text": [
      "9.987755102040817\n",
      "1.9142857142857144\n",
      "3.048780487804878\n",
      "2.9673469387755103\n"
     ]
    }
   ],
   "source": [
    "# EDA Question 2A solution Below:\n",
    "average_busy_minutes_North = north_call_center_df['Busy Minutes'].mean()\n",
    "average_notready_minutes_North = north_call_center_df['Not Ready Minutes'].mean()\n",
    "average_incoming_wait_time_North = north_call_center_df['Incoming Wait Time'].mean()\n",
    "average_during_call_wait_time_North = north_call_center_df['During Call Wait Time'].mean()\n",
    "\n",
    "print(average_busy_minutes_North)\n",
    "print(average_notready_minutes_North)\n",
    "print(average_incoming_wait_time_North)\n",
    "print(average_during_call_wait_time_North)\n"
   ]
  },
  {
   "cell_type": "markdown",
   "id": "3851cf3e",
   "metadata": {},
   "source": [
    "#### EDA Question 2B:  What is the average busy minutes, not ready minutes, incoming wait time, and during call wait time for the South branch? "
   ]
  },
  {
   "cell_type": "code",
   "execution_count": 6,
   "id": "a77ec152",
   "metadata": {},
   "outputs": [
    {
     "name": "stdout",
     "output_type": "stream",
     "text": [
      "10.054140127388536\n",
      "1.910828025477707\n",
      "3.0\n",
      "3.0764331210191083\n"
     ]
    }
   ],
   "source": [
    "# EDA Question 2B solution Below:\n",
    "average_busy_minutes_South = south_call_center_df['Busy Minutes'].mean()\n",
    "average_notready_minutes_South = south_call_center_df['Not Ready Minutes'].mean()\n",
    "average_incoming_wait_time_South = south_call_center_df['Incoming Wait Time'].mean()\n",
    "average_during_call_wait_time_South = south_call_center_df['During Call Wait Time'].mean()\n",
    "\n",
    "print(average_busy_minutes_South)\n",
    "print(average_notready_minutes_South)\n",
    "print(average_incoming_wait_time_South)\n",
    "print(average_during_call_wait_time_South)"
   ]
  },
  {
   "cell_type": "markdown",
   "id": "75915553",
   "metadata": {},
   "source": [
    "#### EDA Question 3:  What is the number of calls taken for each time block(Both North and South combined)?"
   ]
  },
  {
   "cell_type": "code",
   "execution_count": 7,
   "id": "49566936",
   "metadata": {},
   "outputs": [
    {
     "name": "stdout",
     "output_type": "stream",
     "text": [
      "Time Block\n",
      "10:00 AM    43\n",
      "11:00 AM    25\n",
      "12:00 PM    45\n",
      "1:00 PM     17\n",
      "2:00 PM     35\n",
      "3:00 PM     30\n",
      "4:00 PM     28\n",
      "5:00 PM     17\n",
      "9:00 AM      5\n",
      "Name: Calls, dtype: int64\n",
      "Time Block\n",
      "10:00 AM    56\n",
      "11:00 AM    31\n",
      "12:00 PM    75\n",
      "1:00 PM     23\n",
      "2:00 PM     30\n",
      "3:00 PM     43\n",
      "4:00 PM     25\n",
      "5:00 PM     26\n",
      "9:00 AM      5\n",
      "Name: Calls, dtype: int64\n",
      "Time Block\n",
      "10:00 AM     99\n",
      "11:00 AM     56\n",
      "12:00 PM    120\n",
      "1:00 PM      40\n",
      "2:00 PM      65\n",
      "3:00 PM      73\n",
      "4:00 PM      53\n",
      "5:00 PM      43\n",
      "9:00 AM      10\n",
      "Name: Calls, dtype: int64\n"
     ]
    }
   ],
   "source": [
    "# EDA Question 3 solution Below:\n",
    "number_of_calls_North = north_call_center_df.groupby('Time Block')['Calls'].sum()\n",
    "print(number_of_calls_North)\n",
    "\n",
    "number_of_calls_South = south_call_center_df.groupby('Time Block')['Calls'].sum()\n",
    "print(number_of_calls_South)\n",
    "\n",
    "total_calls = number_of_calls_North + number_of_calls_South\n",
    "print(total_calls)\n"
   ]
  },
  {
   "cell_type": "markdown",
   "id": "40b1fd3f",
   "metadata": {},
   "source": [
    "##### Record your answers for the EDA section below:\n",
    "- 1a) Reps in the North Branch = 9\n",
    "- 1b) Reps in the South Branch = 11\n",
    "\n",
    "\n",
    "- 2a) North Branch, (round to the nearest hundredth):\n",
    "> - Busy Minutes = 9.99\n",
    "> - Not Ready Minutes = 1.91\n",
    "> - Incoming Wait Time = 3.05\n",
    "> - During Call Wait Time = 2.97\n",
    "- 2b) South Branch, (round to the nearest hundredth):\n",
    "> - Busy Minutes = 10.05\n",
    "> - Not Ready Minutes = 1.91\n",
    "> - Incoming Wait Time = 3.00\n",
    "> - During Call Wait Time = 3.08\n",
    "- 3) Total Calls taken for all branches per time block:\n",
    "> - 9:00AM   = 10\n",
    "> - 10:00AM  = 99\n",
    "> - 11:00AM  = 56\n",
    "> - 12:00PM  = 120\n",
    "> - 1:00PM   = 40\n",
    "> - 2:00PM   = 65\n",
    "> - 3:00PM   = 73\n",
    "> - 4:00PM   = 53\n",
    "> - 5:00PM   = 43\n",
    "\n"
   ]
  },
  {
   "cell_type": "markdown",
   "id": "366bfb19",
   "metadata": {},
   "source": [
    "## Task 2: Cleaning Your Data \n",
    "Now you need to clean up the datasets. When cleaning the datasets, you may find that there isn't dirty data to clean. That is okay! Some questions you need to answer about the data sets.\n",
    "* Add additional code blocks as needed to show how you came to your conclusions. Add comments in your code blocks to help others understand your thinking. "
   ]
  },
  {
   "cell_type": "markdown",
   "id": "c3564d69",
   "metadata": {},
   "source": [
    "#### Cleaning Question 1:  Is there any missing data and if yes explain what you would do with the missing data and why?"
   ]
  },
  {
   "cell_type": "code",
   "execution_count": 8,
   "id": "b77fb574",
   "metadata": {},
   "outputs": [
    {
     "name": "stdout",
     "output_type": "stream",
     "text": [
      "     Call Purpose  Time Block  Incoming or Outgoing  Queue  Rep ID   Sale  \\\n",
      "0           False       False                 False  False   False  False   \n",
      "1           False       False                 False  False   False  False   \n",
      "2           False       False                 False  False   False  False   \n",
      "3           False       False                 False  False   False  False   \n",
      "4           False       False                 False  False   False  False   \n",
      "..            ...         ...                   ...    ...     ...    ...   \n",
      "240         False       False                 False  False   False  False   \n",
      "241         False       False                 False  False   False  False   \n",
      "242         False       False                 False  False   False  False   \n",
      "243         False       False                 False  False   False  False   \n",
      "244         False       False                 False  False   False  False   \n",
      "\n",
      "     Lost Call  Abandoned  Busy Minutes  Not Ready Minutes  \\\n",
      "0        False      False         False              False   \n",
      "1        False      False         False              False   \n",
      "2        False      False         False              False   \n",
      "3        False      False         False              False   \n",
      "4        False      False         False              False   \n",
      "..         ...        ...           ...                ...   \n",
      "240      False      False         False              False   \n",
      "241      False      False         False              False   \n",
      "242      False      False         False              False   \n",
      "243      False      False         False              False   \n",
      "244      False      False         False              False   \n",
      "\n",
      "     Incoming Wait Time  During Call Wait Time  Calls  \n",
      "0                 False                  False  False  \n",
      "1                 False                  False  False  \n",
      "2                 False                  False  False  \n",
      "3                 False                  False  False  \n",
      "4                 False                  False  False  \n",
      "..                  ...                    ...    ...  \n",
      "240                True                  False  False  \n",
      "241                True                  False  False  \n",
      "242                True                  False  False  \n",
      "243                True                  False  False  \n",
      "244                True                  False  False  \n",
      "\n",
      "[245 rows x 13 columns]\n",
      "     Call Purpose  Time Block  Incoming or Outgoing  Queue  Rep ID   Sale  \\\n",
      "0           False       False                 False  False   False  False   \n",
      "1           False       False                 False  False   False  False   \n",
      "2           False       False                 False  False   False  False   \n",
      "3           False       False                 False  False   False  False   \n",
      "4           False       False                 False  False   False  False   \n",
      "..            ...         ...                   ...    ...     ...    ...   \n",
      "309         False       False                 False  False   False  False   \n",
      "310         False       False                 False  False   False  False   \n",
      "311         False       False                 False  False   False  False   \n",
      "312         False       False                 False  False   False  False   \n",
      "313         False       False                 False  False   False  False   \n",
      "\n",
      "     Lost Call  Abandoned  Busy Minutes  Not Ready Minutes  \\\n",
      "0        False      False         False              False   \n",
      "1        False      False         False              False   \n",
      "2        False      False         False              False   \n",
      "3        False      False         False              False   \n",
      "4        False      False         False              False   \n",
      "..         ...        ...           ...                ...   \n",
      "309      False      False         False              False   \n",
      "310      False      False         False              False   \n",
      "311      False      False         False              False   \n",
      "312      False      False         False              False   \n",
      "313      False      False         False              False   \n",
      "\n",
      "     Incoming Wait Time  During Call Wait Time  Calls  \n",
      "0                 False                  False  False  \n",
      "1                 False                  False  False  \n",
      "2                 False                  False  False  \n",
      "3                 False                  False  False  \n",
      "4                 False                  False  False  \n",
      "..                  ...                    ...    ...  \n",
      "309                True                  False  False  \n",
      "310                True                  False  False  \n",
      "311                True                  False  False  \n",
      "312                True                  False  False  \n",
      "313                True                  False  False  \n",
      "\n",
      "[314 rows x 13 columns]\n",
      "Unnamed: 0 - 0%\n",
      "Branch - 0%\n",
      "Call Purpose - 0%\n",
      "Time Block - 0%\n",
      "Incoming or Outgoing - 0%\n",
      "Queue - 0%\n",
      "Rep ID - 0%\n",
      "Sale - 0%\n",
      "Lost Call - 0%\n",
      "Abandoned - 0%\n",
      "Busy Minutes - 0%\n",
      "Not Ready Minutes - 0%\n",
      "Incoming Wait Time - 67%\n",
      "During Call Wait Time - 0%\n",
      "Calls - 0%\n"
     ]
    }
   ],
   "source": [
    "# Question 1 solution below\n",
    "missing_values_north =north_call_center_df.isna()\n",
    "print(missing_values_north)\n",
    "\n",
    "missing_values_south =south_call_center_df.isna()\n",
    "print(missing_values_south)\n",
    "\n",
    "for col in df.columns:\n",
    "    pct_missing = np.mean(df[col].isnull())\n",
    "    print('{} - {}%'.format(col, round(pct_missing*100)))\n"
   ]
  },
  {
   "cell_type": "markdown",
   "id": "0dc5c568-40db-4889-b82b-64610d8058d2",
   "metadata": {},
   "source": [
    "#### Record your answer below:\n",
    "\n",
    "> Your Answer: It looks like there is missing data in the \"Incoming Wait Time\" column. I think I would work to determine a value for that column. Maybe that means trying to locate the data or maybe I would use an average of the incoming wait time as the value. Our business issue is trying to determine if the company needs to hire five additional reps and I think knowing how long callers are waiting would be an important factor for that decision. "
   ]
  },
  {
   "cell_type": "markdown",
   "id": "dc47f020",
   "metadata": {},
   "source": [
    "#### Cleaning Question 2:  In the North data set, there are two separate \"YES\" values for a sale. Why and how did you rectify the issue?"
   ]
  },
  {
   "cell_type": "code",
   "execution_count": 9,
   "id": "4e0fbad6",
   "metadata": {},
   "outputs": [
    {
     "name": "stdout",
     "output_type": "stream",
     "text": [
      "0      NO\n",
      "1      NO\n",
      "2      NO\n",
      "3      NO\n",
      "4      NO\n",
      "       ..\n",
      "240    NO\n",
      "241    NO\n",
      "242    NO\n",
      "243    NO\n",
      "244    NO\n",
      "Name: Sale, Length: 245, dtype: object\n",
      "['NO' 'YES ' 'YES']\n",
      "['NO' 'YES ' 'YES']\n",
      "0      NO\n",
      "1      NO\n",
      "2      NO\n",
      "3      NO\n",
      "4      NO\n",
      "       ..\n",
      "240    NO\n",
      "241    NO\n",
      "242    NO\n",
      "243    NO\n",
      "244    NO\n",
      "Name: Sale, Length: 245, dtype: object\n"
     ]
    }
   ],
   "source": [
    "# Cleaning Question 2 solution below:\n",
    "df[\"Sale\"] = df[\"Sale\"].replace({\"yes\": \"Yes\", \"Yes\": \"Yes\"})\n",
    "print(df[\"Sale\"])\n",
    "\n",
    "inconsistent_data = north_call_center_df['Sale'].unique()\n",
    "print(inconsistent_data)\n",
    "\n",
    "df[\"Sale\"] = df[\"Sale\"].str.strip()\n",
    "\n",
    "inconsistent_data = north_call_center_df['Sale'].unique()\n",
    "print(inconsistent_data)\n",
    "\n",
    "print(df[\"Sale\"])"
   ]
  },
  {
   "cell_type": "markdown",
   "id": "cf81b612-eb6b-45a6-ac8e-d6f4e08131a8",
   "metadata": {},
   "source": [
    "##### Record your answer by below:\n",
    "> Your Answer: There is a \"Yes\" and a \"Yes  \" (with a space). Shruti shared how to fix the trailing space. "
   ]
  },
  {
   "cell_type": "markdown",
   "id": "715f375a",
   "metadata": {},
   "source": [
    "#### Cleaning Question 3:  Are there duplicates in the two data sets? If there are, how did you handle them?"
   ]
  },
  {
   "cell_type": "code",
   "execution_count": 10,
   "id": "2323673a",
   "metadata": {},
   "outputs": [
    {
     "name": "stdout",
     "output_type": "stream",
     "text": [
      "0      False\n",
      "1      False\n",
      "2      False\n",
      "3      False\n",
      "4      False\n",
      "       ...  \n",
      "240    False\n",
      "241    False\n",
      "242    False\n",
      "243    False\n",
      "244    False\n",
      "Length: 245, dtype: bool\n",
      "0      False\n",
      "1      False\n",
      "2      False\n",
      "3      False\n",
      "4      False\n",
      "       ...  \n",
      "309    False\n",
      "310    False\n",
      "311    False\n",
      "312    False\n",
      "313    False\n",
      "Length: 314, dtype: bool\n"
     ]
    }
   ],
   "source": [
    "# Cleaning Question 3 solution below:\n",
    "duplicates_north = north_call_center_df.duplicated()\n",
    "duplicates_south = south_call_center_df.duplicated()\n",
    "\n",
    "print(duplicates_north)\n",
    "print(duplicates_south)"
   ]
  },
  {
   "cell_type": "markdown",
   "id": "4fbfe2e8-490a-48dc-b0ca-599879076c62",
   "metadata": {},
   "source": [
    "##### Record your answer below:\n",
    "> Your Answer: There does not appear to be any duplicates. "
   ]
  },
  {
   "cell_type": "markdown",
   "id": "8ffaa865",
   "metadata": {},
   "source": [
    "#### Cleaning Question 4:  Is any of the data in the two data sets unnecessary? If yes, how did you handle it?"
   ]
  },
  {
   "cell_type": "code",
   "execution_count": 17,
   "id": "78b45e70",
   "metadata": {},
   "outputs": [],
   "source": [
    "# Cleaning Question 4 solution below:\n",
    " "
   ]
  },
  {
   "cell_type": "markdown",
   "id": "689e76b9-64d2-45d7-883a-b8c4d822e0c8",
   "metadata": {},
   "source": [
    "##### Record your answer below:\n",
    "> Your Answer: I don't feel any of the data is unnecessary for our purposes. It depends what your business issue and guiding questions are but for what we are doing, I think all of the data is helpful. "
   ]
  },
  {
   "cell_type": "markdown",
   "id": "73342a9a",
   "metadata": {},
   "source": [
    "## Task 3: Data Manipulation\n",
    "Before you begin answering any questions, combine the two datasets together to create a third dataframe called df. You can use this third dataframe to compare the two call centers to company-wide trends.\n",
    "* Add additional code blocks as needed to show how you came to your conclusions. Add comments in your code blocks to help others understand your thinking. Record your answer below."
   ]
  },
  {
   "cell_type": "code",
   "execution_count": 12,
   "id": "e9705c34",
   "metadata": {},
   "outputs": [
    {
     "name": "stdout",
     "output_type": "stream",
     "text": [
      "        Call Purpose Time Block Incoming or Outgoing Queue  Rep ID Sale  \\\n",
      "0          Complaint    9:00 AM             Incoming     B   Brent   NO   \n",
      "1      Sales Support   11:00 AM             Incoming     A     Cam   NO   \n",
      "2      Sales Support   11:00 AM             Incoming     B    Todd   NO   \n",
      "3      Sales Support    4:00 PM             Incoming     B   Brent   NO   \n",
      "4    Product Support   12:00 PM             Incoming     B   Brent   NO   \n",
      "..               ...        ...                  ...   ...     ...  ...   \n",
      "554  Product Support    5:00 PM             Outgoing     D   Helga   NO   \n",
      "555  Product Support    5:00 PM             Outgoing     C   Susan   NO   \n",
      "556  Product Support    5:00 PM             Outgoing     C   Sandy   NO   \n",
      "557  Product Support    5:00 PM             Outgoing     C    Eric   NO   \n",
      "558  Product Support    5:00 PM             Outgoing     D  George   NO   \n",
      "\n",
      "     Lost Call  Abandoned  Busy Minutes  Not Ready Minutes  \\\n",
      "0            0          1             9                  2   \n",
      "1            0          0            11                  1   \n",
      "2            0          0             9                  3   \n",
      "3            0          0            11                  2   \n",
      "4            0          0             8                  2   \n",
      "..         ...        ...           ...                ...   \n",
      "554          0          0            10                  3   \n",
      "555          0          0            12                  3   \n",
      "556          0          0             9                  3   \n",
      "557          0          0            10                  1   \n",
      "558          0          0            10                  2   \n",
      "\n",
      "     Incoming Wait Time  During Call Wait Time  Calls Branch  \n",
      "0                   1.0                      4      1  North  \n",
      "1                   1.0                      3      1  North  \n",
      "2                   1.0                      3      1  North  \n",
      "3                   1.0                      4      1  North  \n",
      "4                   1.0                      4      1  North  \n",
      "..                  ...                    ...    ...    ...  \n",
      "554                 NaN                      4      1  South  \n",
      "555                 NaN                      4      1  South  \n",
      "556                 NaN                      4      1  South  \n",
      "557                 NaN                      2      1  South  \n",
      "558                 NaN                      3      1  South  \n",
      "\n",
      "[559 rows x 14 columns]\n",
      "      Call Purpose Time Block Incoming or Outgoing Queue Rep ID Sale  \\\n",
      "0        Complaint    9:00 AM             Incoming     B  Brent   NO   \n",
      "1    Sales Support   11:00 AM             Incoming     A    Cam   NO   \n",
      "2    Sales Support   11:00 AM             Incoming     B   Todd   NO   \n",
      "3    Sales Support    4:00 PM             Incoming     B  Brent   NO   \n",
      "4  Product Support   12:00 PM             Incoming     B  Brent   NO   \n",
      "5  Product Support    2:00 PM             Incoming     B   Duke   NO   \n",
      "6  Product Support    2:00 PM             Incoming     A    Joe   NO   \n",
      "7  Product Support    2:00 PM             Incoming     B  Lilly   NO   \n",
      "8  Product Support    3:00 PM             Incoming     B   Duke   NO   \n",
      "9  Product Support    3:00 PM             Incoming     A    Cam   NO   \n",
      "\n",
      "   Lost Call  Abandoned  Busy Minutes  Not Ready Minutes  Incoming Wait Time  \\\n",
      "0          0          1             9                  2                 1.0   \n",
      "1          0          0            11                  1                 1.0   \n",
      "2          0          0             9                  3                 1.0   \n",
      "3          0          0            11                  2                 1.0   \n",
      "4          0          0             8                  2                 1.0   \n",
      "5          0          0            12                  2                 1.0   \n",
      "6          0          0             8                  1                 1.0   \n",
      "7          0          0            11                  2                 1.0   \n",
      "8          0          0            12                  2                 1.0   \n",
      "9          0          0            11                  3                 1.0   \n",
      "\n",
      "   During Call Wait Time  Calls Branch  \n",
      "0                      4      1  North  \n",
      "1                      3      1  North  \n",
      "2                      3      1  North  \n",
      "3                      4      1  North  \n",
      "4                      4      1  North  \n",
      "5                      2      1  North  \n",
      "6                      3      1  North  \n",
      "7                      3      1  North  \n",
      "8                      4      1  North  \n",
      "9                      4      1  North  \n",
      "['Brent' 'Cam' 'Todd' 'Duke' 'Joe' 'Lilly' 'Amanda' 'Andy' 'Xander' 'Kate'\n",
      " 'Eric' 'Susan' 'Alice' 'Sandy' 'Karl' 'Randy' 'George' 'Helga' 'Josh'\n",
      " 'Sharon']\n",
      "20\n"
     ]
    }
   ],
   "source": [
    "# Create dataframe for the entire company named df\n",
    "north_call_center_df.loc[:, 'Branch'] = 'North'\n",
    "south_call_center_df.loc[:, 'Branch'] = 'South'\n",
    "\n",
    "company_df = pd.concat([north_call_center_df, south_call_center_df], ignore_index = True)\n",
    "print(company_df)\n",
    "#I chose to concat the two dataframes into one. This will stack the data from the individual dataframes. I also added a column so that I could still identify individual branches which is necessary for future questions. \n",
    "\n",
    "print(company_df.head(10))\n",
    "\n",
    "names_of_reps_company = company_df['Rep ID'].unique()\n",
    "print(names_of_reps_company)\n",
    "\n",
    "names_of_reps_company2 = company_df['Rep ID'].nunique()\n",
    "print(names_of_reps_company2)\n",
    "#I pulled the head and Rep IDs to confirm that the dataframes were concatenated and the \"Branch\" column was added.  \n"
   ]
  },
  {
   "cell_type": "markdown",
   "id": "7e87dfd1",
   "metadata": {},
   "source": [
    "#### Manipulation Question 1:  Group by Rep ID and sum the resulting structure. Sort by calls to determine which rep in each branch has the highest number of calls."
   ]
  },
  {
   "cell_type": "code",
   "execution_count": 13,
   "id": "3953f09a",
   "metadata": {},
   "outputs": [
    {
     "name": "stdout",
     "output_type": "stream",
     "text": [
      "Rep ID\n",
      "Brent     37\n",
      "Eric      35\n",
      "Randy     33\n",
      "Sandy     32\n",
      "Helga     31\n",
      "Lilly     30\n",
      "Todd      29\n",
      "Duke      29\n",
      "George    29\n",
      "Kate      29\n",
      "Karl      28\n",
      "Josh      26\n",
      "Susan     26\n",
      "Joe       26\n",
      "Sharon    25\n",
      "Xander    24\n",
      "Cam       24\n",
      "Amanda    23\n",
      "Andy      23\n",
      "Alice     20\n",
      "Name: Calls, dtype: int64\n"
     ]
    }
   ],
   "source": [
    "# Manipulation Question solution below:\n",
    "Rep_ID_Sums = company_df.groupby('Rep ID')['Calls'].sum()\n",
    "Rep_ID_Sums_Sorted = Rep_ID_Sums.sort_values(ascending= False)\n",
    "print(Rep_ID_Sums_Sorted)\n",
    "#I'm grouping by Rep ID and summing their calls. This will tell me the total number of calls for each rep allowing me to find the rep with the highest total calls in each branch. "
   ]
  },
  {
   "cell_type": "markdown",
   "id": "7c29838c-1402-4e4b-94c9-050515d8dd18",
   "metadata": {},
   "source": [
    "##### Record your answer below\n",
    "Rep with the hightest number of calls and their total calls:\n",
    "- North Branch = Brent-37\n",
    "- South Branch = Eric-35"
   ]
  },
  {
   "cell_type": "markdown",
   "id": "809293b9",
   "metadata": {},
   "source": [
    "#### Manipulation Question 2:  The average call abandonment rate is a KPI when it comes to determining call center efficiency. As you may recall, abandoned calls are calls where the customer hangs up due to long call times. What is the average call abandonment rate for each branch and the whole company? Do any of these fall out of the optimal range of 2-5%?"
   ]
  },
  {
   "cell_type": "code",
   "execution_count": 14,
   "id": "3dff7534",
   "metadata": {},
   "outputs": [
    {
     "name": "stdout",
     "output_type": "stream",
     "text": [
      "Branch\n",
      "North    2.857143\n",
      "South    1.273885\n",
      "Name: Abandoned, dtype: float64\n",
      "1.9677996422182469\n"
     ]
    }
   ],
   "source": [
    "# Manipulation Question 2 solution below:\n",
    "average_call_abandonment_branch = company_df.groupby('Branch')['Abandoned'].mean() * 100\n",
    "print(average_call_abandonment_branch)\n",
    "#I am grouping by branch and averaging the abandoned calls. I am multipying by 100 to determine the percentage. \n",
    "\n",
    "average_call_abandonment_company = company_df['Abandoned'].mean() * 100\n",
    "print(average_call_abandonment_company)\n",
    "#I am finding the average abandoned calls for the entire company. Again, multiplying by 100 to determine percentage. "
   ]
  },
  {
   "cell_type": "markdown",
   "id": "c284596f-218f-4291-81b6-718ea5671feb",
   "metadata": {},
   "source": [
    "##### Record your answer below:\n",
    "Average Call Abandonment Rates (round to the nearest hundredth):\n",
    "- North Branch = 2.86%\n",
    "- South Branch = 1.27%\n",
    "- Company Wide = 1.97%\n",
    "- Do any of these fall out of the optimal range of 2-5%? No. "
   ]
  },
  {
   "cell_type": "markdown",
   "id": "598bb1bf",
   "metadata": {},
   "source": [
    "#### Manipulation Question 3:  Service level is another KPI when it comes to measuring call center efficiency. Service level is the percentage of calls answered within a specific number of seconds. In the case of your employer, their ideal time frame is 2 seconds. What is the percentage of calls answered within 2 seconds for each branch and the entire company?"
   ]
  },
  {
   "cell_type": "code",
   "execution_count": 15,
   "id": "2fc8f669",
   "metadata": {},
   "outputs": [
    {
     "name": "stdout",
     "output_type": "stream",
     "text": [
      "81\n",
      "Branch\n",
      "North    33\n",
      "South    48\n",
      "dtype: int64\n",
      "Branch\n",
      "North     82\n",
      "South    126\n",
      "Name: Incoming Wait Time, dtype: int64\n",
      "559\n",
      "Branch\n",
      "North    40.243902\n",
      "South    38.095238\n",
      "dtype: float64\n",
      "14.490161001788909\n"
     ]
    }
   ],
   "source": [
    "# Manipulation Question 3 solution below:\n",
    "wait_time = company_df[company_df['Incoming Wait Time'] <=2].shape[0]\n",
    "print(wait_time)\n",
    "\n",
    "wait_time_branch = company_df[company_df['Incoming Wait Time'] <=2].groupby('Branch').size()\n",
    "print(wait_time_branch)\n",
    "\n",
    "total_incoming_wait_time_branch = company_df.groupby('Branch')['Incoming Wait Time'].count()\n",
    "print(total_incoming_wait_time_branch)\n",
    "\n",
    "total_incoming_wait_time = company_df['Incoming Wait Time'].shape[0]\n",
    "print(total_incoming_wait_time)\n",
    "\n",
    "percentage_branch = (wait_time_branch/total_incoming_wait_time_branch) *100\n",
    "print(percentage_branch)\n",
    "\n",
    "percentage_total = (wait_time / total_incoming_wait_time) *100\n",
    "print(percentage_total)"
   ]
  },
  {
   "cell_type": "markdown",
   "id": "e3a4c9d9-4e11-4e1f-859a-d2c919f7d9ce",
   "metadata": {},
   "source": [
    "##### Record your answer below:\n",
    "Percentage of calls answered within 2 seconds, include # of calls:\n",
    "- North Branch = 33 calls, 40.24%\n",
    "- South Branch = 48 calls, 38.10%\n",
    "- Company Wide = 81 calls, 14.50%"
   ]
  },
  {
   "cell_type": "markdown",
   "id": "7e19e705",
   "metadata": {},
   "source": [
    "#### Manipulation Question 4: For each branch and the entire company, what is the average speed of answer?"
   ]
  },
  {
   "cell_type": "code",
   "execution_count": 16,
   "id": "72a653ed",
   "metadata": {},
   "outputs": [
    {
     "name": "stdout",
     "output_type": "stream",
     "text": [
      "Branch\n",
      "North    3.04878\n",
      "South    3.00000\n",
      "Name: Incoming Wait Time, dtype: float64\n",
      "3.019230769230769\n"
     ]
    }
   ],
   "source": [
    "# Manipulation Question 4 solution below:\n",
    "average_wait_time = company_df.groupby('Branch')['Incoming Wait Time'].mean() \n",
    "print(average_wait_time)\n",
    "\n",
    "average_wait_time_company = company_df['Incoming Wait Time'].mean()\n",
    "print(average_wait_time_company)\n",
    "\n",
    "\n"
   ]
  },
  {
   "cell_type": "markdown",
   "id": "fb04c65b-442b-48e1-b22c-b2af8b835ffd",
   "metadata": {},
   "source": [
    "##### Record your answer by below:\n",
    "Average speed of answer (rounded to nearest hundredth):\n",
    "- North Branch in seconds = 3.05\n",
    "- South Branch in seconds = 3.00\n",
    "- Company Wide in seconds = 3.02"
   ]
  },
  {
   "cell_type": "markdown",
   "id": "d5f50a40",
   "metadata": {},
   "source": [
    "## Task 4: Visualization\n",
    "\n",
    "Create a visualization for each of the following questions. Some of the code to handle aggregating and storing data may be written for you. For each visualization, you choose the chart style that you feel suits the situation best. Make note of the chart style you chose and why. \n",
    "\n",
    "*NOTE Some questions you may decide to use more than one chart and or chart style."
   ]
  },
  {
   "cell_type": "markdown",
   "id": "66ccf83c",
   "metadata": {},
   "source": [
    "#### Visualization 1:  What is the average abandonment rate per queue?"
   ]
  },
  {
   "cell_type": "code",
   "execution_count": 17,
   "id": "c971d779",
   "metadata": {},
   "outputs": [
    {
     "name": "stdout",
     "output_type": "stream",
     "text": [
      "{'A': np.float64(4.166666666666666), 'B': np.float64(2.013422818791946), 'C': np.float64(0.7246376811594203), 'D': np.float64(1.7045454545454544)}\n"
     ]
    },
    {
     "data": {
      "image/png": "[encoded data removed]",
      "text/plain": [
       "<Figure size 640x480 with 1 Axes>"
      ]
     },
     "metadata": {},
     "output_type": "display_data"
    }
   ],
   "source": [
    "# Create visualization 1 here\n",
    "# Import any additional libraries needed with alias\n",
    "\n",
    "# The dictionary abandonment_rates has the data you need.\n",
    "abandonment_rates = {}\n",
    "queues = [\"A\", \"B\", \"C\", \"D\"]\n",
    "queue_dict = company_df.groupby(\"Queue\").agg(\"sum\")\n",
    "for i in range(4):\n",
    "    abandonment_rates[queues[i]] = queue_dict[\"Abandoned\"].iloc[i] / queue_dict[\"Calls\"].iloc[i] *100\n",
    "print(abandonment_rates)\n",
    "\n",
    "#Your code below:\n",
    "import matplotlib.pyplot as plt\n",
    "plt.bar(abandonment_rates.keys(), abandonment_rates.values())\n",
    "\n",
    "plt.title('Abandonment Rates by Queues')\n",
    "plt.xlabel('Queues')\n",
    "plt.ylabel('Abandonment Rate by Percentage')\n",
    "\n",
    "plt.show()\n",
    "\n",
    "\n"
   ]
  },
  {
   "cell_type": "markdown",
   "id": "00a821e7-b296-4950-8889-dacf36ef37fb",
   "metadata": {},
   "source": [
    "##### Record your answer below:\n",
    "\n",
    "> Chart style you chose and why: I chose a bar chart because it is the easiest way to compare the rates. There are only four queues so the bar chart is clear, concise, and easy to read. "
   ]
  },
  {
   "cell_type": "markdown",
   "id": "4a9fc77f",
   "metadata": {},
   "source": [
    "#### Visualization 2: What is the service level percentage and average speed of answer for each rep in the North Branch?"
   ]
  },
  {
   "cell_type": "code",
   "execution_count": 18,
   "id": "61f65a7f",
   "metadata": {},
   "outputs": [
    {
     "name": "stdout",
     "output_type": "stream",
     "text": [
      "        Calls\n",
      "Rep ID       \n",
      "Brent       6\n",
      "Duke        6\n",
      "Cam         5\n",
      "Lilly       4\n",
      "Amanda      3\n",
      "Andy        3\n",
      "Joe         2\n",
      "Todd        2\n",
      "Xander      2\n",
      "        Calls\n",
      "Rep ID       \n",
      "Eric       10\n",
      "Randy       7\n",
      "Sandy       7\n",
      "Susan       5\n",
      "George      4\n",
      "Alice       3\n",
      "Helga       3\n",
      "Karl        3\n",
      "Kate        3\n",
      "Josh        2\n",
      "Sharon      1\n",
      "        Calls\n",
      "Rep ID       \n",
      "Duke       14\n",
      "Lilly      12\n",
      "Cam        11\n",
      "Andy       10\n",
      "Joe        10\n",
      "Brent       8\n",
      "Todd        6\n",
      "Xander      6\n",
      "Amanda      5\n",
      "        Calls\n",
      "Rep ID       \n",
      "Eric       18\n",
      "Randy      16\n",
      "George     13\n",
      "Sandy      13\n",
      "Susan      12\n",
      "Helga      11\n",
      "Kate       11\n",
      "Josh        9\n",
      "Karl        9\n",
      "Sharon      8\n",
      "Alice       6\n",
      "        Calls_x  Calls_y\n",
      "Rep ID                  \n",
      "Amanda        3        5\n",
      "Andy          3       10\n",
      "Brent         6        8\n",
      "Cam           5       11\n",
      "Duke          6       14\n",
      "Joe           2       10\n",
      "Lilly         4       12\n",
      "Todd          2        6\n",
      "Xander        2        6\n",
      "        Calls_x  Calls_y\n",
      "Rep ID                  \n",
      "Alice         3        6\n",
      "Eric         10       18\n",
      "George        4       13\n",
      "Helga         3       11\n",
      "Josh          2        9\n",
      "Karl          3        9\n",
      "Kate          3       11\n",
      "Randy         7       16\n",
      "Sandy         7       13\n",
      "Sharon        1        8\n",
      "Susan         5       12\n",
      "        Calls_x  Calls_y  Service Level %\n",
      "Rep ID                                   \n",
      "Brent         6        8        75.000000\n",
      "Amanda        3        5        60.000000\n",
      "Cam           5       11        45.454545\n",
      "Duke          6       14        42.857143\n",
      "Lilly         4       12        33.333333\n",
      "Todd          2        6        33.333333\n",
      "Xander        2        6        33.333333\n",
      "Andy          3       10        30.000000\n",
      "Joe           2       10        20.000000\n",
      "        Calls_x  Calls_y  Service Level2 %\n",
      "Rep ID                                    \n",
      "Eric         10       18         55.555556\n",
      "Sandy         7       13         53.846154\n",
      "Alice         3        6         50.000000\n",
      "Randy         7       16         43.750000\n",
      "Susan         5       12         41.666667\n",
      "Karl          3        9         33.333333\n",
      "George        4       13         30.769231\n",
      "Helga         3       11         27.272727\n",
      "Kate          3       11         27.272727\n",
      "Josh          2        9         22.222222\n",
      "Sharon        1        8         12.500000\n"
     ]
    }
   ],
   "source": [
    "# Create visualization 2 here\n",
    "# north_plt contains the data you need for the average speed of answer of each rep\n",
    "\n",
    "north_plt = north_call_center_df.groupby(\"Rep ID\")[\"Incoming Wait Time\"].mean().to_frame().reset_index()\n",
    "south_plt = south_call_center_df.groupby(\"Rep ID\")[\"Incoming Wait Time\"].mean().to_frame().reset_index()\n",
    "\n",
    "# Finding each Rep's Personal Service Level Percentage.  Basically, Calls within 2 secs / total calls\n",
    "\n",
    "# Table 1: Total Incoming calls less than 2 seconds grouped by Rep\n",
    "quick_calls = north_call_center_df[north_call_center_df[\"Incoming Wait Time\"] <= 2.0]\n",
    "quick_reps = quick_calls[[\"Rep ID\", \"Calls\"]]\n",
    "quick_stats = quick_reps.groupby([\"Rep ID\"]).sum()  # Final Table\n",
    "quick_stats_sorted = quick_stats.sort_values(by='Calls', ascending=False)\n",
    "print(quick_stats_sorted)\n",
    "\n",
    "quick_calls2 = south_call_center_df[south_call_center_df[\"Incoming Wait Time\"] <= 2.0]\n",
    "quick_reps2 = quick_calls2[[\"Rep ID\", \"Calls\"]]\n",
    "quick_stats2 = quick_reps2.groupby([\"Rep ID\"]).sum()  # Final Table\n",
    "quick_stats2_sorted = quick_stats2.sort_values(by='Calls', ascending=False)\n",
    "print(quick_stats2_sorted)\n",
    "\n",
    "# Table 2: Total Incoming Calls Only grouped by Rep\n",
    "total_calls_in = north_call_center_df[north_call_center_df[\"Incoming or Outgoing\"] == \"Incoming\"]\n",
    "rep_calls = total_calls_in[[\"Rep ID\", \"Calls\"]]     \n",
    "total_stats = rep_calls.groupby([\"Rep ID\"]).sum() # Final Table \n",
    "total_stats_sorted = total_stats.sort_values(by='Calls', ascending=False)\n",
    "print(total_stats_sorted)\n",
    "\n",
    "total_calls_in2 = south_call_center_df[south_call_center_df[\"Incoming or Outgoing\"] == \"Incoming\"]\n",
    "rep_calls2 = total_calls_in2[[\"Rep ID\", \"Calls\"]]     \n",
    "total_stats2 = rep_calls2.groupby([\"Rep ID\"]).sum() # Final Table \n",
    "total_stats2_sorted = total_stats2.sort_values(by='Calls', ascending=False)\n",
    "print(total_stats2_sorted)\n",
    "\n",
    "#  Table 3: Service Level Percentage created via merge\n",
    "service_level = pd.merge(quick_stats, total_stats, on=\"Rep ID\")\n",
    "print(service_level)\n",
    "\n",
    "service_level2 = pd.merge(quick_stats2, total_stats2, on=\"Rep ID\")\n",
    "print(service_level2)\n",
    "\n",
    "# Create Percentage Column in Table 3\n",
    "service_level[\"Service Level %\"] = (service_level[\"Calls_x\"]/service_level[\"Calls_y\"]) * 100\n",
    "service_level_sorted = service_level.sort_values(by='Service Level %', ascending=False)\n",
    "print(service_level_sorted)\n",
    "\n",
    "service_level2 [\"Service Level2 %\"] = (service_level2[\"Calls_x\"]/service_level2[\"Calls_y\"]) * 100\n",
    "service_level2_sorted = service_level2.sort_values(by = 'Service Level2 %', ascending =False)\n",
    "print(service_level2_sorted)\n"
   ]
  },
  {
   "cell_type": "code",
   "execution_count": 19,
   "id": "331aa72a-c271-4447-9808-1a91eae59da6",
   "metadata": {},
   "outputs": [
    {
     "data": {
      "text/plain": [
       "Text(0, 0.5, 'Total Calls')"
      ]
     },
     "execution_count": 19,
     "metadata": {},
     "output_type": "execute_result"
    },
    {
     "data": {
      "image/png": "[encoded data removed]",
      "text/plain": [
       "<Figure size 640x480 with 1 Axes>"
      ]
     },
     "metadata": {},
     "output_type": "display_data"
    }
   ],
   "source": [
    "#Total Quick Calls in the South Branch by Rep ID answered within 2 seconds\n",
    "quick_stats2_sorted['Calls'].plot(kind='bar',color='green')\n",
    "plt.title('Total Quick Calls by Rep ID in South Branch <=2 sec')\n",
    "plt.xlabel('Rep ID')\n",
    "plt.ylabel('Total Calls')"
   ]
  },
  {
   "cell_type": "code",
   "execution_count": 20,
   "id": "5475a8e7-6710-4a1a-adda-725553a41671",
   "metadata": {},
   "outputs": [
    {
     "data": {
      "text/plain": [
       "Text(0, 0.5, 'Total Calls')"
      ]
     },
     "execution_count": 20,
     "metadata": {},
     "output_type": "execute_result"
    },
    {
     "data": {
      "image/png": "[encoded data removed]",
      "text/plain": [
       "<Figure size 640x480 with 1 Axes>"
      ]
     },
     "metadata": {},
     "output_type": "display_data"
    }
   ],
   "source": [
    "#Total Quick Calls in the North Branch by Rep ID answered within 2 seconds\n",
    "quick_stats_sorted['Calls'].plot(kind='bar',color='black')\n",
    "plt.title('Total Quick Calls by Rep ID in North Branch <=2 sec')\n",
    "plt.xlabel('Rep ID')\n",
    "plt.ylabel('Total Calls')"
   ]
  },
  {
   "cell_type": "code",
   "execution_count": 21,
   "id": "339b4414-b694-422f-9f7b-c2ca8147b408",
   "metadata": {},
   "outputs": [
    {
     "data": {
      "text/plain": [
       "Text(0, 0.5, 'Total Calls')"
      ]
     },
     "execution_count": 21,
     "metadata": {},
     "output_type": "execute_result"
    },
    {
     "data": {
      "image/png": "[encoded data removed]",
      "text/plain": [
       "<Figure size 640x480 with 1 Axes>"
      ]
     },
     "metadata": {},
     "output_type": "display_data"
    }
   ],
   "source": [
    "#Total Incoming Calls in the North Branch by Rep ID \n",
    "total_stats_sorted['Calls'].plot(kind='bar',color='Blue')\n",
    "plt.title('Total Incoming Calls by Rep ID in North Branch')\n",
    "plt.xlabel('Rep ID')\n",
    "plt.ylabel('Total Calls')"
   ]
  },
  {
   "cell_type": "code",
   "execution_count": 22,
   "id": "1bb178cb-b47a-41c4-a618-8474858df590",
   "metadata": {},
   "outputs": [
    {
     "data": {
      "text/plain": [
       "Text(0, 0.5, 'Total Calls')"
      ]
     },
     "execution_count": 22,
     "metadata": {},
     "output_type": "execute_result"
    },
    {
     "data": {
      "image/png": "[encoded data removed]",
      "text/plain": [
       "<Figure size 640x480 with 1 Axes>"
      ]
     },
     "metadata": {},
     "output_type": "display_data"
    }
   ],
   "source": [
    "#Total Incoming Calls in the South Branch by Rep ID \n",
    "total_stats2_sorted['Calls'].plot(kind='bar',color='Red')\n",
    "plt.title('Total Incoming Calls by Rep ID in South Branch')\n",
    "plt.xlabel('Rep ID')\n",
    "plt.ylabel('Total Calls')"
   ]
  },
  {
   "cell_type": "code",
   "execution_count": 23,
   "id": "8f5e2858-d9c3-4771-8f1d-9f7f45c8a4ee",
   "metadata": {},
   "outputs": [
    {
     "data": {
      "text/plain": [
       "Text(0, 0.5, 'Service Level %')"
      ]
     },
     "execution_count": 23,
     "metadata": {},
     "output_type": "execute_result"
    },
    {
     "data": {
      "image/png": "[encoded data removed]",
      "text/plain": [
       "<Figure size 640x480 with 1 Axes>"
      ]
     },
     "metadata": {},
     "output_type": "display_data"
    }
   ],
   "source": [
    "#Service Level Percentage in the North Branch by Rep ID \n",
    "service_level_sorted['Service Level %'].plot(kind='bar',color='Orange')\n",
    "plt.title('Service Level Percentage in North Branch by Rep ID')\n",
    "plt.xlabel('Rep ID')\n",
    "plt.ylabel('Service Level %')"
   ]
  },
  {
   "cell_type": "code",
   "execution_count": 24,
   "id": "3587bb0e-06ba-45b9-bc88-619b5d52e365",
   "metadata": {},
   "outputs": [
    {
     "data": {
      "text/plain": [
       "Text(0, 0.5, 'Service Level %')"
      ]
     },
     "execution_count": 24,
     "metadata": {},
     "output_type": "execute_result"
    },
    {
     "data": {
      "image/png": "[encoded data removed]",
      "text/plain": [
       "<Figure size 640x480 with 1 Axes>"
      ]
     },
     "metadata": {},
     "output_type": "display_data"
    }
   ],
   "source": [
    "#Service Level Percentage in the South Branch by Rep ID \n",
    "service_level2_sorted['Service Level2 %'].plot(kind='bar',color='Purple')\n",
    "plt.title('Service Level Percentage in South Branch by Rep ID')\n",
    "plt.xlabel('Rep ID')\n",
    "plt.ylabel('Service Level %')"
   ]
  },
  {
   "cell_type": "markdown",
   "id": "4d4cad4d-f9fb-4927-8a45-4b5cd17edd3a",
   "metadata": {},
   "source": [
    "##### Record your answer below:\n",
    "\n",
    "> Chart style you chose and why: I chose bar charts. I felt bar charts were the simplest and cleanest way to compare individual reps. "
   ]
  },
  {
   "cell_type": "markdown",
   "id": "f965e41a",
   "metadata": {},
   "source": [
    "#### Visualization 3: For each type of call purpose, how many calls are outgoing vs. incoming?"
   ]
  },
  {
   "cell_type": "code",
   "execution_count": 27,
   "id": "44096730",
   "metadata": {},
   "outputs": [
    {
     "name": "stdout",
     "output_type": "stream",
     "text": [
      "Call Purpose     Incoming or Outgoing\n",
      "Complaint        Incoming                 15\n",
      "Product Support  Outgoing                111\n",
      "                 Incoming                 34\n",
      "Sales Support    Outgoing                 52\n",
      "                 Incoming                 33\n",
      "Name: count, dtype: int64\n"
     ]
    },
    {
     "data": {
      "image/png": "[encoded data removed]",
      "text/plain": [
       "<Figure size 640x480 with 1 Axes>"
      ]
     },
     "metadata": {},
     "output_type": "display_data"
    }
   ],
   "source": [
    "# Create visualization 3 here:\n",
    "# The three dictionaries, complaints, sales_support, and product_support, have the information you need\n",
    "\n",
    "purpose_group = df.groupby(\"Call Purpose\")\n",
    "call_purpose = [\"Complaint\", \"Product Support\", \"Sales Support\"]\n",
    "purpose_counts = purpose_group[\"Incoming or Outgoing\"].value_counts()\n",
    "print(purpose_counts)\n",
    "\n",
    "complaints = purpose_counts[\"Complaint\"].to_dict()\n",
    "sales_support = purpose_counts[\"Sales Support\"].to_dict()\n",
    "product_support = purpose_counts[\"Product Support\"].to_dict()\n",
    "\n",
    "complaints_count = purpose_counts['Complaint'].sum()\n",
    "sales_support_count = purpose_counts['Sales Support'].sum()\n",
    "product_support_count = purpose_counts['Product Support'].sum()\n",
    "\n",
    "labels = ['Complaints', 'Sales Support', 'Product Support']\n",
    "sizes = [complaints_count, sales_support_count, product_support_count]\n",
    "\n",
    "plt.pie(sizes, labels=labels)\n",
    "plt.title('Call Purpose')\n",
    "\n",
    "plt.show()\n",
    "\n",
    "\n",
    "\n"
   ]
  },
  {
   "cell_type": "markdown",
   "id": "9198bbe4-44ef-4e21-bd40-6ace8e9f7694",
   "metadata": {},
   "source": [
    "##### Record your answer below:\n",
    "\n",
    "> Chart style you chose and why: I chose a pie chart. I felt that a pie chart was an easy way to compare the amount of calls that fell within each purpose. There were only three categories so it's a very organized pie chart. I know pie charts can look more disorganized and chaotic as there are more slices of the pie. "
   ]
  },
  {
   "cell_type": "markdown",
   "id": "ea7ed568",
   "metadata": {},
   "source": [
    "## Task 5: Summarize Your Work\n",
    "\n",
    "With what you know now about the two call centers and the entire company, answer the following questions. Note that while this is subjective, you should include relevant data to back up your opinion.\n"
   ]
  },
  {
   "cell_type": "markdown",
   "id": "d2fc3d13",
   "metadata": {},
   "source": [
    "#### Summary Question 1:  Using KPIs such as average abandonment rate, service level and average speed of answer, in your opinion, which one of the two branches is operating more efficiently? Why?\n",
    "\n",
    "##### Record your answer below:\n",
    "> Your Answer: I would actually say the North Branch is operating more efficiently. They have fewer reps and maintain equal or very close numbers to the South Branch. North Branch has higher abandonment rates, which would be an area of improvement. The North Branch had lower Busy Minutes, equal Not Ready Minutes, and lower During Call Wait Time. The North Branch had the rep with the highest number of calls despite being the smaller branch. North Branch also had a higher percentage of calls answered within the desired 2 second time frame. \n"
   ]
  },
  {
   "cell_type": "markdown",
   "id": "489f28d6",
   "metadata": {},
   "source": [
    "#### Summary Question 2: Based on the number of reps in each branch and how quickly the reps are working, in your opinion, which branch would benefit from the extra help?\n",
    "\n",
    "##### Record your answer below:\n",
    "> Your Answer: This is a difficult question, because I feel the North Branch is working more efficiently but they already have 2 less reps. In theory, the rep would go to the South Branch, but I don't think the number of reps is the issue. I think the South Branch needs to address ways in which they could improve with their current 11 reps and the additional rep should go to the North Branch. \n"
   ]
  },
  {
   "cell_type": "markdown",
   "id": "0b10a8c3",
   "metadata": {},
   "source": [
    "#### Summary Question 3: Now that you have explored the datasets, is there any data or information that you wish you had in this analysis?\n",
    "\n",
    "##### Record your answer below:\n",
    "> Your Answer: I guess I would like to know how long calls last or if the company has a desired call length time. I would also like to know if the branches field the same issues or if they handle different call reasons. Maybe also how many reps are staffed on a given day/time and if they have more staff during their busy hours. There might be times where more calls come in (likely before or after people work or during lunchtime). \n"
   ]
  },
  {
   "cell_type": "markdown",
   "id": "ce16f43d",
   "metadata": {},
   "source": [
    "## Bonus Mission\n",
    "Create a visualization that answers this question: For each call purpose, how many calls (incoming and outgoing) take place in each time block?\n",
    "##### Record your answer below:\n",
    "\n",
    "> Chart style you chose and why: "
   ]
  },
  {
   "cell_type": "code",
   "execution_count": 56,
   "id": "71b04f32",
   "metadata": {},
   "outputs": [],
   "source": [
    "# Create your Bonus Mission visualization here!\n",
    "call_times = df[[\"Time Block\", \"Call Purpose\", \"Incoming or Outgoing\", \"Calls\"]]\n",
    "\n",
    "# Use groupby to plot based on time blocks:\n",
    "\n",
    "# Use groupby and get_group to select which call purpose to plot:"
   ]
  }
 ],
 "metadata": {
  "kernelspec": {
   "display_name": "Python 3 (ipykernel)",
   "language": "python",
   "name": "python3"
  },
  "language_info": {
   "codemirror_mode": {
    "name": "ipython",
    "version": 3
   },
   "file_extension": ".py",
   "mimetype": "text/x-python",
   "name": "python",
   "nbconvert_exporter": "python",
   "pygments_lexer": "ipython3",
   "version": "3.12.4"
  }
 },
 "nbformat": 4,
 "nbformat_minor": 5
}
